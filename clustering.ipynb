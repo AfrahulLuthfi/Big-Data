{
 "cells": [
  {
   "cell_type": "code",
   "execution_count": 1,
   "id": "b712be85",
   "metadata": {
    "_cell_guid": "b1076dfc-b9ad-4769-8c92-a6c4dae69d19",
    "_uuid": "8f2839f25d086af736a60e9eeb907d3b93b6e0e5",
    "execution": {
     "iopub.execute_input": "2022-04-15T08:03:00.704212Z",
     "iopub.status.busy": "2022-04-15T08:03:00.703613Z",
     "iopub.status.idle": "2022-04-15T08:03:00.727211Z",
     "shell.execute_reply": "2022-04-15T08:03:00.726488Z"
    },
    "papermill": {
     "duration": 0.077907,
     "end_time": "2022-04-15T08:03:00.729547",
     "exception": false,
     "start_time": "2022-04-15T08:03:00.651640",
     "status": "completed"
    },
    "tags": []
   },
   "outputs": [
    {
     "name": "stdout",
     "output_type": "stream",
     "text": [
      "/kaggle/input/emitten-list/Emittenlist.csv\n",
      "/kaggle/input/pertambangan/pertambangan.csv\n"
     ]
    }
   ],
   "source": [
    "# This Python 3 environment comes with many helpful analytics libraries installed\n",
    "# It is defined by the kaggle/python Docker image: https://github.com/kaggle/docker-python\n",
    "# For example, here's several helpful packages to load\n",
    "\n",
    "import numpy as np # linear algebra\n",
    "import pandas as pd # data processing, CSV file I/O (e.g. pd.read_csv)\n",
    "\n",
    "# Input data files are available in the read-only \"../input/\" directory\n",
    "# For example, running this (by clicking run or pressing Shift+Enter) will list all files under the input directory\n",
    "\n",
    "import os\n",
    "for dirname, _, filenames in os.walk('/kaggle/input'):\n",
    "    for filename in filenames:\n",
    "        print(os.path.join(dirname, filename))\n",
    "\n",
    "# You can write up to 20GB to the current directory (/kaggle/working/) that gets preserved as output when you create a version using \"Save & Run All\" \n",
    "# You can also write temporary files to /kaggle/temp/, but they won't be saved outside of the current session"
   ]
  },
  {
   "cell_type": "code",
   "execution_count": 2,
   "id": "23f25adb",
   "metadata": {
    "execution": {
     "iopub.execute_input": "2022-04-15T08:03:00.830535Z",
     "iopub.status.busy": "2022-04-15T08:03:00.830037Z",
     "iopub.status.idle": "2022-04-15T08:03:01.947197Z",
     "shell.execute_reply": "2022-04-15T08:03:01.946291Z"
    },
    "papermill": {
     "duration": 1.169225,
     "end_time": "2022-04-15T08:03:01.949767",
     "exception": false,
     "start_time": "2022-04-15T08:03:00.780542",
     "status": "completed"
    },
    "tags": []
   },
   "outputs": [],
   "source": [
    "import pandas as pd \n",
    "import numpy as np\n",
    "import matplotlib.pyplot as plt\n",
    "import seaborn as sns\n",
    "from matplotlib.colors import ListedColormap\n",
    "%matplotlib inline\n",
    "from scipy import stats\n"
   ]
  },
  {
   "cell_type": "markdown",
   "id": "bf9b2834",
   "metadata": {
    "papermill": {
     "duration": 0.048185,
     "end_time": "2022-04-15T08:03:02.048047",
     "exception": false,
     "start_time": "2022-04-15T08:03:01.999862",
     "status": "completed"
    },
    "tags": []
   },
   "source": [
    "# **1. Exploratory Data Analysis**"
   ]
  },
  {
   "cell_type": "markdown",
   "id": "6899ff4c",
   "metadata": {
    "papermill": {
     "duration": 0.048675,
     "end_time": "2022-04-15T08:03:02.146779",
     "exception": false,
     "start_time": "2022-04-15T08:03:02.098104",
     "status": "completed"
    },
    "tags": []
   },
   "source": [
    "# **1.1 Load Data**"
   ]
  },
  {
   "cell_type": "code",
   "execution_count": 3,
   "id": "084972cd",
   "metadata": {
    "execution": {
     "iopub.execute_input": "2022-04-15T08:03:02.248754Z",
     "iopub.status.busy": "2022-04-15T08:03:02.248438Z",
     "iopub.status.idle": "2022-04-15T08:03:02.284027Z",
     "shell.execute_reply": "2022-04-15T08:03:02.283222Z"
    },
    "papermill": {
     "duration": 0.091069,
     "end_time": "2022-04-15T08:03:02.286422",
     "exception": false,
     "start_time": "2022-04-15T08:03:02.195353",
     "status": "completed"
    },
    "tags": []
   },
   "outputs": [
    {
     "name": "stdout",
     "output_type": "stream",
     "text": [
      "<class 'pandas.core.frame.DataFrame'>\n",
      "RangeIndex: 6 entries, 0 to 5\n",
      "Data columns (total 6 columns):\n",
      " #   Column                   Non-Null Count  Dtype  \n",
      "---  ------                   --------------  -----  \n",
      " 0   Emitten                  6 non-null      object \n",
      " 1   DER                      6 non-null      float64\n",
      " 2   Operating Profit Margin  6 non-null      float64\n",
      " 3   Return On Asset          6 non-null      float64\n",
      " 4   Sales Growth             6 non-null      float64\n",
      " 5   Category                 0 non-null      float64\n",
      "dtypes: float64(5), object(1)\n",
      "memory usage: 416.0+ bytes\n"
     ]
    }
   ],
   "source": [
    "df0 = pd.read_csv('../input/pertambangan/pertambangan.csv')\n",
    "df0.info()"
   ]
  },
  {
   "cell_type": "code",
   "execution_count": 4,
   "id": "ed80df57",
   "metadata": {
    "execution": {
     "iopub.execute_input": "2022-04-15T08:03:02.386581Z",
     "iopub.status.busy": "2022-04-15T08:03:02.385463Z",
     "iopub.status.idle": "2022-04-15T08:03:02.422580Z",
     "shell.execute_reply": "2022-04-15T08:03:02.421652Z"
    },
    "papermill": {
     "duration": 0.090028,
     "end_time": "2022-04-15T08:03:02.425175",
     "exception": false,
     "start_time": "2022-04-15T08:03:02.335147",
     "status": "completed"
    },
    "tags": []
   },
   "outputs": [
    {
     "data": {
      "text/html": [
       "<div>\n",
       "<style scoped>\n",
       "    .dataframe tbody tr th:only-of-type {\n",
       "        vertical-align: middle;\n",
       "    }\n",
       "\n",
       "    .dataframe tbody tr th {\n",
       "        vertical-align: top;\n",
       "    }\n",
       "\n",
       "    .dataframe thead th {\n",
       "        text-align: right;\n",
       "    }\n",
       "</style>\n",
       "<table border=\"1\" class=\"dataframe\">\n",
       "  <thead>\n",
       "    <tr style=\"text-align: right;\">\n",
       "      <th></th>\n",
       "      <th>DER</th>\n",
       "      <th>Operating Profit Margin</th>\n",
       "      <th>Return On Asset</th>\n",
       "      <th>Sales Growth</th>\n",
       "      <th>Category</th>\n",
       "    </tr>\n",
       "  </thead>\n",
       "  <tbody>\n",
       "    <tr>\n",
       "      <th>count</th>\n",
       "      <td>6.000000</td>\n",
       "      <td>6.000000</td>\n",
       "      <td>6.000000</td>\n",
       "      <td>6.000000</td>\n",
       "      <td>0.0</td>\n",
       "    </tr>\n",
       "    <tr>\n",
       "      <th>mean</th>\n",
       "      <td>1.617647</td>\n",
       "      <td>0.588187</td>\n",
       "      <td>0.001798</td>\n",
       "      <td>0.209530</td>\n",
       "      <td>NaN</td>\n",
       "    </tr>\n",
       "    <tr>\n",
       "      <th>std</th>\n",
       "      <td>1.586060</td>\n",
       "      <td>0.729932</td>\n",
       "      <td>0.092940</td>\n",
       "      <td>0.499297</td>\n",
       "      <td>NaN</td>\n",
       "    </tr>\n",
       "    <tr>\n",
       "      <th>min</th>\n",
       "      <td>0.061522</td>\n",
       "      <td>-0.339042</td>\n",
       "      <td>-0.151998</td>\n",
       "      <td>-0.371777</td>\n",
       "      <td>NaN</td>\n",
       "    </tr>\n",
       "    <tr>\n",
       "      <th>25%</th>\n",
       "      <td>0.321239</td>\n",
       "      <td>0.163267</td>\n",
       "      <td>-0.027307</td>\n",
       "      <td>-0.219633</td>\n",
       "      <td>NaN</td>\n",
       "    </tr>\n",
       "    <tr>\n",
       "      <th>50%</th>\n",
       "      <td>1.236707</td>\n",
       "      <td>0.465073</td>\n",
       "      <td>0.010919</td>\n",
       "      <td>0.256043</td>\n",
       "      <td>NaN</td>\n",
       "    </tr>\n",
       "    <tr>\n",
       "      <th>75%</th>\n",
       "      <td>3.000349</td>\n",
       "      <td>1.028237</td>\n",
       "      <td>0.046199</td>\n",
       "      <td>0.532485</td>\n",
       "      <td>NaN</td>\n",
       "    </tr>\n",
       "    <tr>\n",
       "      <th>max</th>\n",
       "      <td>3.566634</td>\n",
       "      <td>1.659396</td>\n",
       "      <td>0.123039</td>\n",
       "      <td>0.870433</td>\n",
       "      <td>NaN</td>\n",
       "    </tr>\n",
       "  </tbody>\n",
       "</table>\n",
       "</div>"
      ],
      "text/plain": [
       "            DER  Operating Profit Margin  Return On Asset  Sales Growth  \\\n",
       "count  6.000000                 6.000000         6.000000      6.000000   \n",
       "mean   1.617647                 0.588187         0.001798      0.209530   \n",
       "std    1.586060                 0.729932         0.092940      0.499297   \n",
       "min    0.061522                -0.339042        -0.151998     -0.371777   \n",
       "25%    0.321239                 0.163267        -0.027307     -0.219633   \n",
       "50%    1.236707                 0.465073         0.010919      0.256043   \n",
       "75%    3.000349                 1.028237         0.046199      0.532485   \n",
       "max    3.566634                 1.659396         0.123039      0.870433   \n",
       "\n",
       "       Category  \n",
       "count       0.0  \n",
       "mean        NaN  \n",
       "std         NaN  \n",
       "min         NaN  \n",
       "25%         NaN  \n",
       "50%         NaN  \n",
       "75%         NaN  \n",
       "max         NaN  "
      ]
     },
     "execution_count": 4,
     "metadata": {},
     "output_type": "execute_result"
    }
   ],
   "source": [
    "df0.describe()"
   ]
  },
  {
   "cell_type": "markdown",
   "id": "6115aea0",
   "metadata": {
    "papermill": {
     "duration": 0.048647,
     "end_time": "2022-04-15T08:03:02.524354",
     "exception": false,
     "start_time": "2022-04-15T08:03:02.475707",
     "status": "completed"
    },
    "tags": []
   },
   "source": [
    "# **1.2 Data Cleansing**"
   ]
  },
  {
   "cell_type": "code",
   "execution_count": 5,
   "id": "7dfb4f85",
   "metadata": {
    "execution": {
     "iopub.execute_input": "2022-04-15T08:03:02.625362Z",
     "iopub.status.busy": "2022-04-15T08:03:02.624771Z",
     "iopub.status.idle": "2022-04-15T08:03:02.630401Z",
     "shell.execute_reply": "2022-04-15T08:03:02.629654Z"
    },
    "papermill": {
     "duration": 0.058534,
     "end_time": "2022-04-15T08:03:02.632620",
     "exception": false,
     "start_time": "2022-04-15T08:03:02.574086",
     "status": "completed"
    },
    "tags": []
   },
   "outputs": [],
   "source": [
    "df0.drop([\"Emitten\",\"Category\"], axis=1, inplace=True)"
   ]
  },
  {
   "cell_type": "markdown",
   "id": "0cdc5fb4",
   "metadata": {
    "papermill": {
     "duration": 0.048811,
     "end_time": "2022-04-15T08:03:02.732189",
     "exception": false,
     "start_time": "2022-04-15T08:03:02.683378",
     "status": "completed"
    },
    "tags": []
   },
   "source": [
    "# **1.3 Scatter Plot**"
   ]
  },
  {
   "cell_type": "code",
   "execution_count": 6,
   "id": "4b2dae68",
   "metadata": {
    "execution": {
     "iopub.execute_input": "2022-04-15T08:03:02.832532Z",
     "iopub.status.busy": "2022-04-15T08:03:02.831944Z",
     "iopub.status.idle": "2022-04-15T08:03:04.636438Z",
     "shell.execute_reply": "2022-04-15T08:03:04.635637Z"
    },
    "papermill": {
     "duration": 1.857539,
     "end_time": "2022-04-15T08:03:04.638840",
     "exception": false,
     "start_time": "2022-04-15T08:03:02.781301",
     "status": "completed"
    },
    "tags": []
   },
   "outputs": [
    {
     "data": {
      "text/plain": [
       "<Figure size 1080x1080 with 0 Axes>"
      ]
     },
     "metadata": {},
     "output_type": "display_data"
    },
    {
     "data": {
      "image/png": "[encoded data removed]",
      "text/plain": [
       "<Figure size 540x540 with 12 Axes>"
      ]
     },
     "metadata": {
      "needs_background": "light"
     },
     "output_type": "display_data"
    }
   ],
   "source": [
    "plt.figure(figsize=(15, 15))\n",
    "sns.pairplot(df0, vars = df0.columns[1:13]);"
   ]
  },
  {
   "cell_type": "markdown",
   "id": "415abf76",
   "metadata": {
    "papermill": {
     "duration": 0.04995,
     "end_time": "2022-04-15T08:03:04.739457",
     "exception": false,
     "start_time": "2022-04-15T08:03:04.689507",
     "status": "completed"
    },
    "tags": []
   },
   "source": [
    "# **2. Clustering**"
   ]
  },
  {
   "cell_type": "markdown",
   "id": "03c2be1c",
   "metadata": {
    "papermill": {
     "duration": 0.051856,
     "end_time": "2022-04-15T08:03:04.842585",
     "exception": false,
     "start_time": "2022-04-15T08:03:04.790729",
     "status": "completed"
    },
    "tags": []
   },
   "source": [
    "# **2.1 Load Data**"
   ]
  },
  {
   "cell_type": "code",
   "execution_count": 7,
   "id": "efcca94e",
   "metadata": {
    "execution": {
     "iopub.execute_input": "2022-04-15T08:03:04.946070Z",
     "iopub.status.busy": "2022-04-15T08:03:04.945641Z",
     "iopub.status.idle": "2022-04-15T08:03:04.975101Z",
     "shell.execute_reply": "2022-04-15T08:03:04.974170Z"
    },
    "papermill": {
     "duration": 0.083767,
     "end_time": "2022-04-15T08:03:04.977272",
     "exception": false,
     "start_time": "2022-04-15T08:03:04.893505",
     "status": "completed"
    },
    "tags": []
   },
   "outputs": [
    {
     "data": {
      "text/html": [
       "<div>\n",
       "<style scoped>\n",
       "    .dataframe tbody tr th:only-of-type {\n",
       "        vertical-align: middle;\n",
       "    }\n",
       "\n",
       "    .dataframe tbody tr th {\n",
       "        vertical-align: top;\n",
       "    }\n",
       "\n",
       "    .dataframe thead th {\n",
       "        text-align: right;\n",
       "    }\n",
       "</style>\n",
       "<table border=\"1\" class=\"dataframe\">\n",
       "  <thead>\n",
       "    <tr style=\"text-align: right;\">\n",
       "      <th></th>\n",
       "      <th>DER</th>\n",
       "      <th>Operating Profit Margin</th>\n",
       "      <th>Return On Asset</th>\n",
       "      <th>Sales Growth</th>\n",
       "      <th>Category</th>\n",
       "    </tr>\n",
       "  </thead>\n",
       "  <tbody>\n",
       "    <tr>\n",
       "      <th>count</th>\n",
       "      <td>6.000000</td>\n",
       "      <td>6.000000</td>\n",
       "      <td>6.000000</td>\n",
       "      <td>6.000000</td>\n",
       "      <td>0.0</td>\n",
       "    </tr>\n",
       "    <tr>\n",
       "      <th>mean</th>\n",
       "      <td>1.617647</td>\n",
       "      <td>0.588187</td>\n",
       "      <td>0.001798</td>\n",
       "      <td>0.209530</td>\n",
       "      <td>NaN</td>\n",
       "    </tr>\n",
       "    <tr>\n",
       "      <th>std</th>\n",
       "      <td>1.586060</td>\n",
       "      <td>0.729932</td>\n",
       "      <td>0.092940</td>\n",
       "      <td>0.499297</td>\n",
       "      <td>NaN</td>\n",
       "    </tr>\n",
       "    <tr>\n",
       "      <th>min</th>\n",
       "      <td>0.061522</td>\n",
       "      <td>-0.339042</td>\n",
       "      <td>-0.151998</td>\n",
       "      <td>-0.371777</td>\n",
       "      <td>NaN</td>\n",
       "    </tr>\n",
       "    <tr>\n",
       "      <th>25%</th>\n",
       "      <td>0.321239</td>\n",
       "      <td>0.163267</td>\n",
       "      <td>-0.027307</td>\n",
       "      <td>-0.219633</td>\n",
       "      <td>NaN</td>\n",
       "    </tr>\n",
       "    <tr>\n",
       "      <th>50%</th>\n",
       "      <td>1.236707</td>\n",
       "      <td>0.465073</td>\n",
       "      <td>0.010919</td>\n",
       "      <td>0.256043</td>\n",
       "      <td>NaN</td>\n",
       "    </tr>\n",
       "    <tr>\n",
       "      <th>75%</th>\n",
       "      <td>3.000349</td>\n",
       "      <td>1.028237</td>\n",
       "      <td>0.046199</td>\n",
       "      <td>0.532485</td>\n",
       "      <td>NaN</td>\n",
       "    </tr>\n",
       "    <tr>\n",
       "      <th>max</th>\n",
       "      <td>3.566634</td>\n",
       "      <td>1.659396</td>\n",
       "      <td>0.123039</td>\n",
       "      <td>0.870433</td>\n",
       "      <td>NaN</td>\n",
       "    </tr>\n",
       "  </tbody>\n",
       "</table>\n",
       "</div>"
      ],
      "text/plain": [
       "            DER  Operating Profit Margin  Return On Asset  Sales Growth  \\\n",
       "count  6.000000                 6.000000         6.000000      6.000000   \n",
       "mean   1.617647                 0.588187         0.001798      0.209530   \n",
       "std    1.586060                 0.729932         0.092940      0.499297   \n",
       "min    0.061522                -0.339042        -0.151998     -0.371777   \n",
       "25%    0.321239                 0.163267        -0.027307     -0.219633   \n",
       "50%    1.236707                 0.465073         0.010919      0.256043   \n",
       "75%    3.000349                 1.028237         0.046199      0.532485   \n",
       "max    3.566634                 1.659396         0.123039      0.870433   \n",
       "\n",
       "       Category  \n",
       "count       0.0  \n",
       "mean        NaN  \n",
       "std         NaN  \n",
       "min         NaN  \n",
       "25%         NaN  \n",
       "50%         NaN  \n",
       "75%         NaN  \n",
       "max         NaN  "
      ]
     },
     "execution_count": 7,
     "metadata": {},
     "output_type": "execute_result"
    }
   ],
   "source": [
    "df0 = pd.read_csv('../input/pertambangan/pertambangan.csv')\n",
    "df1 = df0[['DER','Operating Profit Margin' ,'Return On Asset','Sales Growth','Category']]\n",
    "df1.describe()"
   ]
  },
  {
   "cell_type": "code",
   "execution_count": 8,
   "id": "b63cdf68",
   "metadata": {
    "execution": {
     "iopub.execute_input": "2022-04-15T08:03:05.083115Z",
     "iopub.status.busy": "2022-04-15T08:03:05.082727Z",
     "iopub.status.idle": "2022-04-15T08:03:05.328744Z",
     "shell.execute_reply": "2022-04-15T08:03:05.327635Z"
    },
    "papermill": {
     "duration": 0.302162,
     "end_time": "2022-04-15T08:03:05.330999",
     "exception": false,
     "start_time": "2022-04-15T08:03:05.028837",
     "status": "completed"
    },
    "tags": []
   },
   "outputs": [
    {
     "data": {
      "text/plain": [
       "<AxesSubplot:xlabel='Emitten', ylabel='Operating Profit Margin'>"
      ]
     },
     "execution_count": 8,
     "metadata": {},
     "output_type": "execute_result"
    },
    {
     "data": {
      "image/png": "[encoded data removed]",
      "text/plain": [
       "<Figure size 1296x288 with 1 Axes>"
      ]
     },
     "metadata": {
      "needs_background": "light"
     },
     "output_type": "display_data"
    }
   ],
   "source": [
    "plt.figure(figsize=(18, 4))\n",
    "plt.xticks(rotation=45)\n",
    "sns.scatterplot(x='Emitten', y='Operating Profit Margin', \n",
    "                data=df0, s=80)"
   ]
  },
  {
   "cell_type": "code",
   "execution_count": 9,
   "id": "eb96d1e8",
   "metadata": {
    "execution": {
     "iopub.execute_input": "2022-04-15T08:03:05.438822Z",
     "iopub.status.busy": "2022-04-15T08:03:05.438236Z",
     "iopub.status.idle": "2022-04-15T08:03:05.798855Z",
     "shell.execute_reply": "2022-04-15T08:03:05.797861Z"
    },
    "papermill": {
     "duration": 0.417257,
     "end_time": "2022-04-15T08:03:05.801135",
     "exception": false,
     "start_time": "2022-04-15T08:03:05.383878",
     "status": "completed"
    },
    "tags": []
   },
   "outputs": [
    {
     "data": {
      "text/plain": [
       "<AxesSubplot:xlabel='Emitten', ylabel='DER'>"
      ]
     },
     "execution_count": 9,
     "metadata": {},
     "output_type": "execute_result"
    },
    {
     "data": {
      "image/png": "[encoded data removed]",
      "text/plain": [
       "<Figure size 1296x288 with 1 Axes>"
      ]
     },
     "metadata": {
      "needs_background": "light"
     },
     "output_type": "display_data"
    }
   ],
   "source": [
    "plt.figure(figsize=(18, 4))\n",
    "plt.xticks(rotation=45)\n",
    "sns.scatterplot(x='Emitten', y='DER', \n",
    "                data=df0, s=80)"
   ]
  },
  {
   "cell_type": "code",
   "execution_count": 10,
   "id": "c7948efb",
   "metadata": {
    "execution": {
     "iopub.execute_input": "2022-04-15T08:03:05.914531Z",
     "iopub.status.busy": "2022-04-15T08:03:05.913522Z",
     "iopub.status.idle": "2022-04-15T08:03:06.138248Z",
     "shell.execute_reply": "2022-04-15T08:03:06.137288Z"
    },
    "papermill": {
     "duration": 0.284468,
     "end_time": "2022-04-15T08:03:06.140282",
     "exception": false,
     "start_time": "2022-04-15T08:03:05.855814",
     "status": "completed"
    },
    "tags": []
   },
   "outputs": [
    {
     "data": {
      "text/plain": [
       "<AxesSubplot:xlabel='Emitten', ylabel='Sales Growth'>"
      ]
     },
     "execution_count": 10,
     "metadata": {},
     "output_type": "execute_result"
    },
    {
     "data": {
      "image/png": "[encoded data removed]",
      "text/plain": [
       "<Figure size 1296x288 with 1 Axes>"
      ]
     },
     "metadata": {
      "needs_background": "light"
     },
     "output_type": "display_data"
    }
   ],
   "source": [
    "plt.figure(figsize=(18, 4))\n",
    "plt.xticks(rotation=45)\n",
    "sns.scatterplot(x='Emitten', y='Sales Growth', \n",
    "                data=df0, s=80)"
   ]
  },
  {
   "cell_type": "markdown",
   "id": "f39f50f1",
   "metadata": {
    "papermill": {
     "duration": 0.055175,
     "end_time": "2022-04-15T08:03:06.250960",
     "exception": false,
     "start_time": "2022-04-15T08:03:06.195785",
     "status": "completed"
    },
    "tags": []
   },
   "source": [
    "# **2.2 Outlier**"
   ]
  },
  {
   "cell_type": "code",
   "execution_count": 11,
   "id": "b83e0db4",
   "metadata": {
    "execution": {
     "iopub.execute_input": "2022-04-15T08:03:06.363196Z",
     "iopub.status.busy": "2022-04-15T08:03:06.362906Z",
     "iopub.status.idle": "2022-04-15T08:03:06.371896Z",
     "shell.execute_reply": "2022-04-15T08:03:06.371074Z"
    },
    "papermill": {
     "duration": 0.067693,
     "end_time": "2022-04-15T08:03:06.374121",
     "exception": false,
     "start_time": "2022-04-15T08:03:06.306428",
     "status": "completed"
    },
    "tags": []
   },
   "outputs": [
    {
     "name": "stdout",
     "output_type": "stream",
     "text": [
      "Jumlah baris sebelum memfilter outlier: 6\n",
      "Jumlah baris setelah memfilter outlier: 6\n"
     ]
    }
   ],
   "source": [
    "print(f'Jumlah baris sebelum memfilter outlier: {len(df1)}')\n",
    "\n",
    "filtered_entries = np.array([False] * len(df1))\n",
    "for col in ['Operating Profit Margin']:\n",
    "    zscore = abs(stats.zscore(df1[col]))\n",
    "    filtered_entries = (zscore < 3) | filtered_entries\n",
    "    \n",
    "df1 = df1[filtered_entries]\n",
    "\n",
    "print(f'Jumlah baris setelah memfilter outlier: {len(df1)}')"
   ]
  },
  {
   "cell_type": "code",
   "execution_count": 12,
   "id": "16bf1de0",
   "metadata": {
    "execution": {
     "iopub.execute_input": "2022-04-15T08:03:06.488817Z",
     "iopub.status.busy": "2022-04-15T08:03:06.488514Z",
     "iopub.status.idle": "2022-04-15T08:03:06.514856Z",
     "shell.execute_reply": "2022-04-15T08:03:06.514212Z"
    },
    "papermill": {
     "duration": 0.0862,
     "end_time": "2022-04-15T08:03:06.516722",
     "exception": false,
     "start_time": "2022-04-15T08:03:06.430522",
     "status": "completed"
    },
    "tags": []
   },
   "outputs": [
    {
     "data": {
      "text/html": [
       "<div>\n",
       "<style scoped>\n",
       "    .dataframe tbody tr th:only-of-type {\n",
       "        vertical-align: middle;\n",
       "    }\n",
       "\n",
       "    .dataframe tbody tr th {\n",
       "        vertical-align: top;\n",
       "    }\n",
       "\n",
       "    .dataframe thead th {\n",
       "        text-align: right;\n",
       "    }\n",
       "</style>\n",
       "<table border=\"1\" class=\"dataframe\">\n",
       "  <thead>\n",
       "    <tr style=\"text-align: right;\">\n",
       "      <th></th>\n",
       "      <th>DER</th>\n",
       "      <th>Operating Profit Margin</th>\n",
       "      <th>Return On Asset</th>\n",
       "      <th>Sales Growth</th>\n",
       "      <th>Category</th>\n",
       "    </tr>\n",
       "  </thead>\n",
       "  <tbody>\n",
       "    <tr>\n",
       "      <th>count</th>\n",
       "      <td>6.000000</td>\n",
       "      <td>6.000000</td>\n",
       "      <td>6.000000</td>\n",
       "      <td>6.000000</td>\n",
       "      <td>0.0</td>\n",
       "    </tr>\n",
       "    <tr>\n",
       "      <th>mean</th>\n",
       "      <td>1.617647</td>\n",
       "      <td>0.588187</td>\n",
       "      <td>0.001798</td>\n",
       "      <td>0.209530</td>\n",
       "      <td>NaN</td>\n",
       "    </tr>\n",
       "    <tr>\n",
       "      <th>std</th>\n",
       "      <td>1.586060</td>\n",
       "      <td>0.729932</td>\n",
       "      <td>0.092940</td>\n",
       "      <td>0.499297</td>\n",
       "      <td>NaN</td>\n",
       "    </tr>\n",
       "    <tr>\n",
       "      <th>min</th>\n",
       "      <td>0.061522</td>\n",
       "      <td>-0.339042</td>\n",
       "      <td>-0.151998</td>\n",
       "      <td>-0.371777</td>\n",
       "      <td>NaN</td>\n",
       "    </tr>\n",
       "    <tr>\n",
       "      <th>25%</th>\n",
       "      <td>0.321239</td>\n",
       "      <td>0.163267</td>\n",
       "      <td>-0.027307</td>\n",
       "      <td>-0.219633</td>\n",
       "      <td>NaN</td>\n",
       "    </tr>\n",
       "    <tr>\n",
       "      <th>50%</th>\n",
       "      <td>1.236707</td>\n",
       "      <td>0.465073</td>\n",
       "      <td>0.010919</td>\n",
       "      <td>0.256043</td>\n",
       "      <td>NaN</td>\n",
       "    </tr>\n",
       "    <tr>\n",
       "      <th>75%</th>\n",
       "      <td>3.000349</td>\n",
       "      <td>1.028237</td>\n",
       "      <td>0.046199</td>\n",
       "      <td>0.532485</td>\n",
       "      <td>NaN</td>\n",
       "    </tr>\n",
       "    <tr>\n",
       "      <th>max</th>\n",
       "      <td>3.566634</td>\n",
       "      <td>1.659396</td>\n",
       "      <td>0.123039</td>\n",
       "      <td>0.870433</td>\n",
       "      <td>NaN</td>\n",
       "    </tr>\n",
       "  </tbody>\n",
       "</table>\n",
       "</div>"
      ],
      "text/plain": [
       "            DER  Operating Profit Margin  Return On Asset  Sales Growth  \\\n",
       "count  6.000000                 6.000000         6.000000      6.000000   \n",
       "mean   1.617647                 0.588187         0.001798      0.209530   \n",
       "std    1.586060                 0.729932         0.092940      0.499297   \n",
       "min    0.061522                -0.339042        -0.151998     -0.371777   \n",
       "25%    0.321239                 0.163267        -0.027307     -0.219633   \n",
       "50%    1.236707                 0.465073         0.010919      0.256043   \n",
       "75%    3.000349                 1.028237         0.046199      0.532485   \n",
       "max    3.566634                 1.659396         0.123039      0.870433   \n",
       "\n",
       "       Category  \n",
       "count       0.0  \n",
       "mean        NaN  \n",
       "std         NaN  \n",
       "min         NaN  \n",
       "25%         NaN  \n",
       "50%         NaN  \n",
       "75%         NaN  \n",
       "max         NaN  "
      ]
     },
     "execution_count": 12,
     "metadata": {},
     "output_type": "execute_result"
    }
   ],
   "source": [
    "df1.describe()"
   ]
  },
  {
   "cell_type": "markdown",
   "id": "d20335f3",
   "metadata": {
    "papermill": {
     "duration": 0.056267,
     "end_time": "2022-04-15T08:03:06.629648",
     "exception": false,
     "start_time": "2022-04-15T08:03:06.573381",
     "status": "completed"
    },
    "tags": []
   },
   "source": [
    "# **2.3 Standardisasi Fitur**"
   ]
  },
  {
   "cell_type": "code",
   "execution_count": 13,
   "id": "1b096d84",
   "metadata": {
    "execution": {
     "iopub.execute_input": "2022-04-15T08:03:06.744113Z",
     "iopub.status.busy": "2022-04-15T08:03:06.743814Z",
     "iopub.status.idle": "2022-04-15T08:03:06.911338Z",
     "shell.execute_reply": "2022-04-15T08:03:06.910462Z"
    },
    "papermill": {
     "duration": 0.227661,
     "end_time": "2022-04-15T08:03:06.913587",
     "exception": false,
     "start_time": "2022-04-15T08:03:06.685926",
     "status": "completed"
    },
    "tags": []
   },
   "outputs": [
    {
     "data": {
      "text/html": [
       "<div>\n",
       "<style scoped>\n",
       "    .dataframe tbody tr th:only-of-type {\n",
       "        vertical-align: middle;\n",
       "    }\n",
       "\n",
       "    .dataframe tbody tr th {\n",
       "        vertical-align: top;\n",
       "    }\n",
       "\n",
       "    .dataframe thead th {\n",
       "        text-align: right;\n",
       "    }\n",
       "</style>\n",
       "<table border=\"1\" class=\"dataframe\">\n",
       "  <thead>\n",
       "    <tr style=\"text-align: right;\">\n",
       "      <th></th>\n",
       "      <th>DER</th>\n",
       "      <th>Operating Profit Margin</th>\n",
       "      <th>Sales Growth</th>\n",
       "    </tr>\n",
       "  </thead>\n",
       "  <tbody>\n",
       "    <tr>\n",
       "      <th>count</th>\n",
       "      <td>6.000000e+00</td>\n",
       "      <td>6.000000e+00</td>\n",
       "      <td>6.000000e+00</td>\n",
       "    </tr>\n",
       "    <tr>\n",
       "      <th>mean</th>\n",
       "      <td>1.480297e-16</td>\n",
       "      <td>7.401487e-17</td>\n",
       "      <td>1.480297e-16</td>\n",
       "    </tr>\n",
       "    <tr>\n",
       "      <th>std</th>\n",
       "      <td>1.095445e+00</td>\n",
       "      <td>1.095445e+00</td>\n",
       "      <td>1.095445e+00</td>\n",
       "    </tr>\n",
       "    <tr>\n",
       "      <th>min</th>\n",
       "      <td>-1.074770e+00</td>\n",
       "      <td>-1.391538e+00</td>\n",
       "      <td>-1.275372e+00</td>\n",
       "    </tr>\n",
       "    <tr>\n",
       "      <th>25%</th>\n",
       "      <td>-8.953910e-01</td>\n",
       "      <td>-6.376991e-01</td>\n",
       "      <td>-9.415737e-01</td>\n",
       "    </tr>\n",
       "    <tr>\n",
       "      <th>50%</th>\n",
       "      <td>-2.631044e-01</td>\n",
       "      <td>-1.847630e-01</td>\n",
       "      <td>1.020471e-01</td>\n",
       "    </tr>\n",
       "    <tr>\n",
       "      <th>75%</th>\n",
       "      <td>9.549919e-01</td>\n",
       "      <td>6.604039e-01</td>\n",
       "      <td>7.085541e-01</td>\n",
       "    </tr>\n",
       "    <tr>\n",
       "      <th>max</th>\n",
       "      <td>1.346108e+00</td>\n",
       "      <td>1.607616e+00</td>\n",
       "      <td>1.450002e+00</td>\n",
       "    </tr>\n",
       "  </tbody>\n",
       "</table>\n",
       "</div>"
      ],
      "text/plain": [
       "                DER  Operating Profit Margin  Sales Growth\n",
       "count  6.000000e+00             6.000000e+00  6.000000e+00\n",
       "mean   1.480297e-16             7.401487e-17  1.480297e-16\n",
       "std    1.095445e+00             1.095445e+00  1.095445e+00\n",
       "min   -1.074770e+00            -1.391538e+00 -1.275372e+00\n",
       "25%   -8.953910e-01            -6.376991e-01 -9.415737e-01\n",
       "50%   -2.631044e-01            -1.847630e-01  1.020471e-01\n",
       "75%    9.549919e-01             6.604039e-01  7.085541e-01\n",
       "max    1.346108e+00             1.607616e+00  1.450002e+00"
      ]
     },
     "execution_count": 13,
     "metadata": {},
     "output_type": "execute_result"
    }
   ],
   "source": [
    "feats = ['DER','Operating Profit Margin','Sales Growth']\n",
    "X = df1[feats].values\n",
    "y = df1['Category'].values\n",
    "\n",
    "from sklearn.preprocessing import StandardScaler\n",
    "X_std = StandardScaler().fit_transform(X)\n",
    "new_df = pd.DataFrame(data = X_std, columns = feats)\n",
    "new_df.describe()"
   ]
  },
  {
   "cell_type": "markdown",
   "id": "bdb69c9a",
   "metadata": {
    "papermill": {
     "duration": 0.057456,
     "end_time": "2022-04-15T08:03:07.028084",
     "exception": false,
     "start_time": "2022-04-15T08:03:06.970628",
     "status": "completed"
    },
    "tags": []
   },
   "source": [
    "# **2.4 Lakukan K-means**"
   ]
  },
  {
   "cell_type": "code",
   "execution_count": 14,
   "id": "aefc16af",
   "metadata": {
    "execution": {
     "iopub.execute_input": "2022-04-15T08:03:07.146145Z",
     "iopub.status.busy": "2022-04-15T08:03:07.145855Z",
     "iopub.status.idle": "2022-04-15T08:03:07.423089Z",
     "shell.execute_reply": "2022-04-15T08:03:07.422198Z"
    },
    "papermill": {
     "duration": 0.340277,
     "end_time": "2022-04-15T08:03:07.425599",
     "exception": false,
     "start_time": "2022-04-15T08:03:07.085322",
     "status": "completed"
    },
    "tags": []
   },
   "outputs": [],
   "source": [
    "from sklearn.cluster import KMeans\n",
    "wcss=[]"
   ]
  },
  {
   "cell_type": "code",
   "execution_count": 15,
   "id": "2ee44860",
   "metadata": {
    "execution": {
     "iopub.execute_input": "2022-04-15T08:03:07.541262Z",
     "iopub.status.busy": "2022-04-15T08:03:07.540957Z",
     "iopub.status.idle": "2022-04-15T08:03:07.546262Z",
     "shell.execute_reply": "2022-04-15T08:03:07.545388Z"
    },
    "papermill": {
     "duration": 0.065425,
     "end_time": "2022-04-15T08:03:07.548271",
     "exception": false,
     "start_time": "2022-04-15T08:03:07.482846",
     "status": "completed"
    },
    "tags": []
   },
   "outputs": [
    {
     "data": {
      "text/plain": [
       "(6, 6)"
      ]
     },
     "execution_count": 15,
     "metadata": {},
     "output_type": "execute_result"
    }
   ],
   "source": [
    "df0.shape"
   ]
  },
  {
   "cell_type": "code",
   "execution_count": 16,
   "id": "2aac3401",
   "metadata": {
    "execution": {
     "iopub.execute_input": "2022-04-15T08:03:07.664677Z",
     "iopub.status.busy": "2022-04-15T08:03:07.664366Z",
     "iopub.status.idle": "2022-04-15T08:03:08.122272Z",
     "shell.execute_reply": "2022-04-15T08:03:08.121342Z"
    },
    "papermill": {
     "duration": 0.518974,
     "end_time": "2022-04-15T08:03:08.124354",
     "exception": false,
     "start_time": "2022-04-15T08:03:07.605380",
     "status": "completed"
    },
    "tags": []
   },
   "outputs": [
    {
     "data": {
      "text/plain": [
       "[<matplotlib.lines.Line2D at 0x7f4bd869b090>]"
      ]
     },
     "execution_count": 16,
     "metadata": {},
     "output_type": "execute_result"
    },
    {
     "data": {
      "image/png": "[encoded data removed]",
      "text/plain": [
       "<Figure size 864x432 with 1 Axes>"
      ]
     },
     "metadata": {
      "needs_background": "light"
     },
     "output_type": "display_data"
    }
   ],
   "source": [
    "from sklearn.cluster import KMeans\n",
    "inertia = []\n",
    "\n",
    "for i in range(1, 7):\n",
    "  kmeans = KMeans(n_clusters=i, init='k-means++', max_iter=300, n_init=10, random_state=0)\n",
    "  kmeans.fit(new_df.values)\n",
    "  inertia.append(kmeans.inertia_)\n",
    "\n",
    "plt.figure(figsize=(12, 6))\n",
    "plt.plot(inertia) #Elbow Method"
   ]
  },
  {
   "cell_type": "markdown",
   "id": "87d9d851",
   "metadata": {
    "papermill": {
     "duration": 0.058127,
     "end_time": "2022-04-15T08:03:08.241450",
     "exception": false,
     "start_time": "2022-04-15T08:03:08.183323",
     "status": "completed"
    },
    "tags": []
   },
   "source": [
    "Ternyata clustering paling optimal di 2 cluster (n_cluster = 2)"
   ]
  },
  {
   "cell_type": "markdown",
   "id": "225f5125",
   "metadata": {
    "papermill": {
     "duration": 0.058252,
     "end_time": "2022-04-15T08:03:08.358450",
     "exception": false,
     "start_time": "2022-04-15T08:03:08.300198",
     "status": "completed"
    },
    "tags": []
   },
   "source": [
    "# **2.5 Pilih Jumlah Cluster**"
   ]
  },
  {
   "cell_type": "code",
   "execution_count": 17,
   "id": "ccf1fcc6",
   "metadata": {
    "execution": {
     "iopub.execute_input": "2022-04-15T08:03:08.480633Z",
     "iopub.status.busy": "2022-04-15T08:03:08.480155Z",
     "iopub.status.idle": "2022-04-15T08:03:08.503979Z",
     "shell.execute_reply": "2022-04-15T08:03:08.503133Z"
    },
    "papermill": {
     "duration": 0.087587,
     "end_time": "2022-04-15T08:03:08.506120",
     "exception": false,
     "start_time": "2022-04-15T08:03:08.418533",
     "status": "completed"
    },
    "tags": []
   },
   "outputs": [
    {
     "data": {
      "text/plain": [
       "KMeans(n_clusters=2, random_state=0)"
      ]
     },
     "execution_count": 17,
     "metadata": {},
     "output_type": "execute_result"
    }
   ],
   "source": [
    "from sklearn.cluster import KMeans\n",
    "kmeans = KMeans(n_clusters=2, init='k-means++', max_iter=300, n_init=10, random_state=0)\n",
    "kmeans.fit(new_df.values)"
   ]
  },
  {
   "cell_type": "code",
   "execution_count": 18,
   "id": "3e5a7903",
   "metadata": {
    "execution": {
     "iopub.execute_input": "2022-04-15T08:03:08.629041Z",
     "iopub.status.busy": "2022-04-15T08:03:08.628740Z",
     "iopub.status.idle": "2022-04-15T08:03:08.635298Z",
     "shell.execute_reply": "2022-04-15T08:03:08.634425Z"
    },
    "papermill": {
     "duration": 0.070633,
     "end_time": "2022-04-15T08:03:08.637410",
     "exception": false,
     "start_time": "2022-04-15T08:03:08.566777",
     "status": "completed"
    },
    "tags": []
   },
   "outputs": [],
   "source": [
    "new_df['target'] = y\n",
    "new_df['fit'] = kmeans.labels_"
   ]
  },
  {
   "cell_type": "markdown",
   "id": "36a24d91",
   "metadata": {
    "papermill": {
     "duration": 0.060226,
     "end_time": "2022-04-15T08:03:08.757146",
     "exception": false,
     "start_time": "2022-04-15T08:03:08.696920",
     "status": "completed"
    },
    "tags": []
   },
   "source": [
    "# **2.6 Plot Cluster**"
   ]
  },
  {
   "cell_type": "code",
   "execution_count": 19,
   "id": "b9dd1db1",
   "metadata": {
    "execution": {
     "iopub.execute_input": "2022-04-15T08:03:08.877903Z",
     "iopub.status.busy": "2022-04-15T08:03:08.877308Z",
     "iopub.status.idle": "2022-04-15T08:03:09.110258Z",
     "shell.execute_reply": "2022-04-15T08:03:09.109266Z"
    },
    "papermill": {
     "duration": 0.296262,
     "end_time": "2022-04-15T08:03:09.112977",
     "exception": false,
     "start_time": "2022-04-15T08:03:08.816715",
     "status": "completed"
    },
    "tags": []
   },
   "outputs": [
    {
     "data": {
      "image/png": "[encoded data removed]",
      "text/plain": [
       "<Figure size 576x576 with 1 Axes>"
      ]
     },
     "metadata": {
      "needs_background": "light"
     },
     "output_type": "display_data"
    }
   ],
   "source": [
    "plt.rcParams[\"figure.figsize\"] = (8, 8)\n",
    "sns.scatterplot(x='DER', y='Operating Profit Margin', hue=new_df.target.to_list(), data=new_df);"
   ]
  },
  {
   "cell_type": "code",
   "execution_count": 20,
   "id": "eb462f74",
   "metadata": {
    "execution": {
     "iopub.execute_input": "2022-04-15T08:03:09.236814Z",
     "iopub.status.busy": "2022-04-15T08:03:09.235919Z",
     "iopub.status.idle": "2022-04-15T08:03:09.247235Z",
     "shell.execute_reply": "2022-04-15T08:03:09.246645Z"
    },
    "papermill": {
     "duration": 0.074672,
     "end_time": "2022-04-15T08:03:09.249082",
     "exception": false,
     "start_time": "2022-04-15T08:03:09.174410",
     "status": "completed"
    },
    "tags": []
   },
   "outputs": [
    {
     "data": {
      "text/html": [
       "<div>\n",
       "<style scoped>\n",
       "    .dataframe tbody tr th:only-of-type {\n",
       "        vertical-align: middle;\n",
       "    }\n",
       "\n",
       "    .dataframe tbody tr th {\n",
       "        vertical-align: top;\n",
       "    }\n",
       "\n",
       "    .dataframe thead th {\n",
       "        text-align: right;\n",
       "    }\n",
       "</style>\n",
       "<table border=\"1\" class=\"dataframe\">\n",
       "  <thead>\n",
       "    <tr style=\"text-align: right;\">\n",
       "      <th></th>\n",
       "      <th>DER</th>\n",
       "      <th>Operating Profit Margin</th>\n",
       "      <th>Sales Growth</th>\n",
       "      <th>target</th>\n",
       "      <th>fit</th>\n",
       "    </tr>\n",
       "  </thead>\n",
       "  <tbody>\n",
       "    <tr>\n",
       "      <th>0</th>\n",
       "      <td>-0.868257</td>\n",
       "      <td>-0.292759</td>\n",
       "      <td>0.802127</td>\n",
       "      <td>NaN</td>\n",
       "      <td>0</td>\n",
       "    </tr>\n",
       "    <tr>\n",
       "      <th>1</th>\n",
       "      <td>-0.904436</td>\n",
       "      <td>-0.752679</td>\n",
       "      <td>0.427836</td>\n",
       "      <td>NaN</td>\n",
       "      <td>0</td>\n",
       "    </tr>\n",
       "    <tr>\n",
       "      <th>2</th>\n",
       "      <td>1.346108</td>\n",
       "      <td>-1.391538</td>\n",
       "      <td>-1.180851</td>\n",
       "      <td>NaN</td>\n",
       "      <td>1</td>\n",
       "    </tr>\n",
       "    <tr>\n",
       "      <th>3</th>\n",
       "      <td>0.342049</td>\n",
       "      <td>0.906127</td>\n",
       "      <td>-0.223742</td>\n",
       "      <td>NaN</td>\n",
       "      <td>0</td>\n",
       "    </tr>\n",
       "    <tr>\n",
       "      <th>4</th>\n",
       "      <td>1.159306</td>\n",
       "      <td>-0.076767</td>\n",
       "      <td>-1.275372</td>\n",
       "      <td>NaN</td>\n",
       "      <td>1</td>\n",
       "    </tr>\n",
       "  </tbody>\n",
       "</table>\n",
       "</div>"
      ],
      "text/plain": [
       "        DER  Operating Profit Margin  Sales Growth  target  fit\n",
       "0 -0.868257                -0.292759      0.802127     NaN    0\n",
       "1 -0.904436                -0.752679      0.427836     NaN    0\n",
       "2  1.346108                -1.391538     -1.180851     NaN    1\n",
       "3  0.342049                 0.906127     -0.223742     NaN    0\n",
       "4  1.159306                -0.076767     -1.275372     NaN    1"
      ]
     },
     "execution_count": 20,
     "metadata": {},
     "output_type": "execute_result"
    }
   ],
   "source": [
    "new_df.head(5)"
   ]
  },
  {
   "cell_type": "code",
   "execution_count": 21,
   "id": "ba369b03",
   "metadata": {
    "execution": {
     "iopub.execute_input": "2022-04-15T08:03:09.372296Z",
     "iopub.status.busy": "2022-04-15T08:03:09.371414Z",
     "iopub.status.idle": "2022-04-15T08:03:09.391042Z",
     "shell.execute_reply": "2022-04-15T08:03:09.390120Z"
    },
    "papermill": {
     "duration": 0.083647,
     "end_time": "2022-04-15T08:03:09.393066",
     "exception": false,
     "start_time": "2022-04-15T08:03:09.309419",
     "status": "completed"
    },
    "tags": []
   },
   "outputs": [
    {
     "data": {
      "text/html": [
       "<div>\n",
       "<style scoped>\n",
       "    .dataframe tbody tr th:only-of-type {\n",
       "        vertical-align: middle;\n",
       "    }\n",
       "\n",
       "    .dataframe tbody tr th {\n",
       "        vertical-align: top;\n",
       "    }\n",
       "\n",
       "    .dataframe thead th {\n",
       "        text-align: right;\n",
       "    }\n",
       "</style>\n",
       "<table border=\"1\" class=\"dataframe\">\n",
       "  <thead>\n",
       "    <tr style=\"text-align: right;\">\n",
       "      <th></th>\n",
       "      <th>Category</th>\n",
       "      <th>DER</th>\n",
       "      <th>Operating Profit Margin</th>\n",
       "      <th>Sales Growth</th>\n",
       "      <th>target</th>\n",
       "      <th>fit</th>\n",
       "    </tr>\n",
       "  </thead>\n",
       "  <tbody>\n",
       "    <tr>\n",
       "      <th>0</th>\n",
       "      <td>2</td>\n",
       "      <td>-0.868257</td>\n",
       "      <td>-0.292759</td>\n",
       "      <td>0.802127</td>\n",
       "      <td>NaN</td>\n",
       "      <td>0</td>\n",
       "    </tr>\n",
       "    <tr>\n",
       "      <th>1</th>\n",
       "      <td>2</td>\n",
       "      <td>-0.904436</td>\n",
       "      <td>-0.752679</td>\n",
       "      <td>0.427836</td>\n",
       "      <td>NaN</td>\n",
       "      <td>0</td>\n",
       "    </tr>\n",
       "    <tr>\n",
       "      <th>2</th>\n",
       "      <td>4</td>\n",
       "      <td>1.346108</td>\n",
       "      <td>-1.391538</td>\n",
       "      <td>-1.180851</td>\n",
       "      <td>NaN</td>\n",
       "      <td>1</td>\n",
       "    </tr>\n",
       "    <tr>\n",
       "      <th>3</th>\n",
       "      <td>2</td>\n",
       "      <td>0.342049</td>\n",
       "      <td>0.906127</td>\n",
       "      <td>-0.223742</td>\n",
       "      <td>NaN</td>\n",
       "      <td>0</td>\n",
       "    </tr>\n",
       "    <tr>\n",
       "      <th>4</th>\n",
       "      <td>4</td>\n",
       "      <td>1.159306</td>\n",
       "      <td>-0.076767</td>\n",
       "      <td>-1.275372</td>\n",
       "      <td>NaN</td>\n",
       "      <td>1</td>\n",
       "    </tr>\n",
       "  </tbody>\n",
       "</table>\n",
       "</div>"
      ],
      "text/plain": [
       "   Category       DER  Operating Profit Margin  Sales Growth  target  fit\n",
       "0         2 -0.868257                -0.292759      0.802127     NaN    0\n",
       "1         2 -0.904436                -0.752679      0.427836     NaN    0\n",
       "2         4  1.346108                -1.391538     -1.180851     NaN    1\n",
       "3         2  0.342049                 0.906127     -0.223742     NaN    0\n",
       "4         4  1.159306                -0.076767     -1.275372     NaN    1"
      ]
     },
     "execution_count": 21,
     "metadata": {},
     "output_type": "execute_result"
    }
   ],
   "source": [
    "new_df.insert(0,\"Category\",np.nan,True)\n",
    "new_df.loc[new_df['fit'] == 0, 'Category'] = 2\n",
    "new_df.loc[new_df['fit'] == 1, 'Category'] = 4\n",
    "new_df.loc[new_df['fit'] == 2, 'Category'] = 1\n",
    "new_df.loc[new_df['fit'] == 3, 'Category'] = 0\n",
    "new_df.loc[new_df['fit'] == 4, 'Category'] = 3\n",
    "new_df['Category'] = new_df['Category'].astype(int)\n",
    "new_df.head(5)"
   ]
  },
  {
   "cell_type": "code",
   "execution_count": 22,
   "id": "d3267070",
   "metadata": {
    "execution": {
     "iopub.execute_input": "2022-04-15T08:03:09.519344Z",
     "iopub.status.busy": "2022-04-15T08:03:09.518529Z",
     "iopub.status.idle": "2022-04-15T08:03:09.533037Z",
     "shell.execute_reply": "2022-04-15T08:03:09.532012Z"
    },
    "papermill": {
     "duration": 0.079927,
     "end_time": "2022-04-15T08:03:09.535708",
     "exception": false,
     "start_time": "2022-04-15T08:03:09.455781",
     "status": "completed"
    },
    "tags": []
   },
   "outputs": [
    {
     "name": "stdout",
     "output_type": "stream",
     "text": [
      "<class 'pandas.core.frame.DataFrame'>\n",
      "RangeIndex: 6 entries, 0 to 5\n",
      "Data columns (total 4 columns):\n",
      " #   Column                         Non-Null Count  Dtype  \n",
      "---  ------                         --------------  -----  \n",
      " 0   Category                       6 non-null      int64  \n",
      " 1   DER (St.)                      6 non-null      float64\n",
      " 2   Operating Profit Margin (St.)  6 non-null      float64\n",
      " 3   Sales Growth (St.)             6 non-null      float64\n",
      "dtypes: float64(3), int64(1)\n",
      "memory usage: 320.0 bytes\n"
     ]
    }
   ],
   "source": [
    "new_df.drop([\"fit\",\"target\"], axis=1, inplace=True)\n",
    "new_df.columns = ['Category','DER (St.)','Operating Profit Margin (St.)', 'Sales Growth (St.)']\n",
    "new_df.info()"
   ]
  },
  {
   "cell_type": "markdown",
   "id": "fd32f5ab",
   "metadata": {
    "papermill": {
     "duration": 0.060961,
     "end_time": "2022-04-15T08:03:09.657971",
     "exception": false,
     "start_time": "2022-04-15T08:03:09.597010",
     "status": "completed"
    },
    "tags": []
   },
   "source": [
    "# **2.6.1 3D Scatter Plot**"
   ]
  },
  {
   "cell_type": "code",
   "execution_count": 23,
   "id": "a818d5d8",
   "metadata": {
    "execution": {
     "iopub.execute_input": "2022-04-15T08:03:09.783063Z",
     "iopub.status.busy": "2022-04-15T08:03:09.782635Z",
     "iopub.status.idle": "2022-04-15T08:03:10.299317Z",
     "shell.execute_reply": "2022-04-15T08:03:10.298411Z"
    },
    "papermill": {
     "duration": 0.582858,
     "end_time": "2022-04-15T08:03:10.302116",
     "exception": false,
     "start_time": "2022-04-15T08:03:09.719258",
     "status": "completed"
    },
    "tags": []
   },
   "outputs": [
    {
     "data": {
      "image/png": "[encoded data removed]",
      "text/plain": [
       "<Figure size 576x576 with 1 Axes>"
      ]
     },
     "metadata": {
      "needs_background": "light"
     },
     "output_type": "display_data"
    }
   ],
   "source": [
    "from mpl_toolkits.mplot3d import Axes3D\n",
    "\n",
    "fig = plt.figure()\n",
    "ax = fig.add_subplot(111, projection = '3d')\n",
    "\n",
    "\n",
    "x = new_df['DER (St.)']\n",
    "y = new_df['Operating Profit Margin (St.)']\n",
    "z = new_df['Sales Growth (St.)']\n",
    "\n",
    "ax.set_xlabel(\"DER (St.)\")\n",
    "ax.set_ylabel(\"Operating Profit Margin (St.)\")\n",
    "ax.set_zlabel(\"Sales Growth (St.)\")\n",
    "\n",
    "cmap = ListedColormap(sns.color_palette(\"RdYlGn\", 256).as_hex())\n",
    "\n",
    "sc = ax.scatter(x, y, z, s=40, c=new_df['Category'], marker='o', cmap=cmap, alpha=1)\n",
    "plt.legend(*sc.legend_elements(), bbox_to_anchor=(1.05, 1), loc=2)\n",
    "\n",
    "plt.show()"
   ]
  },
  {
   "cell_type": "markdown",
   "id": "8842c383",
   "metadata": {
    "papermill": {
     "duration": 0.063229,
     "end_time": "2022-04-15T08:03:10.429725",
     "exception": false,
     "start_time": "2022-04-15T08:03:10.366496",
     "status": "completed"
    },
    "tags": []
   },
   "source": [
    "# **2.6.2 X vs Z View**"
   ]
  },
  {
   "cell_type": "code",
   "execution_count": 24,
   "id": "e151b11d",
   "metadata": {
    "execution": {
     "iopub.execute_input": "2022-04-15T08:03:10.559572Z",
     "iopub.status.busy": "2022-04-15T08:03:10.559047Z",
     "iopub.status.idle": "2022-04-15T08:03:10.816672Z",
     "shell.execute_reply": "2022-04-15T08:03:10.815791Z"
    },
    "papermill": {
     "duration": 0.32516,
     "end_time": "2022-04-15T08:03:10.819054",
     "exception": false,
     "start_time": "2022-04-15T08:03:10.493894",
     "status": "completed"
    },
    "tags": []
   },
   "outputs": [
    {
     "data": {
      "image/png": "[encoded data removed]",
      "text/plain": [
       "<Figure size 576x576 with 1 Axes>"
      ]
     },
     "metadata": {
      "needs_background": "light"
     },
     "output_type": "display_data"
    }
   ],
   "source": [
    "# color palette as dictionary\n",
    "palette = {0:\"tab:red\",\n",
    "           1:\"tab:orange\", \n",
    "           2:\"yellow\",\n",
    "           3:\"lime\",\n",
    "           4:\"darkgreen\"}\n",
    "\n",
    "sns.scatterplot(x='DER (St.)', y='Sales Growth (St.)', \n",
    "                hue='Category', data=new_df, s=80,\n",
    "                palette=palette)\n",
    "plt.title(\"DER vs Sales Growth (Standardisasi)\", fontsize=18, y=1.05)\n",
    "plt.show()\n"
   ]
  },
  {
   "cell_type": "markdown",
   "id": "acff5078",
   "metadata": {
    "papermill": {
     "duration": 0.065196,
     "end_time": "2022-04-15T08:03:10.948949",
     "exception": false,
     "start_time": "2022-04-15T08:03:10.883753",
     "status": "completed"
    },
    "tags": []
   },
   "source": [
    "# **2.6.3 Y vs Z View**"
   ]
  },
  {
   "cell_type": "code",
   "execution_count": 25,
   "id": "f86c6b81",
   "metadata": {
    "execution": {
     "iopub.execute_input": "2022-04-15T08:03:11.084130Z",
     "iopub.status.busy": "2022-04-15T08:03:11.083274Z",
     "iopub.status.idle": "2022-04-15T08:03:11.349807Z",
     "shell.execute_reply": "2022-04-15T08:03:11.349137Z"
    },
    "papermill": {
     "duration": 0.337928,
     "end_time": "2022-04-15T08:03:11.351893",
     "exception": false,
     "start_time": "2022-04-15T08:03:11.013965",
     "status": "completed"
    },
    "tags": []
   },
   "outputs": [
    {
     "data": {
      "image/png": "[encoded data removed]",
      "text/plain": [
       "<Figure size 576x576 with 1 Axes>"
      ]
     },
     "metadata": {
      "needs_background": "light"
     },
     "output_type": "display_data"
    }
   ],
   "source": [
    "sns.scatterplot(x='Operating Profit Margin (St.)', y='Sales Growth (St.)', \n",
    "                hue='Category', data=new_df, s=80,\n",
    "                palette=palette)\n",
    "plt.title(\"Operating Profit Margin vs Sales Growth (Standardisasi)\", fontsize=18, y=1.05)\n",
    "plt.show()"
   ]
  },
  {
   "cell_type": "markdown",
   "id": "b2d33dd9",
   "metadata": {
    "papermill": {
     "duration": 0.067243,
     "end_time": "2022-04-15T08:03:11.485147",
     "exception": false,
     "start_time": "2022-04-15T08:03:11.417904",
     "status": "completed"
    },
    "tags": []
   },
   "source": [
    "# **2.6.4 X vs Y View**"
   ]
  },
  {
   "cell_type": "code",
   "execution_count": 26,
   "id": "c58cd6a8",
   "metadata": {
    "execution": {
     "iopub.execute_input": "2022-04-15T08:03:11.619241Z",
     "iopub.status.busy": "2022-04-15T08:03:11.618732Z",
     "iopub.status.idle": "2022-04-15T08:03:11.877383Z",
     "shell.execute_reply": "2022-04-15T08:03:11.876715Z"
    },
    "papermill": {
     "duration": 0.32819,
     "end_time": "2022-04-15T08:03:11.879430",
     "exception": false,
     "start_time": "2022-04-15T08:03:11.551240",
     "status": "completed"
    },
    "tags": []
   },
   "outputs": [
    {
     "data": {
      "image/png": "[encoded data removed]",
      "text/plain": [
       "<Figure size 576x576 with 1 Axes>"
      ]
     },
     "metadata": {
      "needs_background": "light"
     },
     "output_type": "display_data"
    }
   ],
   "source": [
    "sns.scatterplot(x='DER (St.)', y='Operating Profit Margin (St.)', \n",
    "                hue='Category', data=new_df, s=80,\n",
    "                palette=palette)\n",
    "plt.title(\"DER vs Operating Profit Margin (Standardisasi)\", fontsize=18, y=1.05)\n",
    "plt.show()\n"
   ]
  },
  {
   "cell_type": "markdown",
   "id": "1cec9904",
   "metadata": {
    "papermill": {
     "duration": 0.066859,
     "end_time": "2022-04-15T08:03:12.013713",
     "exception": false,
     "start_time": "2022-04-15T08:03:11.946854",
     "status": "completed"
    },
    "tags": []
   },
   "source": [
    "# **3. Export Result**"
   ]
  },
  {
   "cell_type": "markdown",
   "id": "28196753",
   "metadata": {
    "papermill": {
     "duration": 0.067087,
     "end_time": "2022-04-15T08:03:12.148529",
     "exception": false,
     "start_time": "2022-04-15T08:03:12.081442",
     "status": "completed"
    },
    "tags": []
   },
   "source": [
    "Adjust **Initial Data** df0:\n"
   ]
  },
  {
   "cell_type": "markdown",
   "id": "36ad879d",
   "metadata": {
    "papermill": {
     "duration": 0.066665,
     "end_time": "2022-04-15T08:03:12.283790",
     "exception": false,
     "start_time": "2022-04-15T08:03:12.217125",
     "status": "completed"
    },
    "tags": []
   },
   "source": [
    "Delete outlier YELO and other column other than Emiten, DER,Operating Profit Margin,Sales Growth"
   ]
  },
  {
   "cell_type": "code",
   "execution_count": 27,
   "id": "2b28808e",
   "metadata": {
    "execution": {
     "iopub.execute_input": "2022-04-15T08:03:12.419705Z",
     "iopub.status.busy": "2022-04-15T08:03:12.419387Z",
     "iopub.status.idle": "2022-04-15T08:03:12.427319Z",
     "shell.execute_reply": "2022-04-15T08:03:12.426693Z"
    },
    "papermill": {
     "duration": 0.07849,
     "end_time": "2022-04-15T08:03:12.429253",
     "exception": false,
     "start_time": "2022-04-15T08:03:12.350763",
     "status": "completed"
    },
    "tags": []
   },
   "outputs": [],
   "source": [
    "# drop these row indexes\n",
    "# from dataFrame\n",
    "index_names = df0[ df0['Emitten'] == 'ARTO' ].index\n",
    "df0.drop(index_names, inplace = True)\n",
    "df0.reset_index(drop=True, inplace=True)\n",
    "df0.drop([\"Category\"\n",
    "         ], axis=1, inplace=True)"
   ]
  },
  {
   "cell_type": "code",
   "execution_count": 28,
   "id": "8cab11ed",
   "metadata": {
    "execution": {
     "iopub.execute_input": "2022-04-15T08:03:12.567279Z",
     "iopub.status.busy": "2022-04-15T08:03:12.566854Z",
     "iopub.status.idle": "2022-04-15T08:03:12.592302Z",
     "shell.execute_reply": "2022-04-15T08:03:12.591393Z"
    },
    "papermill": {
     "duration": 0.096406,
     "end_time": "2022-04-15T08:03:12.594568",
     "exception": false,
     "start_time": "2022-04-15T08:03:12.498162",
     "status": "completed"
    },
    "tags": []
   },
   "outputs": [
    {
     "data": {
      "text/html": [
       "<div>\n",
       "<style scoped>\n",
       "    .dataframe tbody tr th:only-of-type {\n",
       "        vertical-align: middle;\n",
       "    }\n",
       "\n",
       "    .dataframe tbody tr th {\n",
       "        vertical-align: top;\n",
       "    }\n",
       "\n",
       "    .dataframe thead th {\n",
       "        text-align: right;\n",
       "    }\n",
       "</style>\n",
       "<table border=\"1\" class=\"dataframe\">\n",
       "  <thead>\n",
       "    <tr style=\"text-align: right;\">\n",
       "      <th></th>\n",
       "      <th>Industry</th>\n",
       "      <th>Company</th>\n",
       "      <th>Category</th>\n",
       "      <th>DER (St.)</th>\n",
       "      <th>Operating Profit Margin (St.)</th>\n",
       "      <th>Sales Growth (St.)</th>\n",
       "      <th>Emitten</th>\n",
       "      <th>DER</th>\n",
       "      <th>Operating Profit Margin</th>\n",
       "      <th>Return On Asset</th>\n",
       "      <th>Sales Growth</th>\n",
       "    </tr>\n",
       "  </thead>\n",
       "  <tbody>\n",
       "    <tr>\n",
       "      <th>0</th>\n",
       "      <td>Pertambangan</td>\n",
       "      <td>Adaro Energy Indonesia Tbk.</td>\n",
       "      <td>2</td>\n",
       "      <td>-0.868257</td>\n",
       "      <td>-0.292759</td>\n",
       "      <td>0.802127</td>\n",
       "      <td>ADOOY</td>\n",
       "      <td>0.360525</td>\n",
       "      <td>0.393112</td>\n",
       "      <td>0.123039</td>\n",
       "      <td>0.575135</td>\n",
       "    </tr>\n",
       "    <tr>\n",
       "      <th>1</th>\n",
       "      <td>Pertambangan</td>\n",
       "      <td>Aneka Tambang Tbk.</td>\n",
       "      <td>2</td>\n",
       "      <td>-0.904436</td>\n",
       "      <td>-0.752679</td>\n",
       "      <td>0.427836</td>\n",
       "      <td>ANTM.JK</td>\n",
       "      <td>0.308144</td>\n",
       "      <td>0.086652</td>\n",
       "      <td>0.056560</td>\n",
       "      <td>0.404536</td>\n",
       "    </tr>\n",
       "    <tr>\n",
       "      <th>2</th>\n",
       "      <td>Pertambangan</td>\n",
       "      <td>Atlas Resources Tbk.</td>\n",
       "      <td>4</td>\n",
       "      <td>1.346108</td>\n",
       "      <td>-1.391538</td>\n",
       "      <td>-1.180851</td>\n",
       "      <td>ARII.JK</td>\n",
       "      <td>3.566634</td>\n",
       "      <td>-0.339042</td>\n",
       "      <td>-0.038650</td>\n",
       "      <td>-0.328694</td>\n",
       "    </tr>\n",
       "    <tr>\n",
       "      <th>3</th>\n",
       "      <td>Pertambangan</td>\n",
       "      <td>Astrindo Nusantara Infrastruktur Tbk.</td>\n",
       "      <td>2</td>\n",
       "      <td>0.342049</td>\n",
       "      <td>0.906127</td>\n",
       "      <td>-0.223742</td>\n",
       "      <td>BIPI.JK</td>\n",
       "      <td>2.112888</td>\n",
       "      <td>1.191971</td>\n",
       "      <td>0.015116</td>\n",
       "      <td>0.107550</td>\n",
       "    </tr>\n",
       "    <tr>\n",
       "      <th>4</th>\n",
       "      <td>Pertambangan</td>\n",
       "      <td>Borneo Olah Sarana Sukses Tbk.</td>\n",
       "      <td>4</td>\n",
       "      <td>1.159306</td>\n",
       "      <td>-0.076767</td>\n",
       "      <td>-1.275372</td>\n",
       "      <td>BOSS.JK</td>\n",
       "      <td>3.296169</td>\n",
       "      <td>0.537035</td>\n",
       "      <td>-0.151998</td>\n",
       "      <td>-0.371777</td>\n",
       "    </tr>\n",
       "    <tr>\n",
       "      <th>5</th>\n",
       "      <td>Pertambangan</td>\n",
       "      <td>Bumi Resources Minerals Tbk.</td>\n",
       "      <td>2</td>\n",
       "      <td>-1.074770</td>\n",
       "      <td>1.607616</td>\n",
       "      <td>1.450002</td>\n",
       "      <td>BRMS.JK</td>\n",
       "      <td>0.061522</td>\n",
       "      <td>1.659396</td>\n",
       "      <td>0.006723</td>\n",
       "      <td>0.870433</td>\n",
       "    </tr>\n",
       "  </tbody>\n",
       "</table>\n",
       "</div>"
      ],
      "text/plain": [
       "       Industry                                Company  Category  DER (St.)  \\\n",
       "0  Pertambangan            Adaro Energy Indonesia Tbk.         2  -0.868257   \n",
       "1  Pertambangan                     Aneka Tambang Tbk.         2  -0.904436   \n",
       "2  Pertambangan                   Atlas Resources Tbk.         4   1.346108   \n",
       "3  Pertambangan  Astrindo Nusantara Infrastruktur Tbk.         2   0.342049   \n",
       "4  Pertambangan         Borneo Olah Sarana Sukses Tbk.         4   1.159306   \n",
       "5  Pertambangan           Bumi Resources Minerals Tbk.         2  -1.074770   \n",
       "\n",
       "   Operating Profit Margin (St.)  Sales Growth (St.)   Emitten       DER  \\\n",
       "0                      -0.292759            0.802127     ADOOY  0.360525   \n",
       "1                      -0.752679            0.427836   ANTM.JK  0.308144   \n",
       "2                      -1.391538           -1.180851  ARII.JK   3.566634   \n",
       "3                       0.906127           -0.223742  BIPI.JK   2.112888   \n",
       "4                      -0.076767           -1.275372  BOSS.JK   3.296169   \n",
       "5                       1.607616            1.450002  BRMS.JK   0.061522   \n",
       "\n",
       "   Operating Profit Margin  Return On Asset  Sales Growth  \n",
       "0                 0.393112         0.123039      0.575135  \n",
       "1                 0.086652         0.056560      0.404536  \n",
       "2                -0.339042        -0.038650     -0.328694  \n",
       "3                 1.191971         0.015116      0.107550  \n",
       "4                 0.537035        -0.151998     -0.371777  \n",
       "5                 1.659396         0.006723      0.870433  "
      ]
     },
     "execution_count": 28,
     "metadata": {},
     "output_type": "execute_result"
    }
   ],
   "source": [
    "dftemp = pd.read_csv('../input/emitten-list/Emittenlist.csv')\n",
    "df = pd.concat([dftemp, new_df, df0], axis=1)\n",
    "df.head(6)"
   ]
  },
  {
   "cell_type": "code",
   "execution_count": 29,
   "id": "e3a82ab5",
   "metadata": {
    "execution": {
     "iopub.execute_input": "2022-04-15T08:03:12.731821Z",
     "iopub.status.busy": "2022-04-15T08:03:12.731256Z",
     "iopub.status.idle": "2022-04-15T08:03:12.738879Z",
     "shell.execute_reply": "2022-04-15T08:03:12.737829Z"
    },
    "papermill": {
     "duration": 0.078888,
     "end_time": "2022-04-15T08:03:12.741197",
     "exception": false,
     "start_time": "2022-04-15T08:03:12.662309",
     "status": "completed"
    },
    "tags": []
   },
   "outputs": [],
   "source": [
    "df.to_csv('result.csv', index = False)"
   ]
  },
  {
   "cell_type": "markdown",
   "id": "b5ae4c5a",
   "metadata": {
    "papermill": {
     "duration": 0.068123,
     "end_time": "2022-04-15T08:03:12.877162",
     "exception": false,
     "start_time": "2022-04-15T08:03:12.809039",
     "status": "completed"
    },
    "tags": []
   },
   "source": [
    "# **4. Get Centroid**"
   ]
  },
  {
   "cell_type": "code",
   "execution_count": 30,
   "id": "345e50f3",
   "metadata": {
    "execution": {
     "iopub.execute_input": "2022-04-15T08:03:13.015606Z",
     "iopub.status.busy": "2022-04-15T08:03:13.015279Z",
     "iopub.status.idle": "2022-04-15T08:03:13.020887Z",
     "shell.execute_reply": "2022-04-15T08:03:13.020282Z"
    },
    "papermill": {
     "duration": 0.077266,
     "end_time": "2022-04-15T08:03:13.022653",
     "exception": false,
     "start_time": "2022-04-15T08:03:12.945387",
     "status": "completed"
    },
    "tags": []
   },
   "outputs": [
    {
     "data": {
      "text/plain": [
       "array([[-0.62635356,  0.36707622,  0.6140557 ],\n",
       "       [ 1.25270712, -0.73415244, -1.22811141]])"
      ]
     },
     "execution_count": 30,
     "metadata": {},
     "output_type": "execute_result"
    }
   ],
   "source": [
    "kmeans.cluster_centers_"
   ]
  },
  {
   "cell_type": "code",
   "execution_count": 31,
   "id": "a5700b39",
   "metadata": {
    "execution": {
     "iopub.execute_input": "2022-04-15T08:03:13.162605Z",
     "iopub.status.busy": "2022-04-15T08:03:13.162005Z",
     "iopub.status.idle": "2022-04-15T08:03:13.396741Z",
     "shell.execute_reply": "2022-04-15T08:03:13.395814Z"
    },
    "papermill": {
     "duration": 0.30791,
     "end_time": "2022-04-15T08:03:13.399642",
     "exception": false,
     "start_time": "2022-04-15T08:03:13.091732",
     "status": "completed"
    },
    "tags": []
   },
   "outputs": [
    {
     "data": {
      "image/png": "[encoded data removed]",
      "text/plain": [
       "<Figure size 576x576 with 1 Axes>"
      ]
     },
     "metadata": {
      "needs_background": "light"
     },
     "output_type": "display_data"
    }
   ],
   "source": [
    "from mpl_toolkits.mplot3d import Axes3D\n",
    "\n",
    "fig = plt.figure()\n",
    "ax = fig.add_subplot(111, projection = '3d')\n",
    "x = [0.07796577,3.3825386,-0.19978728,-0.22183117,-0.32525515]\n",
    "y = [1.27721216,-0.22442569,-1.39490532,0.15549501,-0.03911061]\n",
    "z = [-0.22773712,0.35006475,-0.89274149,4.44060221,0.14030381]\n",
    "\n",
    "ax.set_xlabel(\"DER (St.)\")\n",
    "ax.set_ylabel(\"Operating Profit Margin (St.)\")\n",
    "ax.set_zlabel(\"Sales Growth (St.)\")\n",
    "ax.scatter(x, y, z)\n",
    "plt.show()"
   ]
  },
  {
   "cell_type": "markdown",
   "id": "98c13020",
   "metadata": {
    "papermill": {
     "duration": 0.069864,
     "end_time": "2022-04-15T08:03:13.540970",
     "exception": false,
     "start_time": "2022-04-15T08:03:13.471106",
     "status": "completed"
    },
    "tags": []
   },
   "source": [
    "# **5. Cluster Description**"
   ]
  },
  {
   "cell_type": "code",
   "execution_count": 32,
   "id": "933a5840",
   "metadata": {
    "execution": {
     "iopub.execute_input": "2022-04-15T08:03:13.684464Z",
     "iopub.status.busy": "2022-04-15T08:03:13.683887Z",
     "iopub.status.idle": "2022-04-15T08:03:13.717967Z",
     "shell.execute_reply": "2022-04-15T08:03:13.717148Z"
    },
    "papermill": {
     "duration": 0.108808,
     "end_time": "2022-04-15T08:03:13.719990",
     "exception": false,
     "start_time": "2022-04-15T08:03:13.611182",
     "status": "completed"
    },
    "tags": []
   },
   "outputs": [
    {
     "data": {
      "text/html": [
       "<div>\n",
       "<style scoped>\n",
       "    .dataframe tbody tr th:only-of-type {\n",
       "        vertical-align: middle;\n",
       "    }\n",
       "\n",
       "    .dataframe tbody tr th {\n",
       "        vertical-align: top;\n",
       "    }\n",
       "\n",
       "    .dataframe thead th {\n",
       "        text-align: right;\n",
       "    }\n",
       "</style>\n",
       "<table border=\"1\" class=\"dataframe\">\n",
       "  <thead>\n",
       "    <tr style=\"text-align: right;\">\n",
       "      <th></th>\n",
       "      <th>Category</th>\n",
       "      <th>DER (St.)</th>\n",
       "      <th>Operating Profit Margin (St.)</th>\n",
       "      <th>Sales Growth (St.)</th>\n",
       "      <th>DER</th>\n",
       "      <th>Operating Profit Margin</th>\n",
       "      <th>Return On Asset</th>\n",
       "      <th>Sales Growth</th>\n",
       "    </tr>\n",
       "  </thead>\n",
       "  <tbody>\n",
       "    <tr>\n",
       "      <th>count</th>\n",
       "      <td>2.0</td>\n",
       "      <td>2.000000</td>\n",
       "      <td>2.000000</td>\n",
       "      <td>2.000000</td>\n",
       "      <td>2.000000</td>\n",
       "      <td>2.000000</td>\n",
       "      <td>2.000000</td>\n",
       "      <td>2.000000</td>\n",
       "    </tr>\n",
       "    <tr>\n",
       "      <th>mean</th>\n",
       "      <td>4.0</td>\n",
       "      <td>1.252707</td>\n",
       "      <td>-0.734152</td>\n",
       "      <td>-1.228111</td>\n",
       "      <td>3.431401</td>\n",
       "      <td>0.098997</td>\n",
       "      <td>-0.095324</td>\n",
       "      <td>-0.350236</td>\n",
       "    </tr>\n",
       "    <tr>\n",
       "      <th>std</th>\n",
       "      <td>0.0</td>\n",
       "      <td>0.132089</td>\n",
       "      <td>0.929684</td>\n",
       "      <td>0.066837</td>\n",
       "      <td>0.191247</td>\n",
       "      <td>0.619480</td>\n",
       "      <td>0.080149</td>\n",
       "      <td>0.030464</td>\n",
       "    </tr>\n",
       "    <tr>\n",
       "      <th>min</th>\n",
       "      <td>4.0</td>\n",
       "      <td>1.159306</td>\n",
       "      <td>-1.391538</td>\n",
       "      <td>-1.275372</td>\n",
       "      <td>3.296169</td>\n",
       "      <td>-0.339042</td>\n",
       "      <td>-0.151998</td>\n",
       "      <td>-0.371777</td>\n",
       "    </tr>\n",
       "    <tr>\n",
       "      <th>25%</th>\n",
       "      <td>4.0</td>\n",
       "      <td>1.206007</td>\n",
       "      <td>-1.062845</td>\n",
       "      <td>-1.251742</td>\n",
       "      <td>3.363785</td>\n",
       "      <td>-0.120023</td>\n",
       "      <td>-0.123661</td>\n",
       "      <td>-0.361006</td>\n",
       "    </tr>\n",
       "    <tr>\n",
       "      <th>50%</th>\n",
       "      <td>4.0</td>\n",
       "      <td>1.252707</td>\n",
       "      <td>-0.734152</td>\n",
       "      <td>-1.228111</td>\n",
       "      <td>3.431401</td>\n",
       "      <td>0.098997</td>\n",
       "      <td>-0.095324</td>\n",
       "      <td>-0.350236</td>\n",
       "    </tr>\n",
       "    <tr>\n",
       "      <th>75%</th>\n",
       "      <td>4.0</td>\n",
       "      <td>1.299408</td>\n",
       "      <td>-0.405460</td>\n",
       "      <td>-1.204481</td>\n",
       "      <td>3.499018</td>\n",
       "      <td>0.318016</td>\n",
       "      <td>-0.066987</td>\n",
       "      <td>-0.339465</td>\n",
       "    </tr>\n",
       "    <tr>\n",
       "      <th>max</th>\n",
       "      <td>4.0</td>\n",
       "      <td>1.346108</td>\n",
       "      <td>-0.076767</td>\n",
       "      <td>-1.180851</td>\n",
       "      <td>3.566634</td>\n",
       "      <td>0.537035</td>\n",
       "      <td>-0.038650</td>\n",
       "      <td>-0.328694</td>\n",
       "    </tr>\n",
       "  </tbody>\n",
       "</table>\n",
       "</div>"
      ],
      "text/plain": [
       "       Category  DER (St.)  Operating Profit Margin (St.)  Sales Growth (St.)  \\\n",
       "count       2.0   2.000000                       2.000000            2.000000   \n",
       "mean        4.0   1.252707                      -0.734152           -1.228111   \n",
       "std         0.0   0.132089                       0.929684            0.066837   \n",
       "min         4.0   1.159306                      -1.391538           -1.275372   \n",
       "25%         4.0   1.206007                      -1.062845           -1.251742   \n",
       "50%         4.0   1.252707                      -0.734152           -1.228111   \n",
       "75%         4.0   1.299408                      -0.405460           -1.204481   \n",
       "max         4.0   1.346108                      -0.076767           -1.180851   \n",
       "\n",
       "            DER  Operating Profit Margin  Return On Asset  Sales Growth  \n",
       "count  2.000000                 2.000000         2.000000      2.000000  \n",
       "mean   3.431401                 0.098997        -0.095324     -0.350236  \n",
       "std    0.191247                 0.619480         0.080149      0.030464  \n",
       "min    3.296169                -0.339042        -0.151998     -0.371777  \n",
       "25%    3.363785                -0.120023        -0.123661     -0.361006  \n",
       "50%    3.431401                 0.098997        -0.095324     -0.350236  \n",
       "75%    3.499018                 0.318016        -0.066987     -0.339465  \n",
       "max    3.566634                 0.537035        -0.038650     -0.328694  "
      ]
     },
     "execution_count": 32,
     "metadata": {},
     "output_type": "execute_result"
    }
   ],
   "source": [
    "#Highly Positively Impacted\n",
    "df[df['Category'] == 4].describe() "
   ]
  },
  {
   "cell_type": "code",
   "execution_count": 33,
   "id": "cb932ffa",
   "metadata": {
    "execution": {
     "iopub.execute_input": "2022-04-15T08:03:13.865360Z",
     "iopub.status.busy": "2022-04-15T08:03:13.864859Z",
     "iopub.status.idle": "2022-04-15T08:03:13.896175Z",
     "shell.execute_reply": "2022-04-15T08:03:13.895564Z"
    },
    "papermill": {
     "duration": 0.10614,
     "end_time": "2022-04-15T08:03:13.897958",
     "exception": false,
     "start_time": "2022-04-15T08:03:13.791818",
     "status": "completed"
    },
    "tags": []
   },
   "outputs": [
    {
     "data": {
      "text/html": [
       "<div>\n",
       "<style scoped>\n",
       "    .dataframe tbody tr th:only-of-type {\n",
       "        vertical-align: middle;\n",
       "    }\n",
       "\n",
       "    .dataframe tbody tr th {\n",
       "        vertical-align: top;\n",
       "    }\n",
       "\n",
       "    .dataframe thead th {\n",
       "        text-align: right;\n",
       "    }\n",
       "</style>\n",
       "<table border=\"1\" class=\"dataframe\">\n",
       "  <thead>\n",
       "    <tr style=\"text-align: right;\">\n",
       "      <th></th>\n",
       "      <th>Category</th>\n",
       "      <th>DER (St.)</th>\n",
       "      <th>Operating Profit Margin (St.)</th>\n",
       "      <th>Sales Growth (St.)</th>\n",
       "      <th>DER</th>\n",
       "      <th>Operating Profit Margin</th>\n",
       "      <th>Return On Asset</th>\n",
       "      <th>Sales Growth</th>\n",
       "    </tr>\n",
       "  </thead>\n",
       "  <tbody>\n",
       "    <tr>\n",
       "      <th>count</th>\n",
       "      <td>0.0</td>\n",
       "      <td>0.0</td>\n",
       "      <td>0.0</td>\n",
       "      <td>0.0</td>\n",
       "      <td>0.0</td>\n",
       "      <td>0.0</td>\n",
       "      <td>0.0</td>\n",
       "      <td>0.0</td>\n",
       "    </tr>\n",
       "    <tr>\n",
       "      <th>mean</th>\n",
       "      <td>NaN</td>\n",
       "      <td>NaN</td>\n",
       "      <td>NaN</td>\n",
       "      <td>NaN</td>\n",
       "      <td>NaN</td>\n",
       "      <td>NaN</td>\n",
       "      <td>NaN</td>\n",
       "      <td>NaN</td>\n",
       "    </tr>\n",
       "    <tr>\n",
       "      <th>std</th>\n",
       "      <td>NaN</td>\n",
       "      <td>NaN</td>\n",
       "      <td>NaN</td>\n",
       "      <td>NaN</td>\n",
       "      <td>NaN</td>\n",
       "      <td>NaN</td>\n",
       "      <td>NaN</td>\n",
       "      <td>NaN</td>\n",
       "    </tr>\n",
       "    <tr>\n",
       "      <th>min</th>\n",
       "      <td>NaN</td>\n",
       "      <td>NaN</td>\n",
       "      <td>NaN</td>\n",
       "      <td>NaN</td>\n",
       "      <td>NaN</td>\n",
       "      <td>NaN</td>\n",
       "      <td>NaN</td>\n",
       "      <td>NaN</td>\n",
       "    </tr>\n",
       "    <tr>\n",
       "      <th>25%</th>\n",
       "      <td>NaN</td>\n",
       "      <td>NaN</td>\n",
       "      <td>NaN</td>\n",
       "      <td>NaN</td>\n",
       "      <td>NaN</td>\n",
       "      <td>NaN</td>\n",
       "      <td>NaN</td>\n",
       "      <td>NaN</td>\n",
       "    </tr>\n",
       "    <tr>\n",
       "      <th>50%</th>\n",
       "      <td>NaN</td>\n",
       "      <td>NaN</td>\n",
       "      <td>NaN</td>\n",
       "      <td>NaN</td>\n",
       "      <td>NaN</td>\n",
       "      <td>NaN</td>\n",
       "      <td>NaN</td>\n",
       "      <td>NaN</td>\n",
       "    </tr>\n",
       "    <tr>\n",
       "      <th>75%</th>\n",
       "      <td>NaN</td>\n",
       "      <td>NaN</td>\n",
       "      <td>NaN</td>\n",
       "      <td>NaN</td>\n",
       "      <td>NaN</td>\n",
       "      <td>NaN</td>\n",
       "      <td>NaN</td>\n",
       "      <td>NaN</td>\n",
       "    </tr>\n",
       "    <tr>\n",
       "      <th>max</th>\n",
       "      <td>NaN</td>\n",
       "      <td>NaN</td>\n",
       "      <td>NaN</td>\n",
       "      <td>NaN</td>\n",
       "      <td>NaN</td>\n",
       "      <td>NaN</td>\n",
       "      <td>NaN</td>\n",
       "      <td>NaN</td>\n",
       "    </tr>\n",
       "  </tbody>\n",
       "</table>\n",
       "</div>"
      ],
      "text/plain": [
       "       Category  DER (St.)  Operating Profit Margin (St.)  Sales Growth (St.)  \\\n",
       "count       0.0        0.0                            0.0                 0.0   \n",
       "mean        NaN        NaN                            NaN                 NaN   \n",
       "std         NaN        NaN                            NaN                 NaN   \n",
       "min         NaN        NaN                            NaN                 NaN   \n",
       "25%         NaN        NaN                            NaN                 NaN   \n",
       "50%         NaN        NaN                            NaN                 NaN   \n",
       "75%         NaN        NaN                            NaN                 NaN   \n",
       "max         NaN        NaN                            NaN                 NaN   \n",
       "\n",
       "       DER  Operating Profit Margin  Return On Asset  Sales Growth  \n",
       "count  0.0                      0.0              0.0           0.0  \n",
       "mean   NaN                      NaN              NaN           NaN  \n",
       "std    NaN                      NaN              NaN           NaN  \n",
       "min    NaN                      NaN              NaN           NaN  \n",
       "25%    NaN                      NaN              NaN           NaN  \n",
       "50%    NaN                      NaN              NaN           NaN  \n",
       "75%    NaN                      NaN              NaN           NaN  \n",
       "max    NaN                      NaN              NaN           NaN  "
      ]
     },
     "execution_count": 33,
     "metadata": {},
     "output_type": "execute_result"
    }
   ],
   "source": [
    "#Highly Positively Impacted\n",
    "df[df['Category'] == 3].describe() "
   ]
  },
  {
   "cell_type": "code",
   "execution_count": 34,
   "id": "7cc9518f",
   "metadata": {
    "execution": {
     "iopub.execute_input": "2022-04-15T08:03:14.047688Z",
     "iopub.status.busy": "2022-04-15T08:03:14.047348Z",
     "iopub.status.idle": "2022-04-15T08:03:14.082112Z",
     "shell.execute_reply": "2022-04-15T08:03:14.081131Z"
    },
    "papermill": {
     "duration": 0.112711,
     "end_time": "2022-04-15T08:03:14.085223",
     "exception": false,
     "start_time": "2022-04-15T08:03:13.972512",
     "status": "completed"
    },
    "tags": []
   },
   "outputs": [
    {
     "data": {
      "text/html": [
       "<div>\n",
       "<style scoped>\n",
       "    .dataframe tbody tr th:only-of-type {\n",
       "        vertical-align: middle;\n",
       "    }\n",
       "\n",
       "    .dataframe tbody tr th {\n",
       "        vertical-align: top;\n",
       "    }\n",
       "\n",
       "    .dataframe thead th {\n",
       "        text-align: right;\n",
       "    }\n",
       "</style>\n",
       "<table border=\"1\" class=\"dataframe\">\n",
       "  <thead>\n",
       "    <tr style=\"text-align: right;\">\n",
       "      <th></th>\n",
       "      <th>Category</th>\n",
       "      <th>DER (St.)</th>\n",
       "      <th>Operating Profit Margin (St.)</th>\n",
       "      <th>Sales Growth (St.)</th>\n",
       "      <th>DER</th>\n",
       "      <th>Operating Profit Margin</th>\n",
       "      <th>Return On Asset</th>\n",
       "      <th>Sales Growth</th>\n",
       "    </tr>\n",
       "  </thead>\n",
       "  <tbody>\n",
       "    <tr>\n",
       "      <th>count</th>\n",
       "      <td>4.0</td>\n",
       "      <td>4.000000</td>\n",
       "      <td>4.000000</td>\n",
       "      <td>4.000000</td>\n",
       "      <td>4.000000</td>\n",
       "      <td>4.000000</td>\n",
       "      <td>4.000000</td>\n",
       "      <td>4.000000</td>\n",
       "    </tr>\n",
       "    <tr>\n",
       "      <th>mean</th>\n",
       "      <td>2.0</td>\n",
       "      <td>-0.626354</td>\n",
       "      <td>0.367076</td>\n",
       "      <td>0.614056</td>\n",
       "      <td>0.710770</td>\n",
       "      <td>0.832783</td>\n",
       "      <td>0.050360</td>\n",
       "      <td>0.489413</td>\n",
       "    </tr>\n",
       "    <tr>\n",
       "      <th>std</th>\n",
       "      <td>0.0</td>\n",
       "      <td>0.651850</td>\n",
       "      <td>1.083013</td>\n",
       "      <td>0.700181</td>\n",
       "      <td>0.943793</td>\n",
       "      <td>0.721648</td>\n",
       "      <td>0.053126</td>\n",
       "      <td>0.319138</td>\n",
       "    </tr>\n",
       "    <tr>\n",
       "      <th>min</th>\n",
       "      <td>2.0</td>\n",
       "      <td>-1.074770</td>\n",
       "      <td>-0.752679</td>\n",
       "      <td>-0.223742</td>\n",
       "      <td>0.061522</td>\n",
       "      <td>0.086652</td>\n",
       "      <td>0.006723</td>\n",
       "      <td>0.107550</td>\n",
       "    </tr>\n",
       "    <tr>\n",
       "      <th>25%</th>\n",
       "      <td>2.0</td>\n",
       "      <td>-0.947019</td>\n",
       "      <td>-0.407739</td>\n",
       "      <td>0.264942</td>\n",
       "      <td>0.246488</td>\n",
       "      <td>0.316497</td>\n",
       "      <td>0.013018</td>\n",
       "      <td>0.330289</td>\n",
       "    </tr>\n",
       "    <tr>\n",
       "      <th>50%</th>\n",
       "      <td>2.0</td>\n",
       "      <td>-0.886347</td>\n",
       "      <td>0.306684</td>\n",
       "      <td>0.614981</td>\n",
       "      <td>0.334334</td>\n",
       "      <td>0.792541</td>\n",
       "      <td>0.035838</td>\n",
       "      <td>0.489835</td>\n",
       "    </tr>\n",
       "    <tr>\n",
       "      <th>75%</th>\n",
       "      <td>2.0</td>\n",
       "      <td>-0.565681</td>\n",
       "      <td>1.081500</td>\n",
       "      <td>0.964095</td>\n",
       "      <td>0.798616</td>\n",
       "      <td>1.308827</td>\n",
       "      <td>0.073180</td>\n",
       "      <td>0.648959</td>\n",
       "    </tr>\n",
       "    <tr>\n",
       "      <th>max</th>\n",
       "      <td>2.0</td>\n",
       "      <td>0.342049</td>\n",
       "      <td>1.607616</td>\n",
       "      <td>1.450002</td>\n",
       "      <td>2.112888</td>\n",
       "      <td>1.659396</td>\n",
       "      <td>0.123039</td>\n",
       "      <td>0.870433</td>\n",
       "    </tr>\n",
       "  </tbody>\n",
       "</table>\n",
       "</div>"
      ],
      "text/plain": [
       "       Category  DER (St.)  Operating Profit Margin (St.)  Sales Growth (St.)  \\\n",
       "count       4.0   4.000000                       4.000000            4.000000   \n",
       "mean        2.0  -0.626354                       0.367076            0.614056   \n",
       "std         0.0   0.651850                       1.083013            0.700181   \n",
       "min         2.0  -1.074770                      -0.752679           -0.223742   \n",
       "25%         2.0  -0.947019                      -0.407739            0.264942   \n",
       "50%         2.0  -0.886347                       0.306684            0.614981   \n",
       "75%         2.0  -0.565681                       1.081500            0.964095   \n",
       "max         2.0   0.342049                       1.607616            1.450002   \n",
       "\n",
       "            DER  Operating Profit Margin  Return On Asset  Sales Growth  \n",
       "count  4.000000                 4.000000         4.000000      4.000000  \n",
       "mean   0.710770                 0.832783         0.050360      0.489413  \n",
       "std    0.943793                 0.721648         0.053126      0.319138  \n",
       "min    0.061522                 0.086652         0.006723      0.107550  \n",
       "25%    0.246488                 0.316497         0.013018      0.330289  \n",
       "50%    0.334334                 0.792541         0.035838      0.489835  \n",
       "75%    0.798616                 1.308827         0.073180      0.648959  \n",
       "max    2.112888                 1.659396         0.123039      0.870433  "
      ]
     },
     "execution_count": 34,
     "metadata": {},
     "output_type": "execute_result"
    }
   ],
   "source": [
    "#Highly Positively Impacted\n",
    "df[df['Category'] == 2].describe() "
   ]
  },
  {
   "cell_type": "code",
   "execution_count": 35,
   "id": "fc7d4138",
   "metadata": {
    "execution": {
     "iopub.execute_input": "2022-04-15T08:03:14.232142Z",
     "iopub.status.busy": "2022-04-15T08:03:14.231543Z",
     "iopub.status.idle": "2022-04-15T08:03:14.264462Z",
     "shell.execute_reply": "2022-04-15T08:03:14.263650Z"
    },
    "papermill": {
     "duration": 0.108557,
     "end_time": "2022-04-15T08:03:14.266726",
     "exception": false,
     "start_time": "2022-04-15T08:03:14.158169",
     "status": "completed"
    },
    "tags": []
   },
   "outputs": [
    {
     "data": {
      "text/html": [
       "<div>\n",
       "<style scoped>\n",
       "    .dataframe tbody tr th:only-of-type {\n",
       "        vertical-align: middle;\n",
       "    }\n",
       "\n",
       "    .dataframe tbody tr th {\n",
       "        vertical-align: top;\n",
       "    }\n",
       "\n",
       "    .dataframe thead th {\n",
       "        text-align: right;\n",
       "    }\n",
       "</style>\n",
       "<table border=\"1\" class=\"dataframe\">\n",
       "  <thead>\n",
       "    <tr style=\"text-align: right;\">\n",
       "      <th></th>\n",
       "      <th>Category</th>\n",
       "      <th>DER (St.)</th>\n",
       "      <th>Operating Profit Margin (St.)</th>\n",
       "      <th>Sales Growth (St.)</th>\n",
       "      <th>DER</th>\n",
       "      <th>Operating Profit Margin</th>\n",
       "      <th>Return On Asset</th>\n",
       "      <th>Sales Growth</th>\n",
       "    </tr>\n",
       "  </thead>\n",
       "  <tbody>\n",
       "    <tr>\n",
       "      <th>count</th>\n",
       "      <td>0.0</td>\n",
       "      <td>0.0</td>\n",
       "      <td>0.0</td>\n",
       "      <td>0.0</td>\n",
       "      <td>0.0</td>\n",
       "      <td>0.0</td>\n",
       "      <td>0.0</td>\n",
       "      <td>0.0</td>\n",
       "    </tr>\n",
       "    <tr>\n",
       "      <th>mean</th>\n",
       "      <td>NaN</td>\n",
       "      <td>NaN</td>\n",
       "      <td>NaN</td>\n",
       "      <td>NaN</td>\n",
       "      <td>NaN</td>\n",
       "      <td>NaN</td>\n",
       "      <td>NaN</td>\n",
       "      <td>NaN</td>\n",
       "    </tr>\n",
       "    <tr>\n",
       "      <th>std</th>\n",
       "      <td>NaN</td>\n",
       "      <td>NaN</td>\n",
       "      <td>NaN</td>\n",
       "      <td>NaN</td>\n",
       "      <td>NaN</td>\n",
       "      <td>NaN</td>\n",
       "      <td>NaN</td>\n",
       "      <td>NaN</td>\n",
       "    </tr>\n",
       "    <tr>\n",
       "      <th>min</th>\n",
       "      <td>NaN</td>\n",
       "      <td>NaN</td>\n",
       "      <td>NaN</td>\n",
       "      <td>NaN</td>\n",
       "      <td>NaN</td>\n",
       "      <td>NaN</td>\n",
       "      <td>NaN</td>\n",
       "      <td>NaN</td>\n",
       "    </tr>\n",
       "    <tr>\n",
       "      <th>25%</th>\n",
       "      <td>NaN</td>\n",
       "      <td>NaN</td>\n",
       "      <td>NaN</td>\n",
       "      <td>NaN</td>\n",
       "      <td>NaN</td>\n",
       "      <td>NaN</td>\n",
       "      <td>NaN</td>\n",
       "      <td>NaN</td>\n",
       "    </tr>\n",
       "    <tr>\n",
       "      <th>50%</th>\n",
       "      <td>NaN</td>\n",
       "      <td>NaN</td>\n",
       "      <td>NaN</td>\n",
       "      <td>NaN</td>\n",
       "      <td>NaN</td>\n",
       "      <td>NaN</td>\n",
       "      <td>NaN</td>\n",
       "      <td>NaN</td>\n",
       "    </tr>\n",
       "    <tr>\n",
       "      <th>75%</th>\n",
       "      <td>NaN</td>\n",
       "      <td>NaN</td>\n",
       "      <td>NaN</td>\n",
       "      <td>NaN</td>\n",
       "      <td>NaN</td>\n",
       "      <td>NaN</td>\n",
       "      <td>NaN</td>\n",
       "      <td>NaN</td>\n",
       "    </tr>\n",
       "    <tr>\n",
       "      <th>max</th>\n",
       "      <td>NaN</td>\n",
       "      <td>NaN</td>\n",
       "      <td>NaN</td>\n",
       "      <td>NaN</td>\n",
       "      <td>NaN</td>\n",
       "      <td>NaN</td>\n",
       "      <td>NaN</td>\n",
       "      <td>NaN</td>\n",
       "    </tr>\n",
       "  </tbody>\n",
       "</table>\n",
       "</div>"
      ],
      "text/plain": [
       "       Category  DER (St.)  Operating Profit Margin (St.)  Sales Growth (St.)  \\\n",
       "count       0.0        0.0                            0.0                 0.0   \n",
       "mean        NaN        NaN                            NaN                 NaN   \n",
       "std         NaN        NaN                            NaN                 NaN   \n",
       "min         NaN        NaN                            NaN                 NaN   \n",
       "25%         NaN        NaN                            NaN                 NaN   \n",
       "50%         NaN        NaN                            NaN                 NaN   \n",
       "75%         NaN        NaN                            NaN                 NaN   \n",
       "max         NaN        NaN                            NaN                 NaN   \n",
       "\n",
       "       DER  Operating Profit Margin  Return On Asset  Sales Growth  \n",
       "count  0.0                      0.0              0.0           0.0  \n",
       "mean   NaN                      NaN              NaN           NaN  \n",
       "std    NaN                      NaN              NaN           NaN  \n",
       "min    NaN                      NaN              NaN           NaN  \n",
       "25%    NaN                      NaN              NaN           NaN  \n",
       "50%    NaN                      NaN              NaN           NaN  \n",
       "75%    NaN                      NaN              NaN           NaN  \n",
       "max    NaN                      NaN              NaN           NaN  "
      ]
     },
     "execution_count": 35,
     "metadata": {},
     "output_type": "execute_result"
    }
   ],
   "source": [
    "#Highly Positively Impacted\n",
    "df[df['Category'] == 1].describe() "
   ]
  },
  {
   "cell_type": "code",
   "execution_count": 36,
   "id": "4acadb32",
   "metadata": {
    "execution": {
     "iopub.execute_input": "2022-04-15T08:03:14.414611Z",
     "iopub.status.busy": "2022-04-15T08:03:14.414030Z",
     "iopub.status.idle": "2022-04-15T08:03:14.446658Z",
     "shell.execute_reply": "2022-04-15T08:03:14.445833Z"
    },
    "papermill": {
     "duration": 0.109618,
     "end_time": "2022-04-15T08:03:14.449075",
     "exception": false,
     "start_time": "2022-04-15T08:03:14.339457",
     "status": "completed"
    },
    "tags": []
   },
   "outputs": [
    {
     "data": {
      "text/html": [
       "<div>\n",
       "<style scoped>\n",
       "    .dataframe tbody tr th:only-of-type {\n",
       "        vertical-align: middle;\n",
       "    }\n",
       "\n",
       "    .dataframe tbody tr th {\n",
       "        vertical-align: top;\n",
       "    }\n",
       "\n",
       "    .dataframe thead th {\n",
       "        text-align: right;\n",
       "    }\n",
       "</style>\n",
       "<table border=\"1\" class=\"dataframe\">\n",
       "  <thead>\n",
       "    <tr style=\"text-align: right;\">\n",
       "      <th></th>\n",
       "      <th>Category</th>\n",
       "      <th>DER (St.)</th>\n",
       "      <th>Operating Profit Margin (St.)</th>\n",
       "      <th>Sales Growth (St.)</th>\n",
       "      <th>DER</th>\n",
       "      <th>Operating Profit Margin</th>\n",
       "      <th>Return On Asset</th>\n",
       "      <th>Sales Growth</th>\n",
       "    </tr>\n",
       "  </thead>\n",
       "  <tbody>\n",
       "    <tr>\n",
       "      <th>count</th>\n",
       "      <td>0.0</td>\n",
       "      <td>0.0</td>\n",
       "      <td>0.0</td>\n",
       "      <td>0.0</td>\n",
       "      <td>0.0</td>\n",
       "      <td>0.0</td>\n",
       "      <td>0.0</td>\n",
       "      <td>0.0</td>\n",
       "    </tr>\n",
       "    <tr>\n",
       "      <th>mean</th>\n",
       "      <td>NaN</td>\n",
       "      <td>NaN</td>\n",
       "      <td>NaN</td>\n",
       "      <td>NaN</td>\n",
       "      <td>NaN</td>\n",
       "      <td>NaN</td>\n",
       "      <td>NaN</td>\n",
       "      <td>NaN</td>\n",
       "    </tr>\n",
       "    <tr>\n",
       "      <th>std</th>\n",
       "      <td>NaN</td>\n",
       "      <td>NaN</td>\n",
       "      <td>NaN</td>\n",
       "      <td>NaN</td>\n",
       "      <td>NaN</td>\n",
       "      <td>NaN</td>\n",
       "      <td>NaN</td>\n",
       "      <td>NaN</td>\n",
       "    </tr>\n",
       "    <tr>\n",
       "      <th>min</th>\n",
       "      <td>NaN</td>\n",
       "      <td>NaN</td>\n",
       "      <td>NaN</td>\n",
       "      <td>NaN</td>\n",
       "      <td>NaN</td>\n",
       "      <td>NaN</td>\n",
       "      <td>NaN</td>\n",
       "      <td>NaN</td>\n",
       "    </tr>\n",
       "    <tr>\n",
       "      <th>25%</th>\n",
       "      <td>NaN</td>\n",
       "      <td>NaN</td>\n",
       "      <td>NaN</td>\n",
       "      <td>NaN</td>\n",
       "      <td>NaN</td>\n",
       "      <td>NaN</td>\n",
       "      <td>NaN</td>\n",
       "      <td>NaN</td>\n",
       "    </tr>\n",
       "    <tr>\n",
       "      <th>50%</th>\n",
       "      <td>NaN</td>\n",
       "      <td>NaN</td>\n",
       "      <td>NaN</td>\n",
       "      <td>NaN</td>\n",
       "      <td>NaN</td>\n",
       "      <td>NaN</td>\n",
       "      <td>NaN</td>\n",
       "      <td>NaN</td>\n",
       "    </tr>\n",
       "    <tr>\n",
       "      <th>75%</th>\n",
       "      <td>NaN</td>\n",
       "      <td>NaN</td>\n",
       "      <td>NaN</td>\n",
       "      <td>NaN</td>\n",
       "      <td>NaN</td>\n",
       "      <td>NaN</td>\n",
       "      <td>NaN</td>\n",
       "      <td>NaN</td>\n",
       "    </tr>\n",
       "    <tr>\n",
       "      <th>max</th>\n",
       "      <td>NaN</td>\n",
       "      <td>NaN</td>\n",
       "      <td>NaN</td>\n",
       "      <td>NaN</td>\n",
       "      <td>NaN</td>\n",
       "      <td>NaN</td>\n",
       "      <td>NaN</td>\n",
       "      <td>NaN</td>\n",
       "    </tr>\n",
       "  </tbody>\n",
       "</table>\n",
       "</div>"
      ],
      "text/plain": [
       "       Category  DER (St.)  Operating Profit Margin (St.)  Sales Growth (St.)  \\\n",
       "count       0.0        0.0                            0.0                 0.0   \n",
       "mean        NaN        NaN                            NaN                 NaN   \n",
       "std         NaN        NaN                            NaN                 NaN   \n",
       "min         NaN        NaN                            NaN                 NaN   \n",
       "25%         NaN        NaN                            NaN                 NaN   \n",
       "50%         NaN        NaN                            NaN                 NaN   \n",
       "75%         NaN        NaN                            NaN                 NaN   \n",
       "max         NaN        NaN                            NaN                 NaN   \n",
       "\n",
       "       DER  Operating Profit Margin  Return On Asset  Sales Growth  \n",
       "count  0.0                      0.0              0.0           0.0  \n",
       "mean   NaN                      NaN              NaN           NaN  \n",
       "std    NaN                      NaN              NaN           NaN  \n",
       "min    NaN                      NaN              NaN           NaN  \n",
       "25%    NaN                      NaN              NaN           NaN  \n",
       "50%    NaN                      NaN              NaN           NaN  \n",
       "75%    NaN                      NaN              NaN           NaN  \n",
       "max    NaN                      NaN              NaN           NaN  "
      ]
     },
     "execution_count": 36,
     "metadata": {},
     "output_type": "execute_result"
    }
   ],
   "source": [
    "#Highly Positively Impacted\n",
    "df[df['Category'] == 0].describe() "
   ]
  }
 ],
 "metadata": {
  "kernelspec": {
   "display_name": "Python 3",
   "language": "python",
   "name": "python3"
  },
  "language_info": {
   "codemirror_mode": {
    "name": "ipython",
    "version": 3
   },
   "file_extension": ".py",
   "mimetype": "text/x-python",
   "name": "python",
   "nbconvert_exporter": "python",
   "pygments_lexer": "ipython3",
   "version": "3.7.12"
  },
  "papermill": {
   "default_parameters": {},
   "duration": 24.859897,
   "end_time": "2022-04-15T08:03:15.445567",
   "environment_variables": {},
   "exception": null,
   "input_path": "__notebook__.ipynb",
   "output_path": "__notebook__.ipynb",
   "parameters": {},
   "start_time": "2022-04-15T08:02:50.585670",
   "version": "2.3.4"
  }
 },
 "nbformat": 4,
 "nbformat_minor": 5
}
