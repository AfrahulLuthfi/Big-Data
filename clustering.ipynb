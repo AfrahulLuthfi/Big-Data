{
 "cells": [
  {
   "cell_type": "code",
   "execution_count": 1,
   "id": "585e117b",
   "metadata": {
    "_cell_guid": "b1076dfc-b9ad-4769-8c92-a6c4dae69d19",
    "_uuid": "8f2839f25d086af736a60e9eeb907d3b93b6e0e5",
    "execution": {
     "iopub.execute_input": "2022-04-18T12:06:02.604206Z",
     "iopub.status.busy": "2022-04-18T12:06:02.603636Z",
     "iopub.status.idle": "2022-04-18T12:06:02.628824Z",
     "shell.execute_reply": "2022-04-18T12:06:02.627480Z"
    },
    "papermill": {
     "duration": 0.080787,
     "end_time": "2022-04-18T12:06:02.631601",
     "exception": false,
     "start_time": "2022-04-18T12:06:02.550814",
     "status": "completed"
    },
    "tags": []
   },
   "outputs": [
    {
     "name": "stdout",
     "output_type": "stream",
     "text": [
      "/kaggle/input/emitten-list/Emittenlist.csv\n",
      "/kaggle/input/pertambangan/pertambangan.csv\n"
     ]
    }
   ],
   "source": [
    "# This Python 3 environment comes with many helpful analytics libraries installed\n",
    "# It is defined by the kaggle/python Docker image: https://github.com/kaggle/docker-python\n",
    "# For example, here's several helpful packages to load\n",
    "\n",
    "import numpy as np # linear algebra\n",
    "import pandas as pd # data processing, CSV file I/O (e.g. pd.read_csv)\n",
    "\n",
    "# Input data files are available in the read-only \"../input/\" directory\n",
    "# For example, running this (by clicking run or pressing Shift+Enter) will list all files under the input directory\n",
    "\n",
    "import os\n",
    "for dirname, _, filenames in os.walk('/kaggle/input'):\n",
    "    for filename in filenames:\n",
    "        print(os.path.join(dirname, filename))\n",
    "\n",
    "# You can write up to 20GB to the current directory (/kaggle/working/) that gets preserved as output when you create a version using \"Save & Run All\" \n",
    "# You can also write temporary files to /kaggle/temp/, but they won't be saved outside of the current session"
   ]
  },
  {
   "cell_type": "code",
   "execution_count": 2,
   "id": "fdd582bb",
   "metadata": {
    "execution": {
     "iopub.execute_input": "2022-04-18T12:06:02.735493Z",
     "iopub.status.busy": "2022-04-18T12:06:02.734950Z",
     "iopub.status.idle": "2022-04-18T12:06:04.089424Z",
     "shell.execute_reply": "2022-04-18T12:06:04.088564Z"
    },
    "papermill": {
     "duration": 1.407349,
     "end_time": "2022-04-18T12:06:04.091988",
     "exception": false,
     "start_time": "2022-04-18T12:06:02.684639",
     "status": "completed"
    },
    "tags": []
   },
   "outputs": [],
   "source": [
    "import pandas as pd \n",
    "import numpy as np\n",
    "import matplotlib.pyplot as plt\n",
    "import seaborn as sns\n",
    "from matplotlib.colors import ListedColormap\n",
    "%matplotlib inline\n",
    "from scipy import stats\n"
   ]
  },
  {
   "cell_type": "markdown",
   "id": "6d4688a9",
   "metadata": {
    "papermill": {
     "duration": 0.049087,
     "end_time": "2022-04-18T12:06:04.191772",
     "exception": false,
     "start_time": "2022-04-18T12:06:04.142685",
     "status": "completed"
    },
    "tags": []
   },
   "source": [
    "# **1. Exploratory Data Analysis**"
   ]
  },
  {
   "cell_type": "markdown",
   "id": "efb90649",
   "metadata": {
    "papermill": {
     "duration": 0.048773,
     "end_time": "2022-04-18T12:06:04.289358",
     "exception": false,
     "start_time": "2022-04-18T12:06:04.240585",
     "status": "completed"
    },
    "tags": []
   },
   "source": [
    "# **1.1 Load Data**"
   ]
  },
  {
   "cell_type": "code",
   "execution_count": 3,
   "id": "42e4524b",
   "metadata": {
    "execution": {
     "iopub.execute_input": "2022-04-18T12:06:04.389403Z",
     "iopub.status.busy": "2022-04-18T12:06:04.388654Z",
     "iopub.status.idle": "2022-04-18T12:06:04.427392Z",
     "shell.execute_reply": "2022-04-18T12:06:04.426589Z"
    },
    "papermill": {
     "duration": 0.091382,
     "end_time": "2022-04-18T12:06:04.430209",
     "exception": false,
     "start_time": "2022-04-18T12:06:04.338827",
     "status": "completed"
    },
    "tags": []
   },
   "outputs": [
    {
     "name": "stdout",
     "output_type": "stream",
     "text": [
      "<class 'pandas.core.frame.DataFrame'>\n",
      "RangeIndex: 6 entries, 0 to 5\n",
      "Data columns (total 6 columns):\n",
      " #   Column                   Non-Null Count  Dtype  \n",
      "---  ------                   --------------  -----  \n",
      " 0   Emitten                  6 non-null      object \n",
      " 1   DER                      6 non-null      float64\n",
      " 2   Operating Profit Margin  6 non-null      float64\n",
      " 3   Return On Asset          6 non-null      float64\n",
      " 4   Sales Growth             6 non-null      float64\n",
      " 5   Category                 0 non-null      float64\n",
      "dtypes: float64(5), object(1)\n",
      "memory usage: 416.0+ bytes\n"
     ]
    }
   ],
   "source": [
    "df0 = pd.read_csv('../input/pertambangan/pertambangan.csv')\n",
    "df0.info()"
   ]
  },
  {
   "cell_type": "code",
   "execution_count": 4,
   "id": "94ff5f50",
   "metadata": {
    "execution": {
     "iopub.execute_input": "2022-04-18T12:06:04.534072Z",
     "iopub.status.busy": "2022-04-18T12:06:04.533416Z",
     "iopub.status.idle": "2022-04-18T12:06:04.569145Z",
     "shell.execute_reply": "2022-04-18T12:06:04.568476Z"
    },
    "papermill": {
     "duration": 0.089651,
     "end_time": "2022-04-18T12:06:04.571121",
     "exception": false,
     "start_time": "2022-04-18T12:06:04.481470",
     "status": "completed"
    },
    "tags": []
   },
   "outputs": [
    {
     "data": {
      "text/html": [
       "<div>\n",
       "<style scoped>\n",
       "    .dataframe tbody tr th:only-of-type {\n",
       "        vertical-align: middle;\n",
       "    }\n",
       "\n",
       "    .dataframe tbody tr th {\n",
       "        vertical-align: top;\n",
       "    }\n",
       "\n",
       "    .dataframe thead th {\n",
       "        text-align: right;\n",
       "    }\n",
       "</style>\n",
       "<table border=\"1\" class=\"dataframe\">\n",
       "  <thead>\n",
       "    <tr style=\"text-align: right;\">\n",
       "      <th></th>\n",
       "      <th>DER</th>\n",
       "      <th>Operating Profit Margin</th>\n",
       "      <th>Return On Asset</th>\n",
       "      <th>Sales Growth</th>\n",
       "      <th>Category</th>\n",
       "    </tr>\n",
       "  </thead>\n",
       "  <tbody>\n",
       "    <tr>\n",
       "      <th>count</th>\n",
       "      <td>6.000000</td>\n",
       "      <td>6.000000</td>\n",
       "      <td>6.000000</td>\n",
       "      <td>6.000000</td>\n",
       "      <td>0.0</td>\n",
       "    </tr>\n",
       "    <tr>\n",
       "      <th>mean</th>\n",
       "      <td>1.617647</td>\n",
       "      <td>0.588187</td>\n",
       "      <td>0.001798</td>\n",
       "      <td>0.209530</td>\n",
       "      <td>NaN</td>\n",
       "    </tr>\n",
       "    <tr>\n",
       "      <th>std</th>\n",
       "      <td>1.586060</td>\n",
       "      <td>0.729932</td>\n",
       "      <td>0.092940</td>\n",
       "      <td>0.499297</td>\n",
       "      <td>NaN</td>\n",
       "    </tr>\n",
       "    <tr>\n",
       "      <th>min</th>\n",
       "      <td>0.061522</td>\n",
       "      <td>-0.339042</td>\n",
       "      <td>-0.151998</td>\n",
       "      <td>-0.371777</td>\n",
       "      <td>NaN</td>\n",
       "    </tr>\n",
       "    <tr>\n",
       "      <th>25%</th>\n",
       "      <td>0.321239</td>\n",
       "      <td>0.163267</td>\n",
       "      <td>-0.027307</td>\n",
       "      <td>-0.219633</td>\n",
       "      <td>NaN</td>\n",
       "    </tr>\n",
       "    <tr>\n",
       "      <th>50%</th>\n",
       "      <td>1.236707</td>\n",
       "      <td>0.465073</td>\n",
       "      <td>0.010919</td>\n",
       "      <td>0.256043</td>\n",
       "      <td>NaN</td>\n",
       "    </tr>\n",
       "    <tr>\n",
       "      <th>75%</th>\n",
       "      <td>3.000349</td>\n",
       "      <td>1.028237</td>\n",
       "      <td>0.046199</td>\n",
       "      <td>0.532485</td>\n",
       "      <td>NaN</td>\n",
       "    </tr>\n",
       "    <tr>\n",
       "      <th>max</th>\n",
       "      <td>3.566634</td>\n",
       "      <td>1.659396</td>\n",
       "      <td>0.123039</td>\n",
       "      <td>0.870433</td>\n",
       "      <td>NaN</td>\n",
       "    </tr>\n",
       "  </tbody>\n",
       "</table>\n",
       "</div>"
      ],
      "text/plain": [
       "            DER  Operating Profit Margin  Return On Asset  Sales Growth  \\\n",
       "count  6.000000                 6.000000         6.000000      6.000000   \n",
       "mean   1.617647                 0.588187         0.001798      0.209530   \n",
       "std    1.586060                 0.729932         0.092940      0.499297   \n",
       "min    0.061522                -0.339042        -0.151998     -0.371777   \n",
       "25%    0.321239                 0.163267        -0.027307     -0.219633   \n",
       "50%    1.236707                 0.465073         0.010919      0.256043   \n",
       "75%    3.000349                 1.028237         0.046199      0.532485   \n",
       "max    3.566634                 1.659396         0.123039      0.870433   \n",
       "\n",
       "       Category  \n",
       "count       0.0  \n",
       "mean        NaN  \n",
       "std         NaN  \n",
       "min         NaN  \n",
       "25%         NaN  \n",
       "50%         NaN  \n",
       "75%         NaN  \n",
       "max         NaN  "
      ]
     },
     "execution_count": 4,
     "metadata": {},
     "output_type": "execute_result"
    }
   ],
   "source": [
    "df0.describe()"
   ]
  },
  {
   "cell_type": "markdown",
   "id": "1daf2640",
   "metadata": {
    "papermill": {
     "duration": 0.048886,
     "end_time": "2022-04-18T12:06:04.668688",
     "exception": false,
     "start_time": "2022-04-18T12:06:04.619802",
     "status": "completed"
    },
    "tags": []
   },
   "source": [
    "# **1.2 Data Cleansing**"
   ]
  },
  {
   "cell_type": "code",
   "execution_count": 5,
   "id": "9a3ad07f",
   "metadata": {
    "execution": {
     "iopub.execute_input": "2022-04-18T12:06:04.768300Z",
     "iopub.status.busy": "2022-04-18T12:06:04.767952Z",
     "iopub.status.idle": "2022-04-18T12:06:04.773715Z",
     "shell.execute_reply": "2022-04-18T12:06:04.772763Z"
    },
    "papermill": {
     "duration": 0.058748,
     "end_time": "2022-04-18T12:06:04.775964",
     "exception": false,
     "start_time": "2022-04-18T12:06:04.717216",
     "status": "completed"
    },
    "tags": []
   },
   "outputs": [],
   "source": [
    "df0.drop([\"Emitten\",\"Category\"], axis=1, inplace=True)"
   ]
  },
  {
   "cell_type": "markdown",
   "id": "04462f8e",
   "metadata": {
    "papermill": {
     "duration": 0.048231,
     "end_time": "2022-04-18T12:06:04.873264",
     "exception": false,
     "start_time": "2022-04-18T12:06:04.825033",
     "status": "completed"
    },
    "tags": []
   },
   "source": [
    "# **1.3 Scatter Plot**"
   ]
  },
  {
   "cell_type": "code",
   "execution_count": 6,
   "id": "9d674b3f",
   "metadata": {
    "execution": {
     "iopub.execute_input": "2022-04-18T12:06:04.971806Z",
     "iopub.status.busy": "2022-04-18T12:06:04.971462Z",
     "iopub.status.idle": "2022-04-18T12:06:06.949703Z",
     "shell.execute_reply": "2022-04-18T12:06:06.948837Z"
    },
    "papermill": {
     "duration": 2.030396,
     "end_time": "2022-04-18T12:06:06.952029",
     "exception": false,
     "start_time": "2022-04-18T12:06:04.921633",
     "status": "completed"
    },
    "tags": []
   },
   "outputs": [
    {
     "data": {
      "text/plain": [
       "<Figure size 1080x1080 with 0 Axes>"
      ]
     },
     "metadata": {},
     "output_type": "display_data"
    },
    {
     "data": {
      "image/png": "[encoded data removed]",
      "text/plain": [
       "<Figure size 540x540 with 12 Axes>"
      ]
     },
     "metadata": {
      "needs_background": "light"
     },
     "output_type": "display_data"
    }
   ],
   "source": [
    "plt.figure(figsize=(15, 15))\n",
    "sns.pairplot(df0, vars = df0.columns[1:13]);"
   ]
  },
  {
   "cell_type": "markdown",
   "id": "e47b8e62",
   "metadata": {
    "papermill": {
     "duration": 0.050191,
     "end_time": "2022-04-18T12:06:07.053356",
     "exception": false,
     "start_time": "2022-04-18T12:06:07.003165",
     "status": "completed"
    },
    "tags": []
   },
   "source": [
    "# **2. Clustering**"
   ]
  },
  {
   "cell_type": "markdown",
   "id": "2000b546",
   "metadata": {
    "papermill": {
     "duration": 0.050798,
     "end_time": "2022-04-18T12:06:07.154342",
     "exception": false,
     "start_time": "2022-04-18T12:06:07.103544",
     "status": "completed"
    },
    "tags": []
   },
   "source": [
    "# **2.1 Load Data**"
   ]
  },
  {
   "cell_type": "code",
   "execution_count": 7,
   "id": "1df29e1c",
   "metadata": {
    "execution": {
     "iopub.execute_input": "2022-04-18T12:06:07.257771Z",
     "iopub.status.busy": "2022-04-18T12:06:07.256846Z",
     "iopub.status.idle": "2022-04-18T12:06:07.289178Z",
     "shell.execute_reply": "2022-04-18T12:06:07.288374Z"
    },
    "papermill": {
     "duration": 0.086569,
     "end_time": "2022-04-18T12:06:07.291214",
     "exception": false,
     "start_time": "2022-04-18T12:06:07.204645",
     "status": "completed"
    },
    "tags": []
   },
   "outputs": [
    {
     "data": {
      "text/html": [
       "<div>\n",
       "<style scoped>\n",
       "    .dataframe tbody tr th:only-of-type {\n",
       "        vertical-align: middle;\n",
       "    }\n",
       "\n",
       "    .dataframe tbody tr th {\n",
       "        vertical-align: top;\n",
       "    }\n",
       "\n",
       "    .dataframe thead th {\n",
       "        text-align: right;\n",
       "    }\n",
       "</style>\n",
       "<table border=\"1\" class=\"dataframe\">\n",
       "  <thead>\n",
       "    <tr style=\"text-align: right;\">\n",
       "      <th></th>\n",
       "      <th>DER</th>\n",
       "      <th>Operating Profit Margin</th>\n",
       "      <th>Return On Asset</th>\n",
       "      <th>Sales Growth</th>\n",
       "      <th>Category</th>\n",
       "    </tr>\n",
       "  </thead>\n",
       "  <tbody>\n",
       "    <tr>\n",
       "      <th>count</th>\n",
       "      <td>6.000000</td>\n",
       "      <td>6.000000</td>\n",
       "      <td>6.000000</td>\n",
       "      <td>6.000000</td>\n",
       "      <td>0.0</td>\n",
       "    </tr>\n",
       "    <tr>\n",
       "      <th>mean</th>\n",
       "      <td>1.617647</td>\n",
       "      <td>0.588187</td>\n",
       "      <td>0.001798</td>\n",
       "      <td>0.209530</td>\n",
       "      <td>NaN</td>\n",
       "    </tr>\n",
       "    <tr>\n",
       "      <th>std</th>\n",
       "      <td>1.586060</td>\n",
       "      <td>0.729932</td>\n",
       "      <td>0.092940</td>\n",
       "      <td>0.499297</td>\n",
       "      <td>NaN</td>\n",
       "    </tr>\n",
       "    <tr>\n",
       "      <th>min</th>\n",
       "      <td>0.061522</td>\n",
       "      <td>-0.339042</td>\n",
       "      <td>-0.151998</td>\n",
       "      <td>-0.371777</td>\n",
       "      <td>NaN</td>\n",
       "    </tr>\n",
       "    <tr>\n",
       "      <th>25%</th>\n",
       "      <td>0.321239</td>\n",
       "      <td>0.163267</td>\n",
       "      <td>-0.027307</td>\n",
       "      <td>-0.219633</td>\n",
       "      <td>NaN</td>\n",
       "    </tr>\n",
       "    <tr>\n",
       "      <th>50%</th>\n",
       "      <td>1.236707</td>\n",
       "      <td>0.465073</td>\n",
       "      <td>0.010919</td>\n",
       "      <td>0.256043</td>\n",
       "      <td>NaN</td>\n",
       "    </tr>\n",
       "    <tr>\n",
       "      <th>75%</th>\n",
       "      <td>3.000349</td>\n",
       "      <td>1.028237</td>\n",
       "      <td>0.046199</td>\n",
       "      <td>0.532485</td>\n",
       "      <td>NaN</td>\n",
       "    </tr>\n",
       "    <tr>\n",
       "      <th>max</th>\n",
       "      <td>3.566634</td>\n",
       "      <td>1.659396</td>\n",
       "      <td>0.123039</td>\n",
       "      <td>0.870433</td>\n",
       "      <td>NaN</td>\n",
       "    </tr>\n",
       "  </tbody>\n",
       "</table>\n",
       "</div>"
      ],
      "text/plain": [
       "            DER  Operating Profit Margin  Return On Asset  Sales Growth  \\\n",
       "count  6.000000                 6.000000         6.000000      6.000000   \n",
       "mean   1.617647                 0.588187         0.001798      0.209530   \n",
       "std    1.586060                 0.729932         0.092940      0.499297   \n",
       "min    0.061522                -0.339042        -0.151998     -0.371777   \n",
       "25%    0.321239                 0.163267        -0.027307     -0.219633   \n",
       "50%    1.236707                 0.465073         0.010919      0.256043   \n",
       "75%    3.000349                 1.028237         0.046199      0.532485   \n",
       "max    3.566634                 1.659396         0.123039      0.870433   \n",
       "\n",
       "       Category  \n",
       "count       0.0  \n",
       "mean        NaN  \n",
       "std         NaN  \n",
       "min         NaN  \n",
       "25%         NaN  \n",
       "50%         NaN  \n",
       "75%         NaN  \n",
       "max         NaN  "
      ]
     },
     "execution_count": 7,
     "metadata": {},
     "output_type": "execute_result"
    }
   ],
   "source": [
    "df0 = pd.read_csv('../input/pertambangan/pertambangan.csv')\n",
    "df1 = df0[['DER','Operating Profit Margin' ,'Return On Asset','Sales Growth','Category']]\n",
    "df1.describe()"
   ]
  },
  {
   "cell_type": "code",
   "execution_count": 8,
   "id": "11773f05",
   "metadata": {
    "execution": {
     "iopub.execute_input": "2022-04-18T12:06:07.398257Z",
     "iopub.status.busy": "2022-04-18T12:06:07.397885Z",
     "iopub.status.idle": "2022-04-18T12:06:07.654216Z",
     "shell.execute_reply": "2022-04-18T12:06:07.653532Z"
    },
    "papermill": {
     "duration": 0.311848,
     "end_time": "2022-04-18T12:06:07.656627",
     "exception": false,
     "start_time": "2022-04-18T12:06:07.344779",
     "status": "completed"
    },
    "tags": []
   },
   "outputs": [
    {
     "data": {
      "text/plain": [
       "<AxesSubplot:xlabel='Emitten', ylabel='Operating Profit Margin'>"
      ]
     },
     "execution_count": 8,
     "metadata": {},
     "output_type": "execute_result"
    },
    {
     "data": {
      "image/png": "[encoded data removed]",
      "text/plain": [
       "<Figure size 1296x288 with 1 Axes>"
      ]
     },
     "metadata": {
      "needs_background": "light"
     },
     "output_type": "display_data"
    }
   ],
   "source": [
    "plt.figure(figsize=(18, 4))\n",
    "plt.xticks(rotation=45)\n",
    "sns.scatterplot(x='Emitten', y='Operating Profit Margin', \n",
    "                data=df0, s=80)"
   ]
  },
  {
   "cell_type": "code",
   "execution_count": 9,
   "id": "c9534440",
   "metadata": {
    "execution": {
     "iopub.execute_input": "2022-04-18T12:06:07.768373Z",
     "iopub.status.busy": "2022-04-18T12:06:07.767869Z",
     "iopub.status.idle": "2022-04-18T12:06:08.148002Z",
     "shell.execute_reply": "2022-04-18T12:06:08.147270Z"
    },
    "papermill": {
     "duration": 0.439338,
     "end_time": "2022-04-18T12:06:08.150615",
     "exception": false,
     "start_time": "2022-04-18T12:06:07.711277",
     "status": "completed"
    },
    "tags": []
   },
   "outputs": [
    {
     "data": {
      "text/plain": [
       "<AxesSubplot:xlabel='Emitten', ylabel='DER'>"
      ]
     },
     "execution_count": 9,
     "metadata": {},
     "output_type": "execute_result"
    },
    {
     "data": {
      "image/png": "[encoded data removed]",
      "text/plain": [
       "<Figure size 1296x288 with 1 Axes>"
      ]
     },
     "metadata": {
      "needs_background": "light"
     },
     "output_type": "display_data"
    }
   ],
   "source": [
    "plt.figure(figsize=(18, 4))\n",
    "plt.xticks(rotation=45)\n",
    "sns.scatterplot(x='Emitten', y='DER', \n",
    "                data=df0, s=80)"
   ]
  },
  {
   "cell_type": "code",
   "execution_count": 10,
   "id": "71ede53c",
   "metadata": {
    "execution": {
     "iopub.execute_input": "2022-04-18T12:06:08.262035Z",
     "iopub.status.busy": "2022-04-18T12:06:08.261651Z",
     "iopub.status.idle": "2022-04-18T12:06:08.472614Z",
     "shell.execute_reply": "2022-04-18T12:06:08.471669Z"
    },
    "papermill": {
     "duration": 0.269084,
     "end_time": "2022-04-18T12:06:08.474836",
     "exception": false,
     "start_time": "2022-04-18T12:06:08.205752",
     "status": "completed"
    },
    "tags": []
   },
   "outputs": [
    {
     "data": {
      "text/plain": [
       "<AxesSubplot:xlabel='Emitten', ylabel='Sales Growth'>"
      ]
     },
     "execution_count": 10,
     "metadata": {},
     "output_type": "execute_result"
    },
    {
     "data": {
      "image/png": "[encoded data removed]",
      "text/plain": [
       "<Figure size 1296x288 with 1 Axes>"
      ]
     },
     "metadata": {
      "needs_background": "light"
     },
     "output_type": "display_data"
    }
   ],
   "source": [
    "plt.figure(figsize=(18, 4))\n",
    "plt.xticks(rotation=45)\n",
    "sns.scatterplot(x='Emitten', y='Sales Growth', \n",
    "                data=df0, s=80)"
   ]
  },
  {
   "cell_type": "markdown",
   "id": "1ef849a9",
   "metadata": {
    "papermill": {
     "duration": 0.055302,
     "end_time": "2022-04-18T12:06:08.587165",
     "exception": false,
     "start_time": "2022-04-18T12:06:08.531863",
     "status": "completed"
    },
    "tags": []
   },
   "source": [
    "# **2.2 Outlier**"
   ]
  },
  {
   "cell_type": "code",
   "execution_count": 11,
   "id": "22b4c7af",
   "metadata": {
    "execution": {
     "iopub.execute_input": "2022-04-18T12:06:08.700121Z",
     "iopub.status.busy": "2022-04-18T12:06:08.699804Z",
     "iopub.status.idle": "2022-04-18T12:06:08.709716Z",
     "shell.execute_reply": "2022-04-18T12:06:08.709145Z"
    },
    "papermill": {
     "duration": 0.069757,
     "end_time": "2022-04-18T12:06:08.712475",
     "exception": false,
     "start_time": "2022-04-18T12:06:08.642718",
     "status": "completed"
    },
    "tags": []
   },
   "outputs": [
    {
     "name": "stdout",
     "output_type": "stream",
     "text": [
      "Jumlah baris sebelum memfilter outlier: 6\n",
      "Jumlah baris setelah memfilter outlier: 6\n"
     ]
    }
   ],
   "source": [
    "print(f'Jumlah baris sebelum memfilter outlier: {len(df1)}')\n",
    "\n",
    "filtered_entries = np.array([False] * len(df1))\n",
    "for col in ['Operating Profit Margin']:\n",
    "    zscore = abs(stats.zscore(df1[col]))\n",
    "    filtered_entries = (zscore < 3) | filtered_entries\n",
    "    \n",
    "df1 = df1[filtered_entries]\n",
    "\n",
    "print(f'Jumlah baris setelah memfilter outlier: {len(df1)}')"
   ]
  },
  {
   "cell_type": "code",
   "execution_count": 12,
   "id": "3049ac35",
   "metadata": {
    "execution": {
     "iopub.execute_input": "2022-04-18T12:06:08.830803Z",
     "iopub.status.busy": "2022-04-18T12:06:08.830227Z",
     "iopub.status.idle": "2022-04-18T12:06:08.854222Z",
     "shell.execute_reply": "2022-04-18T12:06:08.853599Z"
    },
    "papermill": {
     "duration": 0.083984,
     "end_time": "2022-04-18T12:06:08.856459",
     "exception": false,
     "start_time": "2022-04-18T12:06:08.772475",
     "status": "completed"
    },
    "tags": []
   },
   "outputs": [
    {
     "data": {
      "text/html": [
       "<div>\n",
       "<style scoped>\n",
       "    .dataframe tbody tr th:only-of-type {\n",
       "        vertical-align: middle;\n",
       "    }\n",
       "\n",
       "    .dataframe tbody tr th {\n",
       "        vertical-align: top;\n",
       "    }\n",
       "\n",
       "    .dataframe thead th {\n",
       "        text-align: right;\n",
       "    }\n",
       "</style>\n",
       "<table border=\"1\" class=\"dataframe\">\n",
       "  <thead>\n",
       "    <tr style=\"text-align: right;\">\n",
       "      <th></th>\n",
       "      <th>DER</th>\n",
       "      <th>Operating Profit Margin</th>\n",
       "      <th>Return On Asset</th>\n",
       "      <th>Sales Growth</th>\n",
       "      <th>Category</th>\n",
       "    </tr>\n",
       "  </thead>\n",
       "  <tbody>\n",
       "    <tr>\n",
       "      <th>count</th>\n",
       "      <td>6.000000</td>\n",
       "      <td>6.000000</td>\n",
       "      <td>6.000000</td>\n",
       "      <td>6.000000</td>\n",
       "      <td>0.0</td>\n",
       "    </tr>\n",
       "    <tr>\n",
       "      <th>mean</th>\n",
       "      <td>1.617647</td>\n",
       "      <td>0.588187</td>\n",
       "      <td>0.001798</td>\n",
       "      <td>0.209530</td>\n",
       "      <td>NaN</td>\n",
       "    </tr>\n",
       "    <tr>\n",
       "      <th>std</th>\n",
       "      <td>1.586060</td>\n",
       "      <td>0.729932</td>\n",
       "      <td>0.092940</td>\n",
       "      <td>0.499297</td>\n",
       "      <td>NaN</td>\n",
       "    </tr>\n",
       "    <tr>\n",
       "      <th>min</th>\n",
       "      <td>0.061522</td>\n",
       "      <td>-0.339042</td>\n",
       "      <td>-0.151998</td>\n",
       "      <td>-0.371777</td>\n",
       "      <td>NaN</td>\n",
       "    </tr>\n",
       "    <tr>\n",
       "      <th>25%</th>\n",
       "      <td>0.321239</td>\n",
       "      <td>0.163267</td>\n",
       "      <td>-0.027307</td>\n",
       "      <td>-0.219633</td>\n",
       "      <td>NaN</td>\n",
       "    </tr>\n",
       "    <tr>\n",
       "      <th>50%</th>\n",
       "      <td>1.236707</td>\n",
       "      <td>0.465073</td>\n",
       "      <td>0.010919</td>\n",
       "      <td>0.256043</td>\n",
       "      <td>NaN</td>\n",
       "    </tr>\n",
       "    <tr>\n",
       "      <th>75%</th>\n",
       "      <td>3.000349</td>\n",
       "      <td>1.028237</td>\n",
       "      <td>0.046199</td>\n",
       "      <td>0.532485</td>\n",
       "      <td>NaN</td>\n",
       "    </tr>\n",
       "    <tr>\n",
       "      <th>max</th>\n",
       "      <td>3.566634</td>\n",
       "      <td>1.659396</td>\n",
       "      <td>0.123039</td>\n",
       "      <td>0.870433</td>\n",
       "      <td>NaN</td>\n",
       "    </tr>\n",
       "  </tbody>\n",
       "</table>\n",
       "</div>"
      ],
      "text/plain": [
       "            DER  Operating Profit Margin  Return On Asset  Sales Growth  \\\n",
       "count  6.000000                 6.000000         6.000000      6.000000   \n",
       "mean   1.617647                 0.588187         0.001798      0.209530   \n",
       "std    1.586060                 0.729932         0.092940      0.499297   \n",
       "min    0.061522                -0.339042        -0.151998     -0.371777   \n",
       "25%    0.321239                 0.163267        -0.027307     -0.219633   \n",
       "50%    1.236707                 0.465073         0.010919      0.256043   \n",
       "75%    3.000349                 1.028237         0.046199      0.532485   \n",
       "max    3.566634                 1.659396         0.123039      0.870433   \n",
       "\n",
       "       Category  \n",
       "count       0.0  \n",
       "mean        NaN  \n",
       "std         NaN  \n",
       "min         NaN  \n",
       "25%         NaN  \n",
       "50%         NaN  \n",
       "75%         NaN  \n",
       "max         NaN  "
      ]
     },
     "execution_count": 12,
     "metadata": {},
     "output_type": "execute_result"
    }
   ],
   "source": [
    "df1.describe()"
   ]
  },
  {
   "cell_type": "markdown",
   "id": "2f28a8c4",
   "metadata": {
    "papermill": {
     "duration": 0.057756,
     "end_time": "2022-04-18T12:06:08.972079",
     "exception": false,
     "start_time": "2022-04-18T12:06:08.914323",
     "status": "completed"
    },
    "tags": []
   },
   "source": [
    "# **2.3 Standardisasi Fitur**"
   ]
  },
  {
   "cell_type": "code",
   "execution_count": 13,
   "id": "d6951f9a",
   "metadata": {
    "execution": {
     "iopub.execute_input": "2022-04-18T12:06:09.089989Z",
     "iopub.status.busy": "2022-04-18T12:06:09.089414Z",
     "iopub.status.idle": "2022-04-18T12:06:09.282979Z",
     "shell.execute_reply": "2022-04-18T12:06:09.281764Z"
    },
    "papermill": {
     "duration": 0.256014,
     "end_time": "2022-04-18T12:06:09.285475",
     "exception": false,
     "start_time": "2022-04-18T12:06:09.029461",
     "status": "completed"
    },
    "tags": []
   },
   "outputs": [
    {
     "data": {
      "text/html": [
       "<div>\n",
       "<style scoped>\n",
       "    .dataframe tbody tr th:only-of-type {\n",
       "        vertical-align: middle;\n",
       "    }\n",
       "\n",
       "    .dataframe tbody tr th {\n",
       "        vertical-align: top;\n",
       "    }\n",
       "\n",
       "    .dataframe thead th {\n",
       "        text-align: right;\n",
       "    }\n",
       "</style>\n",
       "<table border=\"1\" class=\"dataframe\">\n",
       "  <thead>\n",
       "    <tr style=\"text-align: right;\">\n",
       "      <th></th>\n",
       "      <th>DER</th>\n",
       "      <th>Operating Profit Margin</th>\n",
       "      <th>Sales Growth</th>\n",
       "    </tr>\n",
       "  </thead>\n",
       "  <tbody>\n",
       "    <tr>\n",
       "      <th>count</th>\n",
       "      <td>6.000000e+00</td>\n",
       "      <td>6.000000e+00</td>\n",
       "      <td>6.000000e+00</td>\n",
       "    </tr>\n",
       "    <tr>\n",
       "      <th>mean</th>\n",
       "      <td>1.480297e-16</td>\n",
       "      <td>7.401487e-17</td>\n",
       "      <td>1.480297e-16</td>\n",
       "    </tr>\n",
       "    <tr>\n",
       "      <th>std</th>\n",
       "      <td>1.095445e+00</td>\n",
       "      <td>1.095445e+00</td>\n",
       "      <td>1.095445e+00</td>\n",
       "    </tr>\n",
       "    <tr>\n",
       "      <th>min</th>\n",
       "      <td>-1.074770e+00</td>\n",
       "      <td>-1.391538e+00</td>\n",
       "      <td>-1.275372e+00</td>\n",
       "    </tr>\n",
       "    <tr>\n",
       "      <th>25%</th>\n",
       "      <td>-8.953910e-01</td>\n",
       "      <td>-6.376991e-01</td>\n",
       "      <td>-9.415737e-01</td>\n",
       "    </tr>\n",
       "    <tr>\n",
       "      <th>50%</th>\n",
       "      <td>-2.631044e-01</td>\n",
       "      <td>-1.847630e-01</td>\n",
       "      <td>1.020471e-01</td>\n",
       "    </tr>\n",
       "    <tr>\n",
       "      <th>75%</th>\n",
       "      <td>9.549919e-01</td>\n",
       "      <td>6.604039e-01</td>\n",
       "      <td>7.085541e-01</td>\n",
       "    </tr>\n",
       "    <tr>\n",
       "      <th>max</th>\n",
       "      <td>1.346108e+00</td>\n",
       "      <td>1.607616e+00</td>\n",
       "      <td>1.450002e+00</td>\n",
       "    </tr>\n",
       "  </tbody>\n",
       "</table>\n",
       "</div>"
      ],
      "text/plain": [
       "                DER  Operating Profit Margin  Sales Growth\n",
       "count  6.000000e+00             6.000000e+00  6.000000e+00\n",
       "mean   1.480297e-16             7.401487e-17  1.480297e-16\n",
       "std    1.095445e+00             1.095445e+00  1.095445e+00\n",
       "min   -1.074770e+00            -1.391538e+00 -1.275372e+00\n",
       "25%   -8.953910e-01            -6.376991e-01 -9.415737e-01\n",
       "50%   -2.631044e-01            -1.847630e-01  1.020471e-01\n",
       "75%    9.549919e-01             6.604039e-01  7.085541e-01\n",
       "max    1.346108e+00             1.607616e+00  1.450002e+00"
      ]
     },
     "execution_count": 13,
     "metadata": {},
     "output_type": "execute_result"
    }
   ],
   "source": [
    "feats = ['DER','Operating Profit Margin','Sales Growth']\n",
    "X = df1[feats].values\n",
    "y = df1['Category'].values\n",
    "\n",
    "from sklearn.preprocessing import StandardScaler\n",
    "X_std = StandardScaler().fit_transform(X)\n",
    "new_df = pd.DataFrame(data = X_std, columns = feats)\n",
    "new_df.describe()"
   ]
  },
  {
   "cell_type": "markdown",
   "id": "ae5ea437",
   "metadata": {
    "papermill": {
     "duration": 0.057248,
     "end_time": "2022-04-18T12:06:09.400059",
     "exception": false,
     "start_time": "2022-04-18T12:06:09.342811",
     "status": "completed"
    },
    "tags": []
   },
   "source": [
    "# **2.4 Lakukan K-means**"
   ]
  },
  {
   "cell_type": "code",
   "execution_count": 14,
   "id": "64a1783e",
   "metadata": {
    "execution": {
     "iopub.execute_input": "2022-04-18T12:06:09.517407Z",
     "iopub.status.busy": "2022-04-18T12:06:09.516385Z",
     "iopub.status.idle": "2022-04-18T12:06:09.847872Z",
     "shell.execute_reply": "2022-04-18T12:06:09.846796Z"
    },
    "papermill": {
     "duration": 0.393812,
     "end_time": "2022-04-18T12:06:09.851203",
     "exception": false,
     "start_time": "2022-04-18T12:06:09.457391",
     "status": "completed"
    },
    "tags": []
   },
   "outputs": [],
   "source": [
    "from sklearn.cluster import KMeans\n",
    "wcss=[]"
   ]
  },
  {
   "cell_type": "code",
   "execution_count": 15,
   "id": "3edc4505",
   "metadata": {
    "execution": {
     "iopub.execute_input": "2022-04-18T12:06:09.977480Z",
     "iopub.status.busy": "2022-04-18T12:06:09.976820Z",
     "iopub.status.idle": "2022-04-18T12:06:09.983974Z",
     "shell.execute_reply": "2022-04-18T12:06:09.983025Z"
    },
    "papermill": {
     "duration": 0.076426,
     "end_time": "2022-04-18T12:06:09.986019",
     "exception": false,
     "start_time": "2022-04-18T12:06:09.909593",
     "status": "completed"
    },
    "tags": []
   },
   "outputs": [
    {
     "data": {
      "text/plain": [
       "(6, 6)"
      ]
     },
     "execution_count": 15,
     "metadata": {},
     "output_type": "execute_result"
    }
   ],
   "source": [
    "df0.shape"
   ]
  },
  {
   "cell_type": "code",
   "execution_count": 16,
   "id": "fb943630",
   "metadata": {
    "execution": {
     "iopub.execute_input": "2022-04-18T12:06:10.110488Z",
     "iopub.status.busy": "2022-04-18T12:06:10.110195Z",
     "iopub.status.idle": "2022-04-18T12:06:10.624104Z",
     "shell.execute_reply": "2022-04-18T12:06:10.622784Z"
    },
    "papermill": {
     "duration": 0.579557,
     "end_time": "2022-04-18T12:06:10.626924",
     "exception": false,
     "start_time": "2022-04-18T12:06:10.047367",
     "status": "completed"
    },
    "tags": []
   },
   "outputs": [
    {
     "data": {
      "text/plain": [
       "[<matplotlib.lines.Line2D at 0x7fccea8d91d0>]"
      ]
     },
     "execution_count": 16,
     "metadata": {},
     "output_type": "execute_result"
    },
    {
     "data": {
      "image/png": "[encoded data removed]",
      "text/plain": [
       "<Figure size 864x432 with 1 Axes>"
      ]
     },
     "metadata": {
      "needs_background": "light"
     },
     "output_type": "display_data"
    }
   ],
   "source": [
    "from sklearn.cluster import KMeans\n",
    "inertia = []\n",
    "\n",
    "for i in range(1, 7):\n",
    "  kmeans = KMeans(n_clusters=i, init='k-means++', max_iter=300, n_init=10, random_state=0)\n",
    "  kmeans.fit(new_df.values)\n",
    "  inertia.append(kmeans.inertia_)\n",
    "\n",
    "plt.figure(figsize=(12, 6))\n",
    "plt.plot(inertia) #Elbow Method"
   ]
  },
  {
   "cell_type": "markdown",
   "id": "d39b3df3",
   "metadata": {
    "papermill": {
     "duration": 0.059328,
     "end_time": "2022-04-18T12:06:10.746119",
     "exception": false,
     "start_time": "2022-04-18T12:06:10.686791",
     "status": "completed"
    },
    "tags": []
   },
   "source": [
    "Ternyata clustering paling optimal di 3 cluster (n_cluster = 3)"
   ]
  },
  {
   "cell_type": "markdown",
   "id": "5e6c294b",
   "metadata": {
    "papermill": {
     "duration": 0.061234,
     "end_time": "2022-04-18T12:06:10.867489",
     "exception": false,
     "start_time": "2022-04-18T12:06:10.806255",
     "status": "completed"
    },
    "tags": []
   },
   "source": [
    "# **2.5 Pilih Jumlah Cluster**"
   ]
  },
  {
   "cell_type": "code",
   "execution_count": 17,
   "id": "2cbc364d",
   "metadata": {
    "execution": {
     "iopub.execute_input": "2022-04-18T12:06:10.991631Z",
     "iopub.status.busy": "2022-04-18T12:06:10.990867Z",
     "iopub.status.idle": "2022-04-18T12:06:11.020052Z",
     "shell.execute_reply": "2022-04-18T12:06:11.014650Z"
    },
    "papermill": {
     "duration": 0.09491,
     "end_time": "2022-04-18T12:06:11.022916",
     "exception": false,
     "start_time": "2022-04-18T12:06:10.928006",
     "status": "completed"
    },
    "tags": []
   },
   "outputs": [
    {
     "data": {
      "text/plain": [
       "KMeans(n_clusters=3, random_state=0)"
      ]
     },
     "execution_count": 17,
     "metadata": {},
     "output_type": "execute_result"
    }
   ],
   "source": [
    "from sklearn.cluster import KMeans\n",
    "kmeans = KMeans(n_clusters=3, init='k-means++', max_iter=300, n_init=10, random_state=0)\n",
    "kmeans.fit(new_df.values)"
   ]
  },
  {
   "cell_type": "code",
   "execution_count": 18,
   "id": "843aa0f6",
   "metadata": {
    "execution": {
     "iopub.execute_input": "2022-04-18T12:06:11.144926Z",
     "iopub.status.busy": "2022-04-18T12:06:11.144602Z",
     "iopub.status.idle": "2022-04-18T12:06:11.152150Z",
     "shell.execute_reply": "2022-04-18T12:06:11.150805Z"
    },
    "papermill": {
     "duration": 0.071304,
     "end_time": "2022-04-18T12:06:11.154599",
     "exception": false,
     "start_time": "2022-04-18T12:06:11.083295",
     "status": "completed"
    },
    "tags": []
   },
   "outputs": [],
   "source": [
    "new_df['target'] = y\n",
    "new_df['fit'] = kmeans.labels_"
   ]
  },
  {
   "cell_type": "markdown",
   "id": "6fc40b79",
   "metadata": {
    "papermill": {
     "duration": 0.059881,
     "end_time": "2022-04-18T12:06:11.274982",
     "exception": false,
     "start_time": "2022-04-18T12:06:11.215101",
     "status": "completed"
    },
    "tags": []
   },
   "source": [
    "# **2.6 Plot Cluster**"
   ]
  },
  {
   "cell_type": "code",
   "execution_count": 19,
   "id": "37d06101",
   "metadata": {
    "execution": {
     "iopub.execute_input": "2022-04-18T12:06:11.406956Z",
     "iopub.status.busy": "2022-04-18T12:06:11.406546Z",
     "iopub.status.idle": "2022-04-18T12:06:11.648721Z",
     "shell.execute_reply": "2022-04-18T12:06:11.647761Z"
    },
    "papermill": {
     "duration": 0.315991,
     "end_time": "2022-04-18T12:06:11.650884",
     "exception": false,
     "start_time": "2022-04-18T12:06:11.334893",
     "status": "completed"
    },
    "tags": []
   },
   "outputs": [
    {
     "data": {
      "image/png": "[encoded data removed]",
      "text/plain": [
       "<Figure size 576x576 with 1 Axes>"
      ]
     },
     "metadata": {
      "needs_background": "light"
     },
     "output_type": "display_data"
    }
   ],
   "source": [
    "plt.rcParams[\"figure.figsize\"] = (8, 8)\n",
    "sns.scatterplot(x='DER', y='Operating Profit Margin', hue=new_df.target.to_list(), data=new_df);"
   ]
  },
  {
   "cell_type": "code",
   "execution_count": 20,
   "id": "5e8c91fb",
   "metadata": {
    "execution": {
     "iopub.execute_input": "2022-04-18T12:06:11.773627Z",
     "iopub.status.busy": "2022-04-18T12:06:11.772865Z",
     "iopub.status.idle": "2022-04-18T12:06:11.785009Z",
     "shell.execute_reply": "2022-04-18T12:06:11.784361Z"
    },
    "papermill": {
     "duration": 0.076205,
     "end_time": "2022-04-18T12:06:11.786897",
     "exception": false,
     "start_time": "2022-04-18T12:06:11.710692",
     "status": "completed"
    },
    "tags": []
   },
   "outputs": [
    {
     "data": {
      "text/html": [
       "<div>\n",
       "<style scoped>\n",
       "    .dataframe tbody tr th:only-of-type {\n",
       "        vertical-align: middle;\n",
       "    }\n",
       "\n",
       "    .dataframe tbody tr th {\n",
       "        vertical-align: top;\n",
       "    }\n",
       "\n",
       "    .dataframe thead th {\n",
       "        text-align: right;\n",
       "    }\n",
       "</style>\n",
       "<table border=\"1\" class=\"dataframe\">\n",
       "  <thead>\n",
       "    <tr style=\"text-align: right;\">\n",
       "      <th></th>\n",
       "      <th>DER</th>\n",
       "      <th>Operating Profit Margin</th>\n",
       "      <th>Sales Growth</th>\n",
       "      <th>target</th>\n",
       "      <th>fit</th>\n",
       "    </tr>\n",
       "  </thead>\n",
       "  <tbody>\n",
       "    <tr>\n",
       "      <th>0</th>\n",
       "      <td>-0.868257</td>\n",
       "      <td>-0.292759</td>\n",
       "      <td>0.802127</td>\n",
       "      <td>NaN</td>\n",
       "      <td>2</td>\n",
       "    </tr>\n",
       "    <tr>\n",
       "      <th>1</th>\n",
       "      <td>-0.904436</td>\n",
       "      <td>-0.752679</td>\n",
       "      <td>0.427836</td>\n",
       "      <td>NaN</td>\n",
       "      <td>2</td>\n",
       "    </tr>\n",
       "    <tr>\n",
       "      <th>2</th>\n",
       "      <td>1.346108</td>\n",
       "      <td>-1.391538</td>\n",
       "      <td>-1.180851</td>\n",
       "      <td>NaN</td>\n",
       "      <td>1</td>\n",
       "    </tr>\n",
       "    <tr>\n",
       "      <th>3</th>\n",
       "      <td>0.342049</td>\n",
       "      <td>0.906127</td>\n",
       "      <td>-0.223742</td>\n",
       "      <td>NaN</td>\n",
       "      <td>2</td>\n",
       "    </tr>\n",
       "    <tr>\n",
       "      <th>4</th>\n",
       "      <td>1.159306</td>\n",
       "      <td>-0.076767</td>\n",
       "      <td>-1.275372</td>\n",
       "      <td>NaN</td>\n",
       "      <td>1</td>\n",
       "    </tr>\n",
       "  </tbody>\n",
       "</table>\n",
       "</div>"
      ],
      "text/plain": [
       "        DER  Operating Profit Margin  Sales Growth  target  fit\n",
       "0 -0.868257                -0.292759      0.802127     NaN    2\n",
       "1 -0.904436                -0.752679      0.427836     NaN    2\n",
       "2  1.346108                -1.391538     -1.180851     NaN    1\n",
       "3  0.342049                 0.906127     -0.223742     NaN    2\n",
       "4  1.159306                -0.076767     -1.275372     NaN    1"
      ]
     },
     "execution_count": 20,
     "metadata": {},
     "output_type": "execute_result"
    }
   ],
   "source": [
    "new_df.head(5)"
   ]
  },
  {
   "cell_type": "code",
   "execution_count": 21,
   "id": "92f0019c",
   "metadata": {
    "execution": {
     "iopub.execute_input": "2022-04-18T12:06:11.910230Z",
     "iopub.status.busy": "2022-04-18T12:06:11.909692Z",
     "iopub.status.idle": "2022-04-18T12:06:11.931252Z",
     "shell.execute_reply": "2022-04-18T12:06:11.930514Z"
    },
    "papermill": {
     "duration": 0.086454,
     "end_time": "2022-04-18T12:06:11.933763",
     "exception": false,
     "start_time": "2022-04-18T12:06:11.847309",
     "status": "completed"
    },
    "tags": []
   },
   "outputs": [
    {
     "data": {
      "text/html": [
       "<div>\n",
       "<style scoped>\n",
       "    .dataframe tbody tr th:only-of-type {\n",
       "        vertical-align: middle;\n",
       "    }\n",
       "\n",
       "    .dataframe tbody tr th {\n",
       "        vertical-align: top;\n",
       "    }\n",
       "\n",
       "    .dataframe thead th {\n",
       "        text-align: right;\n",
       "    }\n",
       "</style>\n",
       "<table border=\"1\" class=\"dataframe\">\n",
       "  <thead>\n",
       "    <tr style=\"text-align: right;\">\n",
       "      <th></th>\n",
       "      <th>Category</th>\n",
       "      <th>DER</th>\n",
       "      <th>Operating Profit Margin</th>\n",
       "      <th>Sales Growth</th>\n",
       "      <th>target</th>\n",
       "      <th>fit</th>\n",
       "    </tr>\n",
       "  </thead>\n",
       "  <tbody>\n",
       "    <tr>\n",
       "      <th>0</th>\n",
       "      <td>1</td>\n",
       "      <td>-0.868257</td>\n",
       "      <td>-0.292759</td>\n",
       "      <td>0.802127</td>\n",
       "      <td>NaN</td>\n",
       "      <td>2</td>\n",
       "    </tr>\n",
       "    <tr>\n",
       "      <th>1</th>\n",
       "      <td>1</td>\n",
       "      <td>-0.904436</td>\n",
       "      <td>-0.752679</td>\n",
       "      <td>0.427836</td>\n",
       "      <td>NaN</td>\n",
       "      <td>2</td>\n",
       "    </tr>\n",
       "    <tr>\n",
       "      <th>2</th>\n",
       "      <td>4</td>\n",
       "      <td>1.346108</td>\n",
       "      <td>-1.391538</td>\n",
       "      <td>-1.180851</td>\n",
       "      <td>NaN</td>\n",
       "      <td>1</td>\n",
       "    </tr>\n",
       "    <tr>\n",
       "      <th>3</th>\n",
       "      <td>1</td>\n",
       "      <td>0.342049</td>\n",
       "      <td>0.906127</td>\n",
       "      <td>-0.223742</td>\n",
       "      <td>NaN</td>\n",
       "      <td>2</td>\n",
       "    </tr>\n",
       "    <tr>\n",
       "      <th>4</th>\n",
       "      <td>4</td>\n",
       "      <td>1.159306</td>\n",
       "      <td>-0.076767</td>\n",
       "      <td>-1.275372</td>\n",
       "      <td>NaN</td>\n",
       "      <td>1</td>\n",
       "    </tr>\n",
       "  </tbody>\n",
       "</table>\n",
       "</div>"
      ],
      "text/plain": [
       "   Category       DER  Operating Profit Margin  Sales Growth  target  fit\n",
       "0         1 -0.868257                -0.292759      0.802127     NaN    2\n",
       "1         1 -0.904436                -0.752679      0.427836     NaN    2\n",
       "2         4  1.346108                -1.391538     -1.180851     NaN    1\n",
       "3         1  0.342049                 0.906127     -0.223742     NaN    2\n",
       "4         4  1.159306                -0.076767     -1.275372     NaN    1"
      ]
     },
     "execution_count": 21,
     "metadata": {},
     "output_type": "execute_result"
    }
   ],
   "source": [
    "new_df.insert(0,\"Category\",np.nan,True)\n",
    "new_df.loc[new_df['fit'] == 0, 'Category'] = 2\n",
    "new_df.loc[new_df['fit'] == 1, 'Category'] = 4\n",
    "new_df.loc[new_df['fit'] == 2, 'Category'] = 1\n",
    "new_df.loc[new_df['fit'] == 3, 'Category'] = 0\n",
    "new_df.loc[new_df['fit'] == 4, 'Category'] = 3\n",
    "new_df['Category'] = new_df['Category'].astype(int)\n",
    "new_df.head(5)"
   ]
  },
  {
   "cell_type": "code",
   "execution_count": 22,
   "id": "5e01c911",
   "metadata": {
    "execution": {
     "iopub.execute_input": "2022-04-18T12:06:12.058485Z",
     "iopub.status.busy": "2022-04-18T12:06:12.058179Z",
     "iopub.status.idle": "2022-04-18T12:06:12.074620Z",
     "shell.execute_reply": "2022-04-18T12:06:12.073720Z"
    },
    "papermill": {
     "duration": 0.083592,
     "end_time": "2022-04-18T12:06:12.078291",
     "exception": false,
     "start_time": "2022-04-18T12:06:11.994699",
     "status": "completed"
    },
    "tags": []
   },
   "outputs": [
    {
     "name": "stdout",
     "output_type": "stream",
     "text": [
      "<class 'pandas.core.frame.DataFrame'>\n",
      "RangeIndex: 6 entries, 0 to 5\n",
      "Data columns (total 4 columns):\n",
      " #   Column                         Non-Null Count  Dtype  \n",
      "---  ------                         --------------  -----  \n",
      " 0   Category                       6 non-null      int64  \n",
      " 1   DER (St.)                      6 non-null      float64\n",
      " 2   Operating Profit Margin (St.)  6 non-null      float64\n",
      " 3   Sales Growth (St.)             6 non-null      float64\n",
      "dtypes: float64(3), int64(1)\n",
      "memory usage: 320.0 bytes\n"
     ]
    }
   ],
   "source": [
    "new_df.drop([\"fit\",\"target\"], axis=1, inplace=True)\n",
    "new_df.columns = ['Category','DER (St.)','Operating Profit Margin (St.)', 'Sales Growth (St.)']\n",
    "new_df.info()"
   ]
  },
  {
   "cell_type": "markdown",
   "id": "56c65da1",
   "metadata": {
    "papermill": {
     "duration": 0.062911,
     "end_time": "2022-04-18T12:06:12.206554",
     "exception": false,
     "start_time": "2022-04-18T12:06:12.143643",
     "status": "completed"
    },
    "tags": []
   },
   "source": [
    "# **2.6.1 3D Scatter Plot**"
   ]
  },
  {
   "cell_type": "code",
   "execution_count": 23,
   "id": "4b7ad9e6",
   "metadata": {
    "execution": {
     "iopub.execute_input": "2022-04-18T12:06:12.334756Z",
     "iopub.status.busy": "2022-04-18T12:06:12.334292Z",
     "iopub.status.idle": "2022-04-18T12:06:12.854770Z",
     "shell.execute_reply": "2022-04-18T12:06:12.854025Z"
    },
    "papermill": {
     "duration": 0.58833,
     "end_time": "2022-04-18T12:06:12.857473",
     "exception": false,
     "start_time": "2022-04-18T12:06:12.269143",
     "status": "completed"
    },
    "tags": []
   },
   "outputs": [
    {
     "data": {
      "image/png": "[encoded data removed]",
      "text/plain": [
       "<Figure size 576x576 with 1 Axes>"
      ]
     },
     "metadata": {
      "needs_background": "light"
     },
     "output_type": "display_data"
    }
   ],
   "source": [
    "from mpl_toolkits.mplot3d import Axes3D\n",
    "\n",
    "fig = plt.figure()\n",
    "ax = fig.add_subplot(111, projection = '3d')\n",
    "\n",
    "\n",
    "x = new_df['DER (St.)']\n",
    "y = new_df['Operating Profit Margin (St.)']\n",
    "z = new_df['Sales Growth (St.)']\n",
    "\n",
    "ax.set_xlabel(\"DER (St.)\")\n",
    "ax.set_ylabel(\"Operating Profit Margin (St.)\")\n",
    "ax.set_zlabel(\"Sales Growth (St.)\")\n",
    "\n",
    "cmap = ListedColormap(sns.color_palette(\"RdYlGn\", 256).as_hex())\n",
    "\n",
    "sc = ax.scatter(x, y, z, s=40, c=new_df['Category'], marker='o', cmap=cmap, alpha=1)\n",
    "plt.legend(*sc.legend_elements(), bbox_to_anchor=(1.05, 1), loc=2)\n",
    "\n",
    "plt.show()"
   ]
  },
  {
   "cell_type": "markdown",
   "id": "ce2c453e",
   "metadata": {
    "papermill": {
     "duration": 0.067163,
     "end_time": "2022-04-18T12:06:12.990217",
     "exception": false,
     "start_time": "2022-04-18T12:06:12.923054",
     "status": "completed"
    },
    "tags": []
   },
   "source": [
    "# **2.6.2 X vs Z View**"
   ]
  },
  {
   "cell_type": "code",
   "execution_count": 24,
   "id": "f78e603a",
   "metadata": {
    "execution": {
     "iopub.execute_input": "2022-04-18T12:06:13.121434Z",
     "iopub.status.busy": "2022-04-18T12:06:13.120660Z",
     "iopub.status.idle": "2022-04-18T12:06:13.395073Z",
     "shell.execute_reply": "2022-04-18T12:06:13.394435Z"
    },
    "papermill": {
     "duration": 0.342263,
     "end_time": "2022-04-18T12:06:13.397085",
     "exception": false,
     "start_time": "2022-04-18T12:06:13.054822",
     "status": "completed"
    },
    "tags": []
   },
   "outputs": [
    {
     "data": {
      "image/png": "[encoded data removed]",
      "text/plain": [
       "<Figure size 576x576 with 1 Axes>"
      ]
     },
     "metadata": {
      "needs_background": "light"
     },
     "output_type": "display_data"
    }
   ],
   "source": [
    "# color palette as dictionary\n",
    "palette = {0:\"tab:red\",\n",
    "           1:\"tab:orange\", \n",
    "           2:\"yellow\",\n",
    "           3:\"lime\",\n",
    "           4:\"darkgreen\"}\n",
    "\n",
    "sns.scatterplot(x='DER (St.)', y='Sales Growth (St.)', \n",
    "                hue='Category', data=new_df, s=80,\n",
    "                palette=palette)\n",
    "plt.title(\"DER vs Sales Growth (Standardisasi)\", fontsize=18, y=1.05)\n",
    "plt.show()\n"
   ]
  },
  {
   "cell_type": "markdown",
   "id": "1961c690",
   "metadata": {
    "papermill": {
     "duration": 0.068707,
     "end_time": "2022-04-18T12:06:13.532691",
     "exception": false,
     "start_time": "2022-04-18T12:06:13.463984",
     "status": "completed"
    },
    "tags": []
   },
   "source": [
    "# **2.6.3 Y vs Z View**"
   ]
  },
  {
   "cell_type": "code",
   "execution_count": 25,
   "id": "56fa25bb",
   "metadata": {
    "execution": {
     "iopub.execute_input": "2022-04-18T12:06:13.666386Z",
     "iopub.status.busy": "2022-04-18T12:06:13.665605Z",
     "iopub.status.idle": "2022-04-18T12:06:13.952728Z",
     "shell.execute_reply": "2022-04-18T12:06:13.951765Z"
    },
    "papermill": {
     "duration": 0.357261,
     "end_time": "2022-04-18T12:06:13.955299",
     "exception": false,
     "start_time": "2022-04-18T12:06:13.598038",
     "status": "completed"
    },
    "tags": []
   },
   "outputs": [
    {
     "data": {
      "image/png": "[encoded data removed]",
      "text/plain": [
       "<Figure size 576x576 with 1 Axes>"
      ]
     },
     "metadata": {
      "needs_background": "light"
     },
     "output_type": "display_data"
    }
   ],
   "source": [
    "sns.scatterplot(x='Operating Profit Margin (St.)', y='Sales Growth (St.)', \n",
    "                hue='Category', data=new_df, s=80,\n",
    "                palette=palette)\n",
    "plt.title(\"Operating Profit Margin vs Sales Growth (Standardisasi)\", fontsize=18, y=1.05)\n",
    "plt.show()"
   ]
  },
  {
   "cell_type": "markdown",
   "id": "084f0a21",
   "metadata": {
    "papermill": {
     "duration": 0.067339,
     "end_time": "2022-04-18T12:06:14.089962",
     "exception": false,
     "start_time": "2022-04-18T12:06:14.022623",
     "status": "completed"
    },
    "tags": []
   },
   "source": [
    "# **2.6.4 X vs Y View**"
   ]
  },
  {
   "cell_type": "code",
   "execution_count": 26,
   "id": "74bc6099",
   "metadata": {
    "execution": {
     "iopub.execute_input": "2022-04-18T12:06:14.228525Z",
     "iopub.status.busy": "2022-04-18T12:06:14.227768Z",
     "iopub.status.idle": "2022-04-18T12:06:14.512825Z",
     "shell.execute_reply": "2022-04-18T12:06:14.511683Z"
    },
    "papermill": {
     "duration": 0.355309,
     "end_time": "2022-04-18T12:06:14.515030",
     "exception": false,
     "start_time": "2022-04-18T12:06:14.159721",
     "status": "completed"
    },
    "tags": []
   },
   "outputs": [
    {
     "data": {
      "image/png": "[encoded data removed]",
      "text/plain": [
       "<Figure size 576x576 with 1 Axes>"
      ]
     },
     "metadata": {
      "needs_background": "light"
     },
     "output_type": "display_data"
    }
   ],
   "source": [
    "sns.scatterplot(x='DER (St.)', y='Operating Profit Margin (St.)', \n",
    "                hue='Category', data=new_df, s=80,\n",
    "                palette=palette)\n",
    "plt.title(\"DER vs Operating Profit Margin (Standardisasi)\", fontsize=18, y=1.05)\n",
    "plt.show()\n"
   ]
  },
  {
   "cell_type": "markdown",
   "id": "51517723",
   "metadata": {
    "papermill": {
     "duration": 0.067442,
     "end_time": "2022-04-18T12:06:14.652063",
     "exception": false,
     "start_time": "2022-04-18T12:06:14.584621",
     "status": "completed"
    },
    "tags": []
   },
   "source": [
    "# **3. Export Result**"
   ]
  },
  {
   "cell_type": "markdown",
   "id": "a88bed54",
   "metadata": {
    "papermill": {
     "duration": 0.067729,
     "end_time": "2022-04-18T12:06:14.787829",
     "exception": false,
     "start_time": "2022-04-18T12:06:14.720100",
     "status": "completed"
    },
    "tags": []
   },
   "source": [
    "Adjust **Initial Data** df0:\n"
   ]
  },
  {
   "cell_type": "markdown",
   "id": "f1da31cf",
   "metadata": {
    "papermill": {
     "duration": 0.069388,
     "end_time": "2022-04-18T12:06:14.925905",
     "exception": false,
     "start_time": "2022-04-18T12:06:14.856517",
     "status": "completed"
    },
    "tags": []
   },
   "source": [
    "Delete outlier YELO and other column other than Emiten, DER,Operating Profit Margin,Sales Growth"
   ]
  },
  {
   "cell_type": "code",
   "execution_count": 27,
   "id": "37b646db",
   "metadata": {
    "execution": {
     "iopub.execute_input": "2022-04-18T12:06:15.065340Z",
     "iopub.status.busy": "2022-04-18T12:06:15.065018Z",
     "iopub.status.idle": "2022-04-18T12:06:15.073446Z",
     "shell.execute_reply": "2022-04-18T12:06:15.072363Z"
    },
    "papermill": {
     "duration": 0.081506,
     "end_time": "2022-04-18T12:06:15.075516",
     "exception": false,
     "start_time": "2022-04-18T12:06:14.994010",
     "status": "completed"
    },
    "tags": []
   },
   "outputs": [],
   "source": [
    "# drop these row indexes\n",
    "# from dataFrame\n",
    "index_names = df0[ df0['Emitten'] == 'ARTO' ].index\n",
    "df0.drop(index_names, inplace = True)\n",
    "df0.reset_index(drop=True, inplace=True)\n",
    "df0.drop([\"Category\"\n",
    "         ], axis=1, inplace=True)"
   ]
  },
  {
   "cell_type": "code",
   "execution_count": 28,
   "id": "ac3792d5",
   "metadata": {
    "execution": {
     "iopub.execute_input": "2022-04-18T12:06:15.213626Z",
     "iopub.status.busy": "2022-04-18T12:06:15.213166Z",
     "iopub.status.idle": "2022-04-18T12:06:15.237953Z",
     "shell.execute_reply": "2022-04-18T12:06:15.237085Z"
    },
    "papermill": {
     "duration": 0.096533,
     "end_time": "2022-04-18T12:06:15.240108",
     "exception": false,
     "start_time": "2022-04-18T12:06:15.143575",
     "status": "completed"
    },
    "tags": []
   },
   "outputs": [
    {
     "data": {
      "text/html": [
       "<div>\n",
       "<style scoped>\n",
       "    .dataframe tbody tr th:only-of-type {\n",
       "        vertical-align: middle;\n",
       "    }\n",
       "\n",
       "    .dataframe tbody tr th {\n",
       "        vertical-align: top;\n",
       "    }\n",
       "\n",
       "    .dataframe thead th {\n",
       "        text-align: right;\n",
       "    }\n",
       "</style>\n",
       "<table border=\"1\" class=\"dataframe\">\n",
       "  <thead>\n",
       "    <tr style=\"text-align: right;\">\n",
       "      <th></th>\n",
       "      <th>Industry</th>\n",
       "      <th>Company</th>\n",
       "      <th>Category</th>\n",
       "      <th>DER (St.)</th>\n",
       "      <th>Operating Profit Margin (St.)</th>\n",
       "      <th>Sales Growth (St.)</th>\n",
       "      <th>Emitten</th>\n",
       "      <th>DER</th>\n",
       "      <th>Operating Profit Margin</th>\n",
       "      <th>Return On Asset</th>\n",
       "      <th>Sales Growth</th>\n",
       "    </tr>\n",
       "  </thead>\n",
       "  <tbody>\n",
       "    <tr>\n",
       "      <th>0</th>\n",
       "      <td>Pertambangan</td>\n",
       "      <td>Adaro Energy Indonesia Tbk.</td>\n",
       "      <td>1</td>\n",
       "      <td>-0.868257</td>\n",
       "      <td>-0.292759</td>\n",
       "      <td>0.802127</td>\n",
       "      <td>ADOOY</td>\n",
       "      <td>0.360525</td>\n",
       "      <td>0.393112</td>\n",
       "      <td>0.123039</td>\n",
       "      <td>0.575135</td>\n",
       "    </tr>\n",
       "    <tr>\n",
       "      <th>1</th>\n",
       "      <td>Pertambangan</td>\n",
       "      <td>Aneka Tambang Tbk.</td>\n",
       "      <td>1</td>\n",
       "      <td>-0.904436</td>\n",
       "      <td>-0.752679</td>\n",
       "      <td>0.427836</td>\n",
       "      <td>ANTM.JK</td>\n",
       "      <td>0.308144</td>\n",
       "      <td>0.086652</td>\n",
       "      <td>0.056560</td>\n",
       "      <td>0.404536</td>\n",
       "    </tr>\n",
       "    <tr>\n",
       "      <th>2</th>\n",
       "      <td>Pertambangan</td>\n",
       "      <td>Atlas Resources Tbk.</td>\n",
       "      <td>4</td>\n",
       "      <td>1.346108</td>\n",
       "      <td>-1.391538</td>\n",
       "      <td>-1.180851</td>\n",
       "      <td>ARII.JK</td>\n",
       "      <td>3.566634</td>\n",
       "      <td>-0.339042</td>\n",
       "      <td>-0.038650</td>\n",
       "      <td>-0.328694</td>\n",
       "    </tr>\n",
       "    <tr>\n",
       "      <th>3</th>\n",
       "      <td>Pertambangan</td>\n",
       "      <td>Astrindo Nusantara Infrastruktur Tbk.</td>\n",
       "      <td>1</td>\n",
       "      <td>0.342049</td>\n",
       "      <td>0.906127</td>\n",
       "      <td>-0.223742</td>\n",
       "      <td>BIPI.JK</td>\n",
       "      <td>2.112888</td>\n",
       "      <td>1.191971</td>\n",
       "      <td>0.015116</td>\n",
       "      <td>0.107550</td>\n",
       "    </tr>\n",
       "    <tr>\n",
       "      <th>4</th>\n",
       "      <td>Pertambangan</td>\n",
       "      <td>Borneo Olah Sarana Sukses Tbk.</td>\n",
       "      <td>4</td>\n",
       "      <td>1.159306</td>\n",
       "      <td>-0.076767</td>\n",
       "      <td>-1.275372</td>\n",
       "      <td>BOSS.JK</td>\n",
       "      <td>3.296169</td>\n",
       "      <td>0.537035</td>\n",
       "      <td>-0.151998</td>\n",
       "      <td>-0.371777</td>\n",
       "    </tr>\n",
       "    <tr>\n",
       "      <th>5</th>\n",
       "      <td>Pertambangan</td>\n",
       "      <td>Bumi Resources Minerals Tbk.</td>\n",
       "      <td>2</td>\n",
       "      <td>-1.074770</td>\n",
       "      <td>1.607616</td>\n",
       "      <td>1.450002</td>\n",
       "      <td>BRMS.JK</td>\n",
       "      <td>0.061522</td>\n",
       "      <td>1.659396</td>\n",
       "      <td>0.006723</td>\n",
       "      <td>0.870433</td>\n",
       "    </tr>\n",
       "  </tbody>\n",
       "</table>\n",
       "</div>"
      ],
      "text/plain": [
       "       Industry                                Company  Category  DER (St.)  \\\n",
       "0  Pertambangan            Adaro Energy Indonesia Tbk.         1  -0.868257   \n",
       "1  Pertambangan                     Aneka Tambang Tbk.         1  -0.904436   \n",
       "2  Pertambangan                   Atlas Resources Tbk.         4   1.346108   \n",
       "3  Pertambangan  Astrindo Nusantara Infrastruktur Tbk.         1   0.342049   \n",
       "4  Pertambangan         Borneo Olah Sarana Sukses Tbk.         4   1.159306   \n",
       "5  Pertambangan           Bumi Resources Minerals Tbk.         2  -1.074770   \n",
       "\n",
       "   Operating Profit Margin (St.)  Sales Growth (St.)   Emitten       DER  \\\n",
       "0                      -0.292759            0.802127     ADOOY  0.360525   \n",
       "1                      -0.752679            0.427836   ANTM.JK  0.308144   \n",
       "2                      -1.391538           -1.180851  ARII.JK   3.566634   \n",
       "3                       0.906127           -0.223742  BIPI.JK   2.112888   \n",
       "4                      -0.076767           -1.275372  BOSS.JK   3.296169   \n",
       "5                       1.607616            1.450002  BRMS.JK   0.061522   \n",
       "\n",
       "   Operating Profit Margin  Return On Asset  Sales Growth  \n",
       "0                 0.393112         0.123039      0.575135  \n",
       "1                 0.086652         0.056560      0.404536  \n",
       "2                -0.339042        -0.038650     -0.328694  \n",
       "3                 1.191971         0.015116      0.107550  \n",
       "4                 0.537035        -0.151998     -0.371777  \n",
       "5                 1.659396         0.006723      0.870433  "
      ]
     },
     "execution_count": 28,
     "metadata": {},
     "output_type": "execute_result"
    }
   ],
   "source": [
    "dftemp = pd.read_csv('../input/emitten-list/Emittenlist.csv')\n",
    "df = pd.concat([dftemp, new_df, df0], axis=1)\n",
    "df.head(6)"
   ]
  },
  {
   "cell_type": "code",
   "execution_count": 29,
   "id": "69dca0bb",
   "metadata": {
    "execution": {
     "iopub.execute_input": "2022-04-18T12:06:15.379161Z",
     "iopub.status.busy": "2022-04-18T12:06:15.378771Z",
     "iopub.status.idle": "2022-04-18T12:06:15.386925Z",
     "shell.execute_reply": "2022-04-18T12:06:15.386247Z"
    },
    "papermill": {
     "duration": 0.080086,
     "end_time": "2022-04-18T12:06:15.389107",
     "exception": false,
     "start_time": "2022-04-18T12:06:15.309021",
     "status": "completed"
    },
    "tags": []
   },
   "outputs": [],
   "source": [
    "df.to_csv('result.csv', index = False)"
   ]
  },
  {
   "cell_type": "markdown",
   "id": "afd97dd3",
   "metadata": {
    "papermill": {
     "duration": 0.070603,
     "end_time": "2022-04-18T12:06:15.528416",
     "exception": false,
     "start_time": "2022-04-18T12:06:15.457813",
     "status": "completed"
    },
    "tags": []
   },
   "source": [
    "# **4. Get Centroid**"
   ]
  },
  {
   "cell_type": "code",
   "execution_count": 30,
   "id": "cb3ec2ca",
   "metadata": {
    "execution": {
     "iopub.execute_input": "2022-04-18T12:06:15.674530Z",
     "iopub.status.busy": "2022-04-18T12:06:15.674056Z",
     "iopub.status.idle": "2022-04-18T12:06:15.679959Z",
     "shell.execute_reply": "2022-04-18T12:06:15.679012Z"
    },
    "papermill": {
     "duration": 0.081726,
     "end_time": "2022-04-18T12:06:15.682032",
     "exception": false,
     "start_time": "2022-04-18T12:06:15.600306",
     "status": "completed"
    },
    "tags": []
   },
   "outputs": [
    {
     "data": {
      "text/plain": [
       "array([[-1.0747699 ,  1.60761561,  1.45000206],\n",
       "       [ 1.25270712, -0.73415244, -1.22811141],\n",
       "       [-0.47688144, -0.04643691,  0.33540692]])"
      ]
     },
     "execution_count": 30,
     "metadata": {},
     "output_type": "execute_result"
    }
   ],
   "source": [
    "kmeans.cluster_centers_"
   ]
  },
  {
   "cell_type": "code",
   "execution_count": 31,
   "id": "d5ea50b8",
   "metadata": {
    "execution": {
     "iopub.execute_input": "2022-04-18T12:06:15.829311Z",
     "iopub.status.busy": "2022-04-18T12:06:15.828552Z",
     "iopub.status.idle": "2022-04-18T12:06:16.063383Z",
     "shell.execute_reply": "2022-04-18T12:06:16.062505Z"
    },
    "papermill": {
     "duration": 0.309344,
     "end_time": "2022-04-18T12:06:16.065996",
     "exception": false,
     "start_time": "2022-04-18T12:06:15.756652",
     "status": "completed"
    },
    "tags": []
   },
   "outputs": [
    {
     "data": {
      "image/png": "[encoded data removed]",
      "text/plain": [
       "<Figure size 576x576 with 1 Axes>"
      ]
     },
     "metadata": {
      "needs_background": "light"
     },
     "output_type": "display_data"
    }
   ],
   "source": [
    "from mpl_toolkits.mplot3d import Axes3D\n",
    "\n",
    "fig = plt.figure()\n",
    "ax = fig.add_subplot(111, projection = '3d')\n",
    "x = [-1.0747699 ,  1.60761561,  1.45000206]\n",
    "y = [ 1.25270712, -0.73415244, -1.22811141]\n",
    "z = [-0.47688144, -0.04643691,  0.33540692]\n",
    "\n",
    "ax.set_xlabel(\"DER (St.)\")\n",
    "ax.set_ylabel(\"Operating Profit Margin (St.)\")\n",
    "ax.set_zlabel(\"Sales Growth (St.)\")\n",
    "ax.scatter(x, y, z)\n",
    "plt.show()"
   ]
  },
  {
   "cell_type": "markdown",
   "id": "5826c129",
   "metadata": {
    "papermill": {
     "duration": 0.071918,
     "end_time": "2022-04-18T12:06:16.208823",
     "exception": false,
     "start_time": "2022-04-18T12:06:16.136905",
     "status": "completed"
    },
    "tags": []
   },
   "source": [
    "# **5. Cluster Description**"
   ]
  },
  {
   "cell_type": "code",
   "execution_count": 32,
   "id": "81dedf0e",
   "metadata": {
    "execution": {
     "iopub.execute_input": "2022-04-18T12:06:16.354158Z",
     "iopub.status.busy": "2022-04-18T12:06:16.353824Z",
     "iopub.status.idle": "2022-04-18T12:06:16.389102Z",
     "shell.execute_reply": "2022-04-18T12:06:16.388191Z"
    },
    "papermill": {
     "duration": 0.111222,
     "end_time": "2022-04-18T12:06:16.391375",
     "exception": false,
     "start_time": "2022-04-18T12:06:16.280153",
     "status": "completed"
    },
    "tags": []
   },
   "outputs": [
    {
     "data": {
      "text/html": [
       "<div>\n",
       "<style scoped>\n",
       "    .dataframe tbody tr th:only-of-type {\n",
       "        vertical-align: middle;\n",
       "    }\n",
       "\n",
       "    .dataframe tbody tr th {\n",
       "        vertical-align: top;\n",
       "    }\n",
       "\n",
       "    .dataframe thead th {\n",
       "        text-align: right;\n",
       "    }\n",
       "</style>\n",
       "<table border=\"1\" class=\"dataframe\">\n",
       "  <thead>\n",
       "    <tr style=\"text-align: right;\">\n",
       "      <th></th>\n",
       "      <th>Category</th>\n",
       "      <th>DER (St.)</th>\n",
       "      <th>Operating Profit Margin (St.)</th>\n",
       "      <th>Sales Growth (St.)</th>\n",
       "      <th>DER</th>\n",
       "      <th>Operating Profit Margin</th>\n",
       "      <th>Return On Asset</th>\n",
       "      <th>Sales Growth</th>\n",
       "    </tr>\n",
       "  </thead>\n",
       "  <tbody>\n",
       "    <tr>\n",
       "      <th>count</th>\n",
       "      <td>2.0</td>\n",
       "      <td>2.000000</td>\n",
       "      <td>2.000000</td>\n",
       "      <td>2.000000</td>\n",
       "      <td>2.000000</td>\n",
       "      <td>2.000000</td>\n",
       "      <td>2.000000</td>\n",
       "      <td>2.000000</td>\n",
       "    </tr>\n",
       "    <tr>\n",
       "      <th>mean</th>\n",
       "      <td>4.0</td>\n",
       "      <td>1.252707</td>\n",
       "      <td>-0.734152</td>\n",
       "      <td>-1.228111</td>\n",
       "      <td>3.431401</td>\n",
       "      <td>0.098997</td>\n",
       "      <td>-0.095324</td>\n",
       "      <td>-0.350236</td>\n",
       "    </tr>\n",
       "    <tr>\n",
       "      <th>std</th>\n",
       "      <td>0.0</td>\n",
       "      <td>0.132089</td>\n",
       "      <td>0.929684</td>\n",
       "      <td>0.066837</td>\n",
       "      <td>0.191247</td>\n",
       "      <td>0.619480</td>\n",
       "      <td>0.080149</td>\n",
       "      <td>0.030464</td>\n",
       "    </tr>\n",
       "    <tr>\n",
       "      <th>min</th>\n",
       "      <td>4.0</td>\n",
       "      <td>1.159306</td>\n",
       "      <td>-1.391538</td>\n",
       "      <td>-1.275372</td>\n",
       "      <td>3.296169</td>\n",
       "      <td>-0.339042</td>\n",
       "      <td>-0.151998</td>\n",
       "      <td>-0.371777</td>\n",
       "    </tr>\n",
       "    <tr>\n",
       "      <th>25%</th>\n",
       "      <td>4.0</td>\n",
       "      <td>1.206007</td>\n",
       "      <td>-1.062845</td>\n",
       "      <td>-1.251742</td>\n",
       "      <td>3.363785</td>\n",
       "      <td>-0.120023</td>\n",
       "      <td>-0.123661</td>\n",
       "      <td>-0.361006</td>\n",
       "    </tr>\n",
       "    <tr>\n",
       "      <th>50%</th>\n",
       "      <td>4.0</td>\n",
       "      <td>1.252707</td>\n",
       "      <td>-0.734152</td>\n",
       "      <td>-1.228111</td>\n",
       "      <td>3.431401</td>\n",
       "      <td>0.098997</td>\n",
       "      <td>-0.095324</td>\n",
       "      <td>-0.350236</td>\n",
       "    </tr>\n",
       "    <tr>\n",
       "      <th>75%</th>\n",
       "      <td>4.0</td>\n",
       "      <td>1.299408</td>\n",
       "      <td>-0.405460</td>\n",
       "      <td>-1.204481</td>\n",
       "      <td>3.499018</td>\n",
       "      <td>0.318016</td>\n",
       "      <td>-0.066987</td>\n",
       "      <td>-0.339465</td>\n",
       "    </tr>\n",
       "    <tr>\n",
       "      <th>max</th>\n",
       "      <td>4.0</td>\n",
       "      <td>1.346108</td>\n",
       "      <td>-0.076767</td>\n",
       "      <td>-1.180851</td>\n",
       "      <td>3.566634</td>\n",
       "      <td>0.537035</td>\n",
       "      <td>-0.038650</td>\n",
       "      <td>-0.328694</td>\n",
       "    </tr>\n",
       "  </tbody>\n",
       "</table>\n",
       "</div>"
      ],
      "text/plain": [
       "       Category  DER (St.)  Operating Profit Margin (St.)  Sales Growth (St.)  \\\n",
       "count       2.0   2.000000                       2.000000            2.000000   \n",
       "mean        4.0   1.252707                      -0.734152           -1.228111   \n",
       "std         0.0   0.132089                       0.929684            0.066837   \n",
       "min         4.0   1.159306                      -1.391538           -1.275372   \n",
       "25%         4.0   1.206007                      -1.062845           -1.251742   \n",
       "50%         4.0   1.252707                      -0.734152           -1.228111   \n",
       "75%         4.0   1.299408                      -0.405460           -1.204481   \n",
       "max         4.0   1.346108                      -0.076767           -1.180851   \n",
       "\n",
       "            DER  Operating Profit Margin  Return On Asset  Sales Growth  \n",
       "count  2.000000                 2.000000         2.000000      2.000000  \n",
       "mean   3.431401                 0.098997        -0.095324     -0.350236  \n",
       "std    0.191247                 0.619480         0.080149      0.030464  \n",
       "min    3.296169                -0.339042        -0.151998     -0.371777  \n",
       "25%    3.363785                -0.120023        -0.123661     -0.361006  \n",
       "50%    3.431401                 0.098997        -0.095324     -0.350236  \n",
       "75%    3.499018                 0.318016        -0.066987     -0.339465  \n",
       "max    3.566634                 0.537035        -0.038650     -0.328694  "
      ]
     },
     "execution_count": 32,
     "metadata": {},
     "output_type": "execute_result"
    }
   ],
   "source": [
    "#Highly Positively Impacted\n",
    "df[df['Category'] == 4].describe() "
   ]
  },
  {
   "cell_type": "code",
   "execution_count": 33,
   "id": "d1b69e1d",
   "metadata": {
    "execution": {
     "iopub.execute_input": "2022-04-18T12:06:16.541181Z",
     "iopub.status.busy": "2022-04-18T12:06:16.540801Z",
     "iopub.status.idle": "2022-04-18T12:06:16.573861Z",
     "shell.execute_reply": "2022-04-18T12:06:16.572861Z"
    },
    "papermill": {
     "duration": 0.111731,
     "end_time": "2022-04-18T12:06:16.575926",
     "exception": false,
     "start_time": "2022-04-18T12:06:16.464195",
     "status": "completed"
    },
    "tags": []
   },
   "outputs": [
    {
     "data": {
      "text/html": [
       "<div>\n",
       "<style scoped>\n",
       "    .dataframe tbody tr th:only-of-type {\n",
       "        vertical-align: middle;\n",
       "    }\n",
       "\n",
       "    .dataframe tbody tr th {\n",
       "        vertical-align: top;\n",
       "    }\n",
       "\n",
       "    .dataframe thead th {\n",
       "        text-align: right;\n",
       "    }\n",
       "</style>\n",
       "<table border=\"1\" class=\"dataframe\">\n",
       "  <thead>\n",
       "    <tr style=\"text-align: right;\">\n",
       "      <th></th>\n",
       "      <th>Category</th>\n",
       "      <th>DER (St.)</th>\n",
       "      <th>Operating Profit Margin (St.)</th>\n",
       "      <th>Sales Growth (St.)</th>\n",
       "      <th>DER</th>\n",
       "      <th>Operating Profit Margin</th>\n",
       "      <th>Return On Asset</th>\n",
       "      <th>Sales Growth</th>\n",
       "    </tr>\n",
       "  </thead>\n",
       "  <tbody>\n",
       "    <tr>\n",
       "      <th>count</th>\n",
       "      <td>0.0</td>\n",
       "      <td>0.0</td>\n",
       "      <td>0.0</td>\n",
       "      <td>0.0</td>\n",
       "      <td>0.0</td>\n",
       "      <td>0.0</td>\n",
       "      <td>0.0</td>\n",
       "      <td>0.0</td>\n",
       "    </tr>\n",
       "    <tr>\n",
       "      <th>mean</th>\n",
       "      <td>NaN</td>\n",
       "      <td>NaN</td>\n",
       "      <td>NaN</td>\n",
       "      <td>NaN</td>\n",
       "      <td>NaN</td>\n",
       "      <td>NaN</td>\n",
       "      <td>NaN</td>\n",
       "      <td>NaN</td>\n",
       "    </tr>\n",
       "    <tr>\n",
       "      <th>std</th>\n",
       "      <td>NaN</td>\n",
       "      <td>NaN</td>\n",
       "      <td>NaN</td>\n",
       "      <td>NaN</td>\n",
       "      <td>NaN</td>\n",
       "      <td>NaN</td>\n",
       "      <td>NaN</td>\n",
       "      <td>NaN</td>\n",
       "    </tr>\n",
       "    <tr>\n",
       "      <th>min</th>\n",
       "      <td>NaN</td>\n",
       "      <td>NaN</td>\n",
       "      <td>NaN</td>\n",
       "      <td>NaN</td>\n",
       "      <td>NaN</td>\n",
       "      <td>NaN</td>\n",
       "      <td>NaN</td>\n",
       "      <td>NaN</td>\n",
       "    </tr>\n",
       "    <tr>\n",
       "      <th>25%</th>\n",
       "      <td>NaN</td>\n",
       "      <td>NaN</td>\n",
       "      <td>NaN</td>\n",
       "      <td>NaN</td>\n",
       "      <td>NaN</td>\n",
       "      <td>NaN</td>\n",
       "      <td>NaN</td>\n",
       "      <td>NaN</td>\n",
       "    </tr>\n",
       "    <tr>\n",
       "      <th>50%</th>\n",
       "      <td>NaN</td>\n",
       "      <td>NaN</td>\n",
       "      <td>NaN</td>\n",
       "      <td>NaN</td>\n",
       "      <td>NaN</td>\n",
       "      <td>NaN</td>\n",
       "      <td>NaN</td>\n",
       "      <td>NaN</td>\n",
       "    </tr>\n",
       "    <tr>\n",
       "      <th>75%</th>\n",
       "      <td>NaN</td>\n",
       "      <td>NaN</td>\n",
       "      <td>NaN</td>\n",
       "      <td>NaN</td>\n",
       "      <td>NaN</td>\n",
       "      <td>NaN</td>\n",
       "      <td>NaN</td>\n",
       "      <td>NaN</td>\n",
       "    </tr>\n",
       "    <tr>\n",
       "      <th>max</th>\n",
       "      <td>NaN</td>\n",
       "      <td>NaN</td>\n",
       "      <td>NaN</td>\n",
       "      <td>NaN</td>\n",
       "      <td>NaN</td>\n",
       "      <td>NaN</td>\n",
       "      <td>NaN</td>\n",
       "      <td>NaN</td>\n",
       "    </tr>\n",
       "  </tbody>\n",
       "</table>\n",
       "</div>"
      ],
      "text/plain": [
       "       Category  DER (St.)  Operating Profit Margin (St.)  Sales Growth (St.)  \\\n",
       "count       0.0        0.0                            0.0                 0.0   \n",
       "mean        NaN        NaN                            NaN                 NaN   \n",
       "std         NaN        NaN                            NaN                 NaN   \n",
       "min         NaN        NaN                            NaN                 NaN   \n",
       "25%         NaN        NaN                            NaN                 NaN   \n",
       "50%         NaN        NaN                            NaN                 NaN   \n",
       "75%         NaN        NaN                            NaN                 NaN   \n",
       "max         NaN        NaN                            NaN                 NaN   \n",
       "\n",
       "       DER  Operating Profit Margin  Return On Asset  Sales Growth  \n",
       "count  0.0                      0.0              0.0           0.0  \n",
       "mean   NaN                      NaN              NaN           NaN  \n",
       "std    NaN                      NaN              NaN           NaN  \n",
       "min    NaN                      NaN              NaN           NaN  \n",
       "25%    NaN                      NaN              NaN           NaN  \n",
       "50%    NaN                      NaN              NaN           NaN  \n",
       "75%    NaN                      NaN              NaN           NaN  \n",
       "max    NaN                      NaN              NaN           NaN  "
      ]
     },
     "execution_count": 33,
     "metadata": {},
     "output_type": "execute_result"
    }
   ],
   "source": [
    "#Highly Positively Impacted\n",
    "df[df['Category'] == 3].describe() "
   ]
  },
  {
   "cell_type": "code",
   "execution_count": 34,
   "id": "590a57d9",
   "metadata": {
    "execution": {
     "iopub.execute_input": "2022-04-18T12:06:16.723214Z",
     "iopub.status.busy": "2022-04-18T12:06:16.722665Z",
     "iopub.status.idle": "2022-04-18T12:06:16.758350Z",
     "shell.execute_reply": "2022-04-18T12:06:16.757559Z"
    },
    "papermill": {
     "duration": 0.111526,
     "end_time": "2022-04-18T12:06:16.760615",
     "exception": false,
     "start_time": "2022-04-18T12:06:16.649089",
     "status": "completed"
    },
    "tags": []
   },
   "outputs": [
    {
     "data": {
      "text/html": [
       "<div>\n",
       "<style scoped>\n",
       "    .dataframe tbody tr th:only-of-type {\n",
       "        vertical-align: middle;\n",
       "    }\n",
       "\n",
       "    .dataframe tbody tr th {\n",
       "        vertical-align: top;\n",
       "    }\n",
       "\n",
       "    .dataframe thead th {\n",
       "        text-align: right;\n",
       "    }\n",
       "</style>\n",
       "<table border=\"1\" class=\"dataframe\">\n",
       "  <thead>\n",
       "    <tr style=\"text-align: right;\">\n",
       "      <th></th>\n",
       "      <th>Category</th>\n",
       "      <th>DER (St.)</th>\n",
       "      <th>Operating Profit Margin (St.)</th>\n",
       "      <th>Sales Growth (St.)</th>\n",
       "      <th>DER</th>\n",
       "      <th>Operating Profit Margin</th>\n",
       "      <th>Return On Asset</th>\n",
       "      <th>Sales Growth</th>\n",
       "    </tr>\n",
       "  </thead>\n",
       "  <tbody>\n",
       "    <tr>\n",
       "      <th>count</th>\n",
       "      <td>1.0</td>\n",
       "      <td>1.00000</td>\n",
       "      <td>1.000000</td>\n",
       "      <td>1.000000</td>\n",
       "      <td>1.000000</td>\n",
       "      <td>1.000000</td>\n",
       "      <td>1.000000</td>\n",
       "      <td>1.000000</td>\n",
       "    </tr>\n",
       "    <tr>\n",
       "      <th>mean</th>\n",
       "      <td>2.0</td>\n",
       "      <td>-1.07477</td>\n",
       "      <td>1.607616</td>\n",
       "      <td>1.450002</td>\n",
       "      <td>0.061522</td>\n",
       "      <td>1.659396</td>\n",
       "      <td>0.006723</td>\n",
       "      <td>0.870433</td>\n",
       "    </tr>\n",
       "    <tr>\n",
       "      <th>std</th>\n",
       "      <td>NaN</td>\n",
       "      <td>NaN</td>\n",
       "      <td>NaN</td>\n",
       "      <td>NaN</td>\n",
       "      <td>NaN</td>\n",
       "      <td>NaN</td>\n",
       "      <td>NaN</td>\n",
       "      <td>NaN</td>\n",
       "    </tr>\n",
       "    <tr>\n",
       "      <th>min</th>\n",
       "      <td>2.0</td>\n",
       "      <td>-1.07477</td>\n",
       "      <td>1.607616</td>\n",
       "      <td>1.450002</td>\n",
       "      <td>0.061522</td>\n",
       "      <td>1.659396</td>\n",
       "      <td>0.006723</td>\n",
       "      <td>0.870433</td>\n",
       "    </tr>\n",
       "    <tr>\n",
       "      <th>25%</th>\n",
       "      <td>2.0</td>\n",
       "      <td>-1.07477</td>\n",
       "      <td>1.607616</td>\n",
       "      <td>1.450002</td>\n",
       "      <td>0.061522</td>\n",
       "      <td>1.659396</td>\n",
       "      <td>0.006723</td>\n",
       "      <td>0.870433</td>\n",
       "    </tr>\n",
       "    <tr>\n",
       "      <th>50%</th>\n",
       "      <td>2.0</td>\n",
       "      <td>-1.07477</td>\n",
       "      <td>1.607616</td>\n",
       "      <td>1.450002</td>\n",
       "      <td>0.061522</td>\n",
       "      <td>1.659396</td>\n",
       "      <td>0.006723</td>\n",
       "      <td>0.870433</td>\n",
       "    </tr>\n",
       "    <tr>\n",
       "      <th>75%</th>\n",
       "      <td>2.0</td>\n",
       "      <td>-1.07477</td>\n",
       "      <td>1.607616</td>\n",
       "      <td>1.450002</td>\n",
       "      <td>0.061522</td>\n",
       "      <td>1.659396</td>\n",
       "      <td>0.006723</td>\n",
       "      <td>0.870433</td>\n",
       "    </tr>\n",
       "    <tr>\n",
       "      <th>max</th>\n",
       "      <td>2.0</td>\n",
       "      <td>-1.07477</td>\n",
       "      <td>1.607616</td>\n",
       "      <td>1.450002</td>\n",
       "      <td>0.061522</td>\n",
       "      <td>1.659396</td>\n",
       "      <td>0.006723</td>\n",
       "      <td>0.870433</td>\n",
       "    </tr>\n",
       "  </tbody>\n",
       "</table>\n",
       "</div>"
      ],
      "text/plain": [
       "       Category  DER (St.)  Operating Profit Margin (St.)  Sales Growth (St.)  \\\n",
       "count       1.0    1.00000                       1.000000            1.000000   \n",
       "mean        2.0   -1.07477                       1.607616            1.450002   \n",
       "std         NaN        NaN                            NaN                 NaN   \n",
       "min         2.0   -1.07477                       1.607616            1.450002   \n",
       "25%         2.0   -1.07477                       1.607616            1.450002   \n",
       "50%         2.0   -1.07477                       1.607616            1.450002   \n",
       "75%         2.0   -1.07477                       1.607616            1.450002   \n",
       "max         2.0   -1.07477                       1.607616            1.450002   \n",
       "\n",
       "            DER  Operating Profit Margin  Return On Asset  Sales Growth  \n",
       "count  1.000000                 1.000000         1.000000      1.000000  \n",
       "mean   0.061522                 1.659396         0.006723      0.870433  \n",
       "std         NaN                      NaN              NaN           NaN  \n",
       "min    0.061522                 1.659396         0.006723      0.870433  \n",
       "25%    0.061522                 1.659396         0.006723      0.870433  \n",
       "50%    0.061522                 1.659396         0.006723      0.870433  \n",
       "75%    0.061522                 1.659396         0.006723      0.870433  \n",
       "max    0.061522                 1.659396         0.006723      0.870433  "
      ]
     },
     "execution_count": 34,
     "metadata": {},
     "output_type": "execute_result"
    }
   ],
   "source": [
    "#Highly Positively Impacted\n",
    "df[df['Category'] == 2].describe() "
   ]
  },
  {
   "cell_type": "code",
   "execution_count": 35,
   "id": "e7449359",
   "metadata": {
    "execution": {
     "iopub.execute_input": "2022-04-18T12:06:16.912200Z",
     "iopub.status.busy": "2022-04-18T12:06:16.911833Z",
     "iopub.status.idle": "2022-04-18T12:06:16.954573Z",
     "shell.execute_reply": "2022-04-18T12:06:16.953336Z"
    },
    "papermill": {
     "duration": 0.12141,
     "end_time": "2022-04-18T12:06:16.956637",
     "exception": false,
     "start_time": "2022-04-18T12:06:16.835227",
     "status": "completed"
    },
    "tags": []
   },
   "outputs": [
    {
     "data": {
      "text/html": [
       "<div>\n",
       "<style scoped>\n",
       "    .dataframe tbody tr th:only-of-type {\n",
       "        vertical-align: middle;\n",
       "    }\n",
       "\n",
       "    .dataframe tbody tr th {\n",
       "        vertical-align: top;\n",
       "    }\n",
       "\n",
       "    .dataframe thead th {\n",
       "        text-align: right;\n",
       "    }\n",
       "</style>\n",
       "<table border=\"1\" class=\"dataframe\">\n",
       "  <thead>\n",
       "    <tr style=\"text-align: right;\">\n",
       "      <th></th>\n",
       "      <th>Category</th>\n",
       "      <th>DER (St.)</th>\n",
       "      <th>Operating Profit Margin (St.)</th>\n",
       "      <th>Sales Growth (St.)</th>\n",
       "      <th>DER</th>\n",
       "      <th>Operating Profit Margin</th>\n",
       "      <th>Return On Asset</th>\n",
       "      <th>Sales Growth</th>\n",
       "    </tr>\n",
       "  </thead>\n",
       "  <tbody>\n",
       "    <tr>\n",
       "      <th>count</th>\n",
       "      <td>3.0</td>\n",
       "      <td>3.000000</td>\n",
       "      <td>3.000000</td>\n",
       "      <td>3.000000</td>\n",
       "      <td>3.000000</td>\n",
       "      <td>3.000000</td>\n",
       "      <td>3.000000</td>\n",
       "      <td>3.000000</td>\n",
       "    </tr>\n",
       "    <tr>\n",
       "      <th>mean</th>\n",
       "      <td>1.0</td>\n",
       "      <td>-0.476881</td>\n",
       "      <td>-0.046437</td>\n",
       "      <td>0.335407</td>\n",
       "      <td>0.927186</td>\n",
       "      <td>0.557245</td>\n",
       "      <td>0.064905</td>\n",
       "      <td>0.362407</td>\n",
       "    </tr>\n",
       "    <tr>\n",
       "      <th>std</th>\n",
       "      <td>0.0</td>\n",
       "      <td>0.709445</td>\n",
       "      <td>0.856397</td>\n",
       "      <td>0.519143</td>\n",
       "      <td>1.027183</td>\n",
       "      <td>0.570646</td>\n",
       "      <td>0.054444</td>\n",
       "      <td>0.236622</td>\n",
       "    </tr>\n",
       "    <tr>\n",
       "      <th>min</th>\n",
       "      <td>1.0</td>\n",
       "      <td>-0.904436</td>\n",
       "      <td>-0.752679</td>\n",
       "      <td>-0.223742</td>\n",
       "      <td>0.308144</td>\n",
       "      <td>0.086652</td>\n",
       "      <td>0.015116</td>\n",
       "      <td>0.107550</td>\n",
       "    </tr>\n",
       "    <tr>\n",
       "      <th>25%</th>\n",
       "      <td>1.0</td>\n",
       "      <td>-0.886347</td>\n",
       "      <td>-0.522719</td>\n",
       "      <td>0.102047</td>\n",
       "      <td>0.334334</td>\n",
       "      <td>0.239882</td>\n",
       "      <td>0.035838</td>\n",
       "      <td>0.256043</td>\n",
       "    </tr>\n",
       "    <tr>\n",
       "      <th>50%</th>\n",
       "      <td>1.0</td>\n",
       "      <td>-0.868257</td>\n",
       "      <td>-0.292759</td>\n",
       "      <td>0.427836</td>\n",
       "      <td>0.360525</td>\n",
       "      <td>0.393112</td>\n",
       "      <td>0.056560</td>\n",
       "      <td>0.404536</td>\n",
       "    </tr>\n",
       "    <tr>\n",
       "      <th>75%</th>\n",
       "      <td>1.0</td>\n",
       "      <td>-0.263104</td>\n",
       "      <td>0.306684</td>\n",
       "      <td>0.614981</td>\n",
       "      <td>1.236707</td>\n",
       "      <td>0.792541</td>\n",
       "      <td>0.089800</td>\n",
       "      <td>0.489835</td>\n",
       "    </tr>\n",
       "    <tr>\n",
       "      <th>max</th>\n",
       "      <td>1.0</td>\n",
       "      <td>0.342049</td>\n",
       "      <td>0.906127</td>\n",
       "      <td>0.802127</td>\n",
       "      <td>2.112888</td>\n",
       "      <td>1.191971</td>\n",
       "      <td>0.123039</td>\n",
       "      <td>0.575135</td>\n",
       "    </tr>\n",
       "  </tbody>\n",
       "</table>\n",
       "</div>"
      ],
      "text/plain": [
       "       Category  DER (St.)  Operating Profit Margin (St.)  Sales Growth (St.)  \\\n",
       "count       3.0   3.000000                       3.000000            3.000000   \n",
       "mean        1.0  -0.476881                      -0.046437            0.335407   \n",
       "std         0.0   0.709445                       0.856397            0.519143   \n",
       "min         1.0  -0.904436                      -0.752679           -0.223742   \n",
       "25%         1.0  -0.886347                      -0.522719            0.102047   \n",
       "50%         1.0  -0.868257                      -0.292759            0.427836   \n",
       "75%         1.0  -0.263104                       0.306684            0.614981   \n",
       "max         1.0   0.342049                       0.906127            0.802127   \n",
       "\n",
       "            DER  Operating Profit Margin  Return On Asset  Sales Growth  \n",
       "count  3.000000                 3.000000         3.000000      3.000000  \n",
       "mean   0.927186                 0.557245         0.064905      0.362407  \n",
       "std    1.027183                 0.570646         0.054444      0.236622  \n",
       "min    0.308144                 0.086652         0.015116      0.107550  \n",
       "25%    0.334334                 0.239882         0.035838      0.256043  \n",
       "50%    0.360525                 0.393112         0.056560      0.404536  \n",
       "75%    1.236707                 0.792541         0.089800      0.489835  \n",
       "max    2.112888                 1.191971         0.123039      0.575135  "
      ]
     },
     "execution_count": 35,
     "metadata": {},
     "output_type": "execute_result"
    }
   ],
   "source": [
    "#Highly Positively Impacted\n",
    "df[df['Category'] == 1].describe() "
   ]
  },
  {
   "cell_type": "code",
   "execution_count": 36,
   "id": "3fbd3e73",
   "metadata": {
    "execution": {
     "iopub.execute_input": "2022-04-18T12:06:17.109566Z",
     "iopub.status.busy": "2022-04-18T12:06:17.109188Z",
     "iopub.status.idle": "2022-04-18T12:06:17.150870Z",
     "shell.execute_reply": "2022-04-18T12:06:17.149894Z"
    },
    "papermill": {
     "duration": 0.120071,
     "end_time": "2022-04-18T12:06:17.153143",
     "exception": false,
     "start_time": "2022-04-18T12:06:17.033072",
     "status": "completed"
    },
    "tags": []
   },
   "outputs": [
    {
     "data": {
      "text/html": [
       "<div>\n",
       "<style scoped>\n",
       "    .dataframe tbody tr th:only-of-type {\n",
       "        vertical-align: middle;\n",
       "    }\n",
       "\n",
       "    .dataframe tbody tr th {\n",
       "        vertical-align: top;\n",
       "    }\n",
       "\n",
       "    .dataframe thead th {\n",
       "        text-align: right;\n",
       "    }\n",
       "</style>\n",
       "<table border=\"1\" class=\"dataframe\">\n",
       "  <thead>\n",
       "    <tr style=\"text-align: right;\">\n",
       "      <th></th>\n",
       "      <th>Category</th>\n",
       "      <th>DER (St.)</th>\n",
       "      <th>Operating Profit Margin (St.)</th>\n",
       "      <th>Sales Growth (St.)</th>\n",
       "      <th>DER</th>\n",
       "      <th>Operating Profit Margin</th>\n",
       "      <th>Return On Asset</th>\n",
       "      <th>Sales Growth</th>\n",
       "    </tr>\n",
       "  </thead>\n",
       "  <tbody>\n",
       "    <tr>\n",
       "      <th>count</th>\n",
       "      <td>0.0</td>\n",
       "      <td>0.0</td>\n",
       "      <td>0.0</td>\n",
       "      <td>0.0</td>\n",
       "      <td>0.0</td>\n",
       "      <td>0.0</td>\n",
       "      <td>0.0</td>\n",
       "      <td>0.0</td>\n",
       "    </tr>\n",
       "    <tr>\n",
       "      <th>mean</th>\n",
       "      <td>NaN</td>\n",
       "      <td>NaN</td>\n",
       "      <td>NaN</td>\n",
       "      <td>NaN</td>\n",
       "      <td>NaN</td>\n",
       "      <td>NaN</td>\n",
       "      <td>NaN</td>\n",
       "      <td>NaN</td>\n",
       "    </tr>\n",
       "    <tr>\n",
       "      <th>std</th>\n",
       "      <td>NaN</td>\n",
       "      <td>NaN</td>\n",
       "      <td>NaN</td>\n",
       "      <td>NaN</td>\n",
       "      <td>NaN</td>\n",
       "      <td>NaN</td>\n",
       "      <td>NaN</td>\n",
       "      <td>NaN</td>\n",
       "    </tr>\n",
       "    <tr>\n",
       "      <th>min</th>\n",
       "      <td>NaN</td>\n",
       "      <td>NaN</td>\n",
       "      <td>NaN</td>\n",
       "      <td>NaN</td>\n",
       "      <td>NaN</td>\n",
       "      <td>NaN</td>\n",
       "      <td>NaN</td>\n",
       "      <td>NaN</td>\n",
       "    </tr>\n",
       "    <tr>\n",
       "      <th>25%</th>\n",
       "      <td>NaN</td>\n",
       "      <td>NaN</td>\n",
       "      <td>NaN</td>\n",
       "      <td>NaN</td>\n",
       "      <td>NaN</td>\n",
       "      <td>NaN</td>\n",
       "      <td>NaN</td>\n",
       "      <td>NaN</td>\n",
       "    </tr>\n",
       "    <tr>\n",
       "      <th>50%</th>\n",
       "      <td>NaN</td>\n",
       "      <td>NaN</td>\n",
       "      <td>NaN</td>\n",
       "      <td>NaN</td>\n",
       "      <td>NaN</td>\n",
       "      <td>NaN</td>\n",
       "      <td>NaN</td>\n",
       "      <td>NaN</td>\n",
       "    </tr>\n",
       "    <tr>\n",
       "      <th>75%</th>\n",
       "      <td>NaN</td>\n",
       "      <td>NaN</td>\n",
       "      <td>NaN</td>\n",
       "      <td>NaN</td>\n",
       "      <td>NaN</td>\n",
       "      <td>NaN</td>\n",
       "      <td>NaN</td>\n",
       "      <td>NaN</td>\n",
       "    </tr>\n",
       "    <tr>\n",
       "      <th>max</th>\n",
       "      <td>NaN</td>\n",
       "      <td>NaN</td>\n",
       "      <td>NaN</td>\n",
       "      <td>NaN</td>\n",
       "      <td>NaN</td>\n",
       "      <td>NaN</td>\n",
       "      <td>NaN</td>\n",
       "      <td>NaN</td>\n",
       "    </tr>\n",
       "  </tbody>\n",
       "</table>\n",
       "</div>"
      ],
      "text/plain": [
       "       Category  DER (St.)  Operating Profit Margin (St.)  Sales Growth (St.)  \\\n",
       "count       0.0        0.0                            0.0                 0.0   \n",
       "mean        NaN        NaN                            NaN                 NaN   \n",
       "std         NaN        NaN                            NaN                 NaN   \n",
       "min         NaN        NaN                            NaN                 NaN   \n",
       "25%         NaN        NaN                            NaN                 NaN   \n",
       "50%         NaN        NaN                            NaN                 NaN   \n",
       "75%         NaN        NaN                            NaN                 NaN   \n",
       "max         NaN        NaN                            NaN                 NaN   \n",
       "\n",
       "       DER  Operating Profit Margin  Return On Asset  Sales Growth  \n",
       "count  0.0                      0.0              0.0           0.0  \n",
       "mean   NaN                      NaN              NaN           NaN  \n",
       "std    NaN                      NaN              NaN           NaN  \n",
       "min    NaN                      NaN              NaN           NaN  \n",
       "25%    NaN                      NaN              NaN           NaN  \n",
       "50%    NaN                      NaN              NaN           NaN  \n",
       "75%    NaN                      NaN              NaN           NaN  \n",
       "max    NaN                      NaN              NaN           NaN  "
      ]
     },
     "execution_count": 36,
     "metadata": {},
     "output_type": "execute_result"
    }
   ],
   "source": [
    "#Highly Positively Impacted\n",
    "df[df['Category'] == 0].describe() "
   ]
  }
 ],
 "metadata": {
  "kernelspec": {
   "display_name": "Python 3",
   "language": "python",
   "name": "python3"
  },
  "language_info": {
   "codemirror_mode": {
    "name": "ipython",
    "version": 3
   },
   "file_extension": ".py",
   "mimetype": "text/x-python",
   "name": "python",
   "nbconvert_exporter": "python",
   "pygments_lexer": "ipython3",
   "version": "3.7.12"
  },
  "papermill": {
   "default_parameters": {},
   "duration": 26.316525,
   "end_time": "2022-04-18T12:06:18.053794",
   "environment_variables": {},
   "exception": null,
   "input_path": "__notebook__.ipynb",
   "output_path": "__notebook__.ipynb",
   "parameters": {},
   "start_time": "2022-04-18T12:05:51.737269",
   "version": "2.3.4"
  }
 },
 "nbformat": 4,
 "nbformat_minor": 5
}
