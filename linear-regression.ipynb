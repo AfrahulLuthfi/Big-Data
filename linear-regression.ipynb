{
 "cells": [
  {
   "cell_type": "code",
   "execution_count": 1,
   "id": "824d1b9e",
   "metadata": {
    "_cell_guid": "b1076dfc-b9ad-4769-8c92-a6c4dae69d19",
    "_uuid": "8f2839f25d086af736a60e9eeb907d3b93b6e0e5",
    "execution": {
     "iopub.execute_input": "2022-04-15T07:55:36.312371Z",
     "iopub.status.busy": "2022-04-15T07:55:36.311305Z",
     "iopub.status.idle": "2022-04-15T07:55:36.329762Z",
     "shell.execute_reply": "2022-04-15T07:55:36.330227Z",
     "shell.execute_reply.started": "2022-04-15T07:54:31.455188Z"
    },
    "papermill": {
     "duration": 0.044012,
     "end_time": "2022-04-15T07:55:36.330531",
     "exception": false,
     "start_time": "2022-04-15T07:55:36.286519",
     "status": "completed"
    },
    "tags": []
   },
   "outputs": [
    {
     "name": "stdout",
     "output_type": "stream",
     "text": [
      "/kaggle/input/ggrm-dataset/GGRM.JK (1).csv\n",
      "/kaggle/input/hmsp-dataset/HMSP.JK (1).csv\n"
     ]
    }
   ],
   "source": [
    "# This Python 3 environment comes with many helpful analytics libraries installed\n",
    "# It is defined by the kaggle/python Docker image: https://github.com/kaggle/docker-python\n",
    "# For example, here's several helpful packages to load\n",
    "\n",
    "import numpy as np # linear algebra\n",
    "import pandas as pd # data processing, CSV file I/O (e.g. pd.read_csv)\n",
    "\n",
    "# Input data files are available in the read-only \"../input/\" directory\n",
    "# For example, running this (by clicking run or pressing Shift+Enter) will list all files under the input directory\n",
    "\n",
    "import os\n",
    "for dirname, _, filenames in os.walk('/kaggle/input'):\n",
    "    for filename in filenames:\n",
    "        print(os.path.join(dirname, filename))\n",
    "\n",
    "# You can write up to 20GB to the current directory (/kaggle/working/) that gets preserved as output when you create a version using \"Save & Run All\" \n",
    "# You can also write temporary files to /kaggle/temp/, but they won't be saved outside of the current session"
   ]
  },
  {
   "cell_type": "code",
   "execution_count": 2,
   "id": "554b8b53",
   "metadata": {
    "execution": {
     "iopub.execute_input": "2022-04-15T07:55:36.375076Z",
     "iopub.status.busy": "2022-04-15T07:55:36.374333Z",
     "iopub.status.idle": "2022-04-15T07:55:37.470847Z",
     "shell.execute_reply": "2022-04-15T07:55:37.470043Z",
     "shell.execute_reply.started": "2022-04-15T07:54:31.473812Z"
    },
    "papermill": {
     "duration": 1.120194,
     "end_time": "2022-04-15T07:55:37.471054",
     "exception": false,
     "start_time": "2022-04-15T07:55:36.350860",
     "status": "completed"
    },
    "tags": []
   },
   "outputs": [],
   "source": [
    "import numpy as np\n",
    "import pandas as pd\n",
    "import seaborn as sns"
   ]
  },
  {
   "cell_type": "markdown",
   "id": "fd9b8d38",
   "metadata": {
    "papermill": {
     "duration": 0.020475,
     "end_time": "2022-04-15T07:55:37.513258",
     "exception": false,
     "start_time": "2022-04-15T07:55:37.492783",
     "status": "completed"
    },
    "tags": []
   },
   "source": [
    "# **GGRM Data Load**"
   ]
  },
  {
   "cell_type": "code",
   "execution_count": 3,
   "id": "d4f19d91",
   "metadata": {
    "execution": {
     "iopub.execute_input": "2022-04-15T07:55:37.554296Z",
     "iopub.status.busy": "2022-04-15T07:55:37.553678Z",
     "iopub.status.idle": "2022-04-15T07:55:37.592162Z",
     "shell.execute_reply": "2022-04-15T07:55:37.592821Z",
     "shell.execute_reply.started": "2022-04-15T07:54:31.940751Z"
    },
    "papermill": {
     "duration": 0.060728,
     "end_time": "2022-04-15T07:55:37.592992",
     "exception": false,
     "start_time": "2022-04-15T07:55:37.532264",
     "status": "completed"
    },
    "tags": []
   },
   "outputs": [
    {
     "name": "stdout",
     "output_type": "stream",
     "text": [
      "<class 'pandas.core.frame.DataFrame'>\n",
      "RangeIndex: 185 entries, 0 to 184\n",
      "Data columns (total 7 columns):\n",
      " #   Column     Non-Null Count  Dtype  \n",
      "---  ------     --------------  -----  \n",
      " 0   Date       185 non-null    object \n",
      " 1   Open       185 non-null    float64\n",
      " 2   High       185 non-null    float64\n",
      " 3   Low        185 non-null    float64\n",
      " 4   Close      185 non-null    float64\n",
      " 5   Adj Close  185 non-null    float64\n",
      " 6   Volume     185 non-null    int64  \n",
      "dtypes: float64(5), int64(1), object(1)\n",
      "memory usage: 10.2+ KB\n"
     ]
    }
   ],
   "source": [
    "ggrm = pd.read_csv('../input/ggrm-dataset/GGRM.JK (1).csv')\n",
    "ggrm.info()"
   ]
  },
  {
   "cell_type": "code",
   "execution_count": 4,
   "id": "c0331df6",
   "metadata": {
    "execution": {
     "iopub.execute_input": "2022-04-15T07:55:37.640330Z",
     "iopub.status.busy": "2022-04-15T07:55:37.634383Z",
     "iopub.status.idle": "2022-04-15T07:55:37.658155Z",
     "shell.execute_reply": "2022-04-15T07:55:37.658600Z",
     "shell.execute_reply.started": "2022-04-15T07:54:31.959258Z"
    },
    "papermill": {
     "duration": 0.04619,
     "end_time": "2022-04-15T07:55:37.658758",
     "exception": false,
     "start_time": "2022-04-15T07:55:37.612568",
     "status": "completed"
    },
    "tags": []
   },
   "outputs": [
    {
     "data": {
      "text/html": [
       "<div>\n",
       "<style scoped>\n",
       "    .dataframe tbody tr th:only-of-type {\n",
       "        vertical-align: middle;\n",
       "    }\n",
       "\n",
       "    .dataframe tbody tr th {\n",
       "        vertical-align: top;\n",
       "    }\n",
       "\n",
       "    .dataframe thead th {\n",
       "        text-align: right;\n",
       "    }\n",
       "</style>\n",
       "<table border=\"1\" class=\"dataframe\">\n",
       "  <thead>\n",
       "    <tr style=\"text-align: right;\">\n",
       "      <th></th>\n",
       "      <th>Date</th>\n",
       "      <th>Open</th>\n",
       "      <th>High</th>\n",
       "      <th>Low</th>\n",
       "      <th>Close</th>\n",
       "      <th>Adj Close</th>\n",
       "      <th>Volume</th>\n",
       "    </tr>\n",
       "  </thead>\n",
       "  <tbody>\n",
       "    <tr>\n",
       "      <th>0</th>\n",
       "      <td>2021-04-15</td>\n",
       "      <td>36525.0</td>\n",
       "      <td>36600.0</td>\n",
       "      <td>36175.0</td>\n",
       "      <td>36350.0</td>\n",
       "      <td>33999.003906</td>\n",
       "      <td>738700</td>\n",
       "    </tr>\n",
       "    <tr>\n",
       "      <th>1</th>\n",
       "      <td>2021-04-16</td>\n",
       "      <td>36350.0</td>\n",
       "      <td>36425.0</td>\n",
       "      <td>36275.0</td>\n",
       "      <td>36400.0</td>\n",
       "      <td>34045.769531</td>\n",
       "      <td>321900</td>\n",
       "    </tr>\n",
       "    <tr>\n",
       "      <th>2</th>\n",
       "      <td>2021-04-19</td>\n",
       "      <td>36400.0</td>\n",
       "      <td>36450.0</td>\n",
       "      <td>36100.0</td>\n",
       "      <td>36250.0</td>\n",
       "      <td>33905.472656</td>\n",
       "      <td>711300</td>\n",
       "    </tr>\n",
       "    <tr>\n",
       "      <th>3</th>\n",
       "      <td>2021-04-20</td>\n",
       "      <td>36250.0</td>\n",
       "      <td>36800.0</td>\n",
       "      <td>36125.0</td>\n",
       "      <td>36350.0</td>\n",
       "      <td>33999.003906</td>\n",
       "      <td>782700</td>\n",
       "    </tr>\n",
       "    <tr>\n",
       "      <th>4</th>\n",
       "      <td>2021-04-21</td>\n",
       "      <td>36200.0</td>\n",
       "      <td>36350.0</td>\n",
       "      <td>36200.0</td>\n",
       "      <td>36200.0</td>\n",
       "      <td>33858.707031</td>\n",
       "      <td>424400</td>\n",
       "    </tr>\n",
       "    <tr>\n",
       "      <th>...</th>\n",
       "      <td>...</td>\n",
       "      <td>...</td>\n",
       "      <td>...</td>\n",
       "      <td>...</td>\n",
       "      <td>...</td>\n",
       "      <td>...</td>\n",
       "      <td>...</td>\n",
       "    </tr>\n",
       "    <tr>\n",
       "      <th>180</th>\n",
       "      <td>2022-01-06</td>\n",
       "      <td>31350.0</td>\n",
       "      <td>31350.0</td>\n",
       "      <td>30600.0</td>\n",
       "      <td>30900.0</td>\n",
       "      <td>30900.000000</td>\n",
       "      <td>547600</td>\n",
       "    </tr>\n",
       "    <tr>\n",
       "      <th>181</th>\n",
       "      <td>2022-01-07</td>\n",
       "      <td>30800.0</td>\n",
       "      <td>31275.0</td>\n",
       "      <td>30800.0</td>\n",
       "      <td>31125.0</td>\n",
       "      <td>31125.000000</td>\n",
       "      <td>431500</td>\n",
       "    </tr>\n",
       "    <tr>\n",
       "      <th>182</th>\n",
       "      <td>2022-01-10</td>\n",
       "      <td>31125.0</td>\n",
       "      <td>31225.0</td>\n",
       "      <td>30950.0</td>\n",
       "      <td>30950.0</td>\n",
       "      <td>30950.000000</td>\n",
       "      <td>319000</td>\n",
       "    </tr>\n",
       "    <tr>\n",
       "      <th>183</th>\n",
       "      <td>2022-01-11</td>\n",
       "      <td>30950.0</td>\n",
       "      <td>31150.0</td>\n",
       "      <td>30875.0</td>\n",
       "      <td>31100.0</td>\n",
       "      <td>31100.000000</td>\n",
       "      <td>362900</td>\n",
       "    </tr>\n",
       "    <tr>\n",
       "      <th>184</th>\n",
       "      <td>2022-01-12</td>\n",
       "      <td>31150.0</td>\n",
       "      <td>32250.0</td>\n",
       "      <td>31150.0</td>\n",
       "      <td>32175.0</td>\n",
       "      <td>32175.000000</td>\n",
       "      <td>1100100</td>\n",
       "    </tr>\n",
       "  </tbody>\n",
       "</table>\n",
       "<p>185 rows × 7 columns</p>\n",
       "</div>"
      ],
      "text/plain": [
       "           Date     Open     High      Low    Close     Adj Close   Volume\n",
       "0    2021-04-15  36525.0  36600.0  36175.0  36350.0  33999.003906   738700\n",
       "1    2021-04-16  36350.0  36425.0  36275.0  36400.0  34045.769531   321900\n",
       "2    2021-04-19  36400.0  36450.0  36100.0  36250.0  33905.472656   711300\n",
       "3    2021-04-20  36250.0  36800.0  36125.0  36350.0  33999.003906   782700\n",
       "4    2021-04-21  36200.0  36350.0  36200.0  36200.0  33858.707031   424400\n",
       "..          ...      ...      ...      ...      ...           ...      ...\n",
       "180  2022-01-06  31350.0  31350.0  30600.0  30900.0  30900.000000   547600\n",
       "181  2022-01-07  30800.0  31275.0  30800.0  31125.0  31125.000000   431500\n",
       "182  2022-01-10  31125.0  31225.0  30950.0  30950.0  30950.000000   319000\n",
       "183  2022-01-11  30950.0  31150.0  30875.0  31100.0  31100.000000   362900\n",
       "184  2022-01-12  31150.0  32250.0  31150.0  32175.0  32175.000000  1100100\n",
       "\n",
       "[185 rows x 7 columns]"
      ]
     },
     "metadata": {},
     "output_type": "display_data"
    }
   ],
   "source": [
    "display(ggrm)"
   ]
  },
  {
   "cell_type": "code",
   "execution_count": 5,
   "id": "31e53bcf",
   "metadata": {
    "execution": {
     "iopub.execute_input": "2022-04-15T07:55:37.702266Z",
     "iopub.status.busy": "2022-04-15T07:55:37.701596Z",
     "iopub.status.idle": "2022-04-15T07:55:37.706187Z",
     "shell.execute_reply": "2022-04-15T07:55:37.706610Z",
     "shell.execute_reply.started": "2022-04-15T07:54:31.983918Z"
    },
    "papermill": {
     "duration": 0.027908,
     "end_time": "2022-04-15T07:55:37.706781",
     "exception": false,
     "start_time": "2022-04-15T07:55:37.678873",
     "status": "completed"
    },
    "tags": []
   },
   "outputs": [
    {
     "name": "stdout",
     "output_type": "stream",
     "text": [
      "(185, 7)\n"
     ]
    }
   ],
   "source": [
    "print(ggrm.shape)"
   ]
  },
  {
   "cell_type": "code",
   "execution_count": 6,
   "id": "55d9960f",
   "metadata": {
    "execution": {
     "iopub.execute_input": "2022-04-15T07:55:37.760409Z",
     "iopub.status.busy": "2022-04-15T07:55:37.759755Z",
     "iopub.status.idle": "2022-04-15T07:55:37.762466Z",
     "shell.execute_reply": "2022-04-15T07:55:37.762929Z",
     "shell.execute_reply.started": "2022-04-15T07:54:31.990652Z"
    },
    "papermill": {
     "duration": 0.035699,
     "end_time": "2022-04-15T07:55:37.763105",
     "exception": false,
     "start_time": "2022-04-15T07:55:37.727406",
     "status": "completed"
    },
    "tags": []
   },
   "outputs": [
    {
     "name": "stdout",
     "output_type": "stream",
     "text": [
      "<class 'pandas.core.frame.DataFrame'>\n",
      "RangeIndex: 185 entries, 0 to 184\n",
      "Data columns (total 7 columns):\n",
      " #   Column     Non-Null Count  Dtype  \n",
      "---  ------     --------------  -----  \n",
      " 0   Date       185 non-null    object \n",
      " 1   Open       185 non-null    float64\n",
      " 2   High       185 non-null    float64\n",
      " 3   Low        185 non-null    float64\n",
      " 4   Close      185 non-null    float64\n",
      " 5   Adj Close  185 non-null    float64\n",
      " 6   Volume     185 non-null    int64  \n",
      "dtypes: float64(5), int64(1), object(1)\n",
      "memory usage: 10.2+ KB\n",
      "None\n"
     ]
    }
   ],
   "source": [
    "print(ggrm.info()) "
   ]
  },
  {
   "cell_type": "markdown",
   "id": "427a1bbc",
   "metadata": {
    "papermill": {
     "duration": 0.02115,
     "end_time": "2022-04-15T07:55:37.805343",
     "exception": false,
     "start_time": "2022-04-15T07:55:37.784193",
     "status": "completed"
    },
    "tags": []
   },
   "source": [
    "# **HMSP Data Load**"
   ]
  },
  {
   "cell_type": "code",
   "execution_count": 7,
   "id": "9be973c1",
   "metadata": {
    "execution": {
     "iopub.execute_input": "2022-04-15T07:55:37.854296Z",
     "iopub.status.busy": "2022-04-15T07:55:37.853645Z",
     "iopub.status.idle": "2022-04-15T07:55:37.870569Z",
     "shell.execute_reply": "2022-04-15T07:55:37.871017Z",
     "shell.execute_reply.started": "2022-04-15T07:54:32.009175Z"
    },
    "papermill": {
     "duration": 0.042985,
     "end_time": "2022-04-15T07:55:37.871202",
     "exception": false,
     "start_time": "2022-04-15T07:55:37.828217",
     "status": "completed"
    },
    "tags": []
   },
   "outputs": [
    {
     "name": "stdout",
     "output_type": "stream",
     "text": [
      "<class 'pandas.core.frame.DataFrame'>\n",
      "RangeIndex: 177 entries, 0 to 176\n",
      "Data columns (total 7 columns):\n",
      " #   Column     Non-Null Count  Dtype  \n",
      "---  ------     --------------  -----  \n",
      " 0   Date       177 non-null    object \n",
      " 1   Open       177 non-null    float64\n",
      " 2   High       177 non-null    float64\n",
      " 3   Low        177 non-null    float64\n",
      " 4   Close      177 non-null    float64\n",
      " 5   Adj Close  177 non-null    float64\n",
      " 6   Volume     177 non-null    int64  \n",
      "dtypes: float64(5), int64(1), object(1)\n",
      "memory usage: 9.8+ KB\n"
     ]
    }
   ],
   "source": [
    "hmsp = pd.read_csv('../input/hmsp-dataset/HMSP.JK (1).csv')\n",
    "hmsp.info()"
   ]
  },
  {
   "cell_type": "code",
   "execution_count": 8,
   "id": "63e41d08",
   "metadata": {
    "execution": {
     "iopub.execute_input": "2022-04-15T07:55:37.920031Z",
     "iopub.status.busy": "2022-04-15T07:55:37.919424Z",
     "iopub.status.idle": "2022-04-15T07:55:37.935011Z",
     "shell.execute_reply": "2022-04-15T07:55:37.934490Z",
     "shell.execute_reply.started": "2022-04-15T07:54:32.024826Z"
    },
    "papermill": {
     "duration": 0.041196,
     "end_time": "2022-04-15T07:55:37.935170",
     "exception": false,
     "start_time": "2022-04-15T07:55:37.893974",
     "status": "completed"
    },
    "tags": []
   },
   "outputs": [
    {
     "data": {
      "text/html": [
       "<div>\n",
       "<style scoped>\n",
       "    .dataframe tbody tr th:only-of-type {\n",
       "        vertical-align: middle;\n",
       "    }\n",
       "\n",
       "    .dataframe tbody tr th {\n",
       "        vertical-align: top;\n",
       "    }\n",
       "\n",
       "    .dataframe thead th {\n",
       "        text-align: right;\n",
       "    }\n",
       "</style>\n",
       "<table border=\"1\" class=\"dataframe\">\n",
       "  <thead>\n",
       "    <tr style=\"text-align: right;\">\n",
       "      <th></th>\n",
       "      <th>Date</th>\n",
       "      <th>Open</th>\n",
       "      <th>High</th>\n",
       "      <th>Low</th>\n",
       "      <th>Close</th>\n",
       "      <th>Adj Close</th>\n",
       "      <th>Volume</th>\n",
       "    </tr>\n",
       "  </thead>\n",
       "  <tbody>\n",
       "    <tr>\n",
       "      <th>0</th>\n",
       "      <td>2021-04-15</td>\n",
       "      <td>1340.0</td>\n",
       "      <td>1345.0</td>\n",
       "      <td>1330.0</td>\n",
       "      <td>1335.0</td>\n",
       "      <td>1261.650635</td>\n",
       "      <td>8866700</td>\n",
       "    </tr>\n",
       "    <tr>\n",
       "      <th>1</th>\n",
       "      <td>2021-04-16</td>\n",
       "      <td>1340.0</td>\n",
       "      <td>1350.0</td>\n",
       "      <td>1325.0</td>\n",
       "      <td>1330.0</td>\n",
       "      <td>1256.925293</td>\n",
       "      <td>13016300</td>\n",
       "    </tr>\n",
       "    <tr>\n",
       "      <th>2</th>\n",
       "      <td>2021-04-19</td>\n",
       "      <td>1330.0</td>\n",
       "      <td>1335.0</td>\n",
       "      <td>1310.0</td>\n",
       "      <td>1315.0</td>\n",
       "      <td>1242.749512</td>\n",
       "      <td>25386600</td>\n",
       "    </tr>\n",
       "    <tr>\n",
       "      <th>3</th>\n",
       "      <td>2021-04-20</td>\n",
       "      <td>1310.0</td>\n",
       "      <td>1350.0</td>\n",
       "      <td>1305.0</td>\n",
       "      <td>1345.0</td>\n",
       "      <td>1271.101196</td>\n",
       "      <td>27562800</td>\n",
       "    </tr>\n",
       "    <tr>\n",
       "      <th>4</th>\n",
       "      <td>2021-04-21</td>\n",
       "      <td>1345.0</td>\n",
       "      <td>1350.0</td>\n",
       "      <td>1320.0</td>\n",
       "      <td>1325.0</td>\n",
       "      <td>1252.200073</td>\n",
       "      <td>25476200</td>\n",
       "    </tr>\n",
       "    <tr>\n",
       "      <th>...</th>\n",
       "      <td>...</td>\n",
       "      <td>...</td>\n",
       "      <td>...</td>\n",
       "      <td>...</td>\n",
       "      <td>...</td>\n",
       "      <td>...</td>\n",
       "      <td>...</td>\n",
       "    </tr>\n",
       "    <tr>\n",
       "      <th>172</th>\n",
       "      <td>2021-12-24</td>\n",
       "      <td>965.0</td>\n",
       "      <td>975.0</td>\n",
       "      <td>960.0</td>\n",
       "      <td>965.0</td>\n",
       "      <td>965.000000</td>\n",
       "      <td>6319400</td>\n",
       "    </tr>\n",
       "    <tr>\n",
       "      <th>173</th>\n",
       "      <td>2021-12-27</td>\n",
       "      <td>965.0</td>\n",
       "      <td>980.0</td>\n",
       "      <td>965.0</td>\n",
       "      <td>970.0</td>\n",
       "      <td>970.000000</td>\n",
       "      <td>6951100</td>\n",
       "    </tr>\n",
       "    <tr>\n",
       "      <th>174</th>\n",
       "      <td>2021-12-28</td>\n",
       "      <td>975.0</td>\n",
       "      <td>990.0</td>\n",
       "      <td>970.0</td>\n",
       "      <td>980.0</td>\n",
       "      <td>980.000000</td>\n",
       "      <td>9048400</td>\n",
       "    </tr>\n",
       "    <tr>\n",
       "      <th>175</th>\n",
       "      <td>2021-12-29</td>\n",
       "      <td>980.0</td>\n",
       "      <td>990.0</td>\n",
       "      <td>970.0</td>\n",
       "      <td>970.0</td>\n",
       "      <td>970.000000</td>\n",
       "      <td>5832700</td>\n",
       "    </tr>\n",
       "    <tr>\n",
       "      <th>176</th>\n",
       "      <td>2021-12-30</td>\n",
       "      <td>975.0</td>\n",
       "      <td>980.0</td>\n",
       "      <td>965.0</td>\n",
       "      <td>965.0</td>\n",
       "      <td>965.000000</td>\n",
       "      <td>8065200</td>\n",
       "    </tr>\n",
       "  </tbody>\n",
       "</table>\n",
       "<p>177 rows × 7 columns</p>\n",
       "</div>"
      ],
      "text/plain": [
       "           Date    Open    High     Low   Close    Adj Close    Volume\n",
       "0    2021-04-15  1340.0  1345.0  1330.0  1335.0  1261.650635   8866700\n",
       "1    2021-04-16  1340.0  1350.0  1325.0  1330.0  1256.925293  13016300\n",
       "2    2021-04-19  1330.0  1335.0  1310.0  1315.0  1242.749512  25386600\n",
       "3    2021-04-20  1310.0  1350.0  1305.0  1345.0  1271.101196  27562800\n",
       "4    2021-04-21  1345.0  1350.0  1320.0  1325.0  1252.200073  25476200\n",
       "..          ...     ...     ...     ...     ...          ...       ...\n",
       "172  2021-12-24   965.0   975.0   960.0   965.0   965.000000   6319400\n",
       "173  2021-12-27   965.0   980.0   965.0   970.0   970.000000   6951100\n",
       "174  2021-12-28   975.0   990.0   970.0   980.0   980.000000   9048400\n",
       "175  2021-12-29   980.0   990.0   970.0   970.0   970.000000   5832700\n",
       "176  2021-12-30   975.0   980.0   965.0   965.0   965.000000   8065200\n",
       "\n",
       "[177 rows x 7 columns]"
      ]
     },
     "metadata": {},
     "output_type": "display_data"
    }
   ],
   "source": [
    "display(hmsp)"
   ]
  },
  {
   "cell_type": "code",
   "execution_count": 9,
   "id": "8b5083cd",
   "metadata": {
    "execution": {
     "iopub.execute_input": "2022-04-15T07:55:37.984690Z",
     "iopub.status.busy": "2022-04-15T07:55:37.984014Z",
     "iopub.status.idle": "2022-04-15T07:55:37.988087Z",
     "shell.execute_reply": "2022-04-15T07:55:37.987496Z",
     "shell.execute_reply.started": "2022-04-15T07:54:32.044378Z"
    },
    "papermill": {
     "duration": 0.03094,
     "end_time": "2022-04-15T07:55:37.988253",
     "exception": false,
     "start_time": "2022-04-15T07:55:37.957313",
     "status": "completed"
    },
    "tags": []
   },
   "outputs": [
    {
     "name": "stdout",
     "output_type": "stream",
     "text": [
      "(177, 7)\n"
     ]
    }
   ],
   "source": [
    "print(hmsp.shape)"
   ]
  },
  {
   "cell_type": "code",
   "execution_count": 10,
   "id": "435ee718",
   "metadata": {
    "execution": {
     "iopub.execute_input": "2022-04-15T07:55:38.045091Z",
     "iopub.status.busy": "2022-04-15T07:55:38.044319Z",
     "iopub.status.idle": "2022-04-15T07:55:38.048464Z",
     "shell.execute_reply": "2022-04-15T07:55:38.049268Z",
     "shell.execute_reply.started": "2022-04-15T07:54:32.050659Z"
    },
    "papermill": {
     "duration": 0.039169,
     "end_time": "2022-04-15T07:55:38.049559",
     "exception": false,
     "start_time": "2022-04-15T07:55:38.010390",
     "status": "completed"
    },
    "tags": []
   },
   "outputs": [
    {
     "name": "stdout",
     "output_type": "stream",
     "text": [
      "<class 'pandas.core.frame.DataFrame'>\n",
      "RangeIndex: 177 entries, 0 to 176\n",
      "Data columns (total 7 columns):\n",
      " #   Column     Non-Null Count  Dtype  \n",
      "---  ------     --------------  -----  \n",
      " 0   Date       177 non-null    object \n",
      " 1   Open       177 non-null    float64\n",
      " 2   High       177 non-null    float64\n",
      " 3   Low        177 non-null    float64\n",
      " 4   Close      177 non-null    float64\n",
      " 5   Adj Close  177 non-null    float64\n",
      " 6   Volume     177 non-null    int64  \n",
      "dtypes: float64(5), int64(1), object(1)\n",
      "memory usage: 9.8+ KB\n",
      "None\n"
     ]
    }
   ],
   "source": [
    "print(hmsp.info())"
   ]
  },
  {
   "cell_type": "markdown",
   "id": "6b063c3e",
   "metadata": {
    "papermill": {
     "duration": 0.023697,
     "end_time": "2022-04-15T07:55:38.098240",
     "exception": false,
     "start_time": "2022-04-15T07:55:38.074543",
     "status": "completed"
    },
    "tags": []
   },
   "source": [
    "Data Preparation"
   ]
  },
  {
   "cell_type": "code",
   "execution_count": 11,
   "id": "93de3b77",
   "metadata": {
    "execution": {
     "iopub.execute_input": "2022-04-15T07:55:38.148817Z",
     "iopub.status.busy": "2022-04-15T07:55:38.147839Z",
     "iopub.status.idle": "2022-04-15T07:55:38.159548Z",
     "shell.execute_reply": "2022-04-15T07:55:38.160043Z",
     "shell.execute_reply.started": "2022-04-15T07:54:32.068160Z"
    },
    "papermill": {
     "duration": 0.039556,
     "end_time": "2022-04-15T07:55:38.160228",
     "exception": false,
     "start_time": "2022-04-15T07:55:38.120672",
     "status": "completed"
    },
    "tags": []
   },
   "outputs": [
    {
     "data": {
      "text/html": [
       "<div>\n",
       "<style scoped>\n",
       "    .dataframe tbody tr th:only-of-type {\n",
       "        vertical-align: middle;\n",
       "    }\n",
       "\n",
       "    .dataframe tbody tr th {\n",
       "        vertical-align: top;\n",
       "    }\n",
       "\n",
       "    .dataframe thead th {\n",
       "        text-align: right;\n",
       "    }\n",
       "</style>\n",
       "<table border=\"1\" class=\"dataframe\">\n",
       "  <thead>\n",
       "    <tr style=\"text-align: right;\">\n",
       "      <th></th>\n",
       "      <th>GGRM</th>\n",
       "    </tr>\n",
       "  </thead>\n",
       "  <tbody>\n",
       "    <tr>\n",
       "      <th>0</th>\n",
       "      <td>36350.0</td>\n",
       "    </tr>\n",
       "    <tr>\n",
       "      <th>1</th>\n",
       "      <td>36400.0</td>\n",
       "    </tr>\n",
       "    <tr>\n",
       "      <th>2</th>\n",
       "      <td>36250.0</td>\n",
       "    </tr>\n",
       "    <tr>\n",
       "      <th>3</th>\n",
       "      <td>36350.0</td>\n",
       "    </tr>\n",
       "    <tr>\n",
       "      <th>4</th>\n",
       "      <td>36200.0</td>\n",
       "    </tr>\n",
       "    <tr>\n",
       "      <th>...</th>\n",
       "      <td>...</td>\n",
       "    </tr>\n",
       "    <tr>\n",
       "      <th>180</th>\n",
       "      <td>30900.0</td>\n",
       "    </tr>\n",
       "    <tr>\n",
       "      <th>181</th>\n",
       "      <td>31125.0</td>\n",
       "    </tr>\n",
       "    <tr>\n",
       "      <th>182</th>\n",
       "      <td>30950.0</td>\n",
       "    </tr>\n",
       "    <tr>\n",
       "      <th>183</th>\n",
       "      <td>31100.0</td>\n",
       "    </tr>\n",
       "    <tr>\n",
       "      <th>184</th>\n",
       "      <td>32175.0</td>\n",
       "    </tr>\n",
       "  </tbody>\n",
       "</table>\n",
       "<p>185 rows × 1 columns</p>\n",
       "</div>"
      ],
      "text/plain": [
       "        GGRM\n",
       "0    36350.0\n",
       "1    36400.0\n",
       "2    36250.0\n",
       "3    36350.0\n",
       "4    36200.0\n",
       "..       ...\n",
       "180  30900.0\n",
       "181  31125.0\n",
       "182  30950.0\n",
       "183  31100.0\n",
       "184  32175.0\n",
       "\n",
       "[185 rows x 1 columns]"
      ]
     },
     "metadata": {},
     "output_type": "display_data"
    }
   ],
   "source": [
    "ggrm_closing=pd.read_csv('../input/ggrm-dataset/GGRM.JK (1).csv' , usecols =['Close'])\n",
    "ggrm = ggrm_closing.rename(columns={'Close': 'GGRM'})\n",
    "display(ggrm)"
   ]
  },
  {
   "cell_type": "code",
   "execution_count": 12,
   "id": "697631f1",
   "metadata": {
    "execution": {
     "iopub.execute_input": "2022-04-15T07:55:38.214889Z",
     "iopub.status.busy": "2022-04-15T07:55:38.214265Z",
     "iopub.status.idle": "2022-04-15T07:55:38.225179Z",
     "shell.execute_reply": "2022-04-15T07:55:38.225688Z",
     "shell.execute_reply.started": "2022-04-15T07:54:32.081992Z"
    },
    "papermill": {
     "duration": 0.041694,
     "end_time": "2022-04-15T07:55:38.225860",
     "exception": false,
     "start_time": "2022-04-15T07:55:38.184166",
     "status": "completed"
    },
    "tags": []
   },
   "outputs": [
    {
     "data": {
      "text/html": [
       "<div>\n",
       "<style scoped>\n",
       "    .dataframe tbody tr th:only-of-type {\n",
       "        vertical-align: middle;\n",
       "    }\n",
       "\n",
       "    .dataframe tbody tr th {\n",
       "        vertical-align: top;\n",
       "    }\n",
       "\n",
       "    .dataframe thead th {\n",
       "        text-align: right;\n",
       "    }\n",
       "</style>\n",
       "<table border=\"1\" class=\"dataframe\">\n",
       "  <thead>\n",
       "    <tr style=\"text-align: right;\">\n",
       "      <th></th>\n",
       "      <th>HMSP</th>\n",
       "    </tr>\n",
       "  </thead>\n",
       "  <tbody>\n",
       "    <tr>\n",
       "      <th>0</th>\n",
       "      <td>1335.0</td>\n",
       "    </tr>\n",
       "    <tr>\n",
       "      <th>1</th>\n",
       "      <td>1330.0</td>\n",
       "    </tr>\n",
       "    <tr>\n",
       "      <th>2</th>\n",
       "      <td>1315.0</td>\n",
       "    </tr>\n",
       "    <tr>\n",
       "      <th>3</th>\n",
       "      <td>1345.0</td>\n",
       "    </tr>\n",
       "    <tr>\n",
       "      <th>4</th>\n",
       "      <td>1325.0</td>\n",
       "    </tr>\n",
       "    <tr>\n",
       "      <th>...</th>\n",
       "      <td>...</td>\n",
       "    </tr>\n",
       "    <tr>\n",
       "      <th>172</th>\n",
       "      <td>965.0</td>\n",
       "    </tr>\n",
       "    <tr>\n",
       "      <th>173</th>\n",
       "      <td>970.0</td>\n",
       "    </tr>\n",
       "    <tr>\n",
       "      <th>174</th>\n",
       "      <td>980.0</td>\n",
       "    </tr>\n",
       "    <tr>\n",
       "      <th>175</th>\n",
       "      <td>970.0</td>\n",
       "    </tr>\n",
       "    <tr>\n",
       "      <th>176</th>\n",
       "      <td>965.0</td>\n",
       "    </tr>\n",
       "  </tbody>\n",
       "</table>\n",
       "<p>177 rows × 1 columns</p>\n",
       "</div>"
      ],
      "text/plain": [
       "       HMSP\n",
       "0    1335.0\n",
       "1    1330.0\n",
       "2    1315.0\n",
       "3    1345.0\n",
       "4    1325.0\n",
       "..      ...\n",
       "172   965.0\n",
       "173   970.0\n",
       "174   980.0\n",
       "175   970.0\n",
       "176   965.0\n",
       "\n",
       "[177 rows x 1 columns]"
      ]
     },
     "metadata": {},
     "output_type": "display_data"
    }
   ],
   "source": [
    "hmsp_closing=pd.read_csv('../input/hmsp-dataset/HMSP.JK (1).csv' , usecols =['Close'])\n",
    "hmsp = hmsp_closing.rename(columns={'Close': 'HMSP'})\n",
    "display(hmsp)"
   ]
  },
  {
   "cell_type": "markdown",
   "id": "460281cc",
   "metadata": {
    "papermill": {
     "duration": 0.023367,
     "end_time": "2022-04-15T07:55:38.273007",
     "exception": false,
     "start_time": "2022-04-15T07:55:38.249640",
     "status": "completed"
    },
    "tags": []
   },
   "source": [
    "# **Merging Data**"
   ]
  },
  {
   "cell_type": "code",
   "execution_count": 13,
   "id": "4f213d9f",
   "metadata": {
    "execution": {
     "iopub.execute_input": "2022-04-15T07:55:38.342321Z",
     "iopub.status.busy": "2022-04-15T07:55:38.341455Z",
     "iopub.status.idle": "2022-04-15T07:55:38.345288Z",
     "shell.execute_reply": "2022-04-15T07:55:38.344698Z",
     "shell.execute_reply.started": "2022-04-15T07:54:32.096990Z"
    },
    "papermill": {
     "duration": 0.048856,
     "end_time": "2022-04-15T07:55:38.345423",
     "exception": false,
     "start_time": "2022-04-15T07:55:38.296567",
     "status": "completed"
    },
    "tags": []
   },
   "outputs": [
    {
     "data": {
      "text/html": [
       "<div>\n",
       "<style scoped>\n",
       "    .dataframe tbody tr th:only-of-type {\n",
       "        vertical-align: middle;\n",
       "    }\n",
       "\n",
       "    .dataframe tbody tr th {\n",
       "        vertical-align: top;\n",
       "    }\n",
       "\n",
       "    .dataframe thead th {\n",
       "        text-align: right;\n",
       "    }\n",
       "</style>\n",
       "<table border=\"1\" class=\"dataframe\">\n",
       "  <thead>\n",
       "    <tr style=\"text-align: right;\">\n",
       "      <th></th>\n",
       "      <th>HMSP</th>\n",
       "      <th>GGRM</th>\n",
       "    </tr>\n",
       "  </thead>\n",
       "  <tbody>\n",
       "    <tr>\n",
       "      <th>0</th>\n",
       "      <td>1335.0</td>\n",
       "      <td>36350.0</td>\n",
       "    </tr>\n",
       "    <tr>\n",
       "      <th>1</th>\n",
       "      <td>1330.0</td>\n",
       "      <td>36400.0</td>\n",
       "    </tr>\n",
       "    <tr>\n",
       "      <th>2</th>\n",
       "      <td>1315.0</td>\n",
       "      <td>36250.0</td>\n",
       "    </tr>\n",
       "    <tr>\n",
       "      <th>3</th>\n",
       "      <td>1345.0</td>\n",
       "      <td>36350.0</td>\n",
       "    </tr>\n",
       "    <tr>\n",
       "      <th>4</th>\n",
       "      <td>1325.0</td>\n",
       "      <td>36200.0</td>\n",
       "    </tr>\n",
       "    <tr>\n",
       "      <th>...</th>\n",
       "      <td>...</td>\n",
       "      <td>...</td>\n",
       "    </tr>\n",
       "    <tr>\n",
       "      <th>172</th>\n",
       "      <td>965.0</td>\n",
       "      <td>30525.0</td>\n",
       "    </tr>\n",
       "    <tr>\n",
       "      <th>173</th>\n",
       "      <td>970.0</td>\n",
       "      <td>30675.0</td>\n",
       "    </tr>\n",
       "    <tr>\n",
       "      <th>174</th>\n",
       "      <td>980.0</td>\n",
       "      <td>30650.0</td>\n",
       "    </tr>\n",
       "    <tr>\n",
       "      <th>175</th>\n",
       "      <td>970.0</td>\n",
       "      <td>30650.0</td>\n",
       "    </tr>\n",
       "    <tr>\n",
       "      <th>176</th>\n",
       "      <td>965.0</td>\n",
       "      <td>30600.0</td>\n",
       "    </tr>\n",
       "  </tbody>\n",
       "</table>\n",
       "<p>177 rows × 2 columns</p>\n",
       "</div>"
      ],
      "text/plain": [
       "       HMSP     GGRM\n",
       "0    1335.0  36350.0\n",
       "1    1330.0  36400.0\n",
       "2    1315.0  36250.0\n",
       "3    1345.0  36350.0\n",
       "4    1325.0  36200.0\n",
       "..      ...      ...\n",
       "172   965.0  30525.0\n",
       "173   970.0  30675.0\n",
       "174   980.0  30650.0\n",
       "175   970.0  30650.0\n",
       "176   965.0  30600.0\n",
       "\n",
       "[177 rows x 2 columns]"
      ]
     },
     "metadata": {},
     "output_type": "display_data"
    }
   ],
   "source": [
    "data = hmsp.join(ggrm)\n",
    "display(data)"
   ]
  },
  {
   "cell_type": "code",
   "execution_count": 14,
   "id": "0ee6ff7d",
   "metadata": {
    "execution": {
     "iopub.execute_input": "2022-04-15T07:55:38.397815Z",
     "iopub.status.busy": "2022-04-15T07:55:38.396889Z",
     "iopub.status.idle": "2022-04-15T07:55:38.401416Z",
     "shell.execute_reply": "2022-04-15T07:55:38.401919Z",
     "shell.execute_reply.started": "2022-04-15T07:54:32.113466Z"
    },
    "papermill": {
     "duration": 0.032024,
     "end_time": "2022-04-15T07:55:38.402090",
     "exception": false,
     "start_time": "2022-04-15T07:55:38.370066",
     "status": "completed"
    },
    "tags": []
   },
   "outputs": [
    {
     "name": "stdout",
     "output_type": "stream",
     "text": [
      "(177, 2)\n"
     ]
    }
   ],
   "source": [
    "print(data.shape)"
   ]
  },
  {
   "cell_type": "code",
   "execution_count": 15,
   "id": "0902d2e3",
   "metadata": {
    "execution": {
     "iopub.execute_input": "2022-04-15T07:55:38.454287Z",
     "iopub.status.busy": "2022-04-15T07:55:38.453711Z",
     "iopub.status.idle": "2022-04-15T07:55:38.470358Z",
     "shell.execute_reply": "2022-04-15T07:55:38.469834Z",
     "shell.execute_reply.started": "2022-04-15T07:54:32.119956Z"
    },
    "papermill": {
     "duration": 0.043769,
     "end_time": "2022-04-15T07:55:38.470492",
     "exception": false,
     "start_time": "2022-04-15T07:55:38.426723",
     "status": "completed"
    },
    "tags": []
   },
   "outputs": [
    {
     "data": {
      "text/html": [
       "<div>\n",
       "<style scoped>\n",
       "    .dataframe tbody tr th:only-of-type {\n",
       "        vertical-align: middle;\n",
       "    }\n",
       "\n",
       "    .dataframe tbody tr th {\n",
       "        vertical-align: top;\n",
       "    }\n",
       "\n",
       "    .dataframe thead th {\n",
       "        text-align: right;\n",
       "    }\n",
       "</style>\n",
       "<table border=\"1\" class=\"dataframe\">\n",
       "  <thead>\n",
       "    <tr style=\"text-align: right;\">\n",
       "      <th></th>\n",
       "      <th>HMSP</th>\n",
       "      <th>GGRM</th>\n",
       "    </tr>\n",
       "  </thead>\n",
       "  <tbody>\n",
       "    <tr>\n",
       "      <th>count</th>\n",
       "      <td>177.000000</td>\n",
       "      <td>177.000000</td>\n",
       "    </tr>\n",
       "    <tr>\n",
       "      <th>mean</th>\n",
       "      <td>1099.689266</td>\n",
       "      <td>34187.853107</td>\n",
       "    </tr>\n",
       "    <tr>\n",
       "      <th>std</th>\n",
       "      <td>116.498583</td>\n",
       "      <td>3018.713071</td>\n",
       "    </tr>\n",
       "    <tr>\n",
       "      <th>min</th>\n",
       "      <td>950.000000</td>\n",
       "      <td>30200.000000</td>\n",
       "    </tr>\n",
       "    <tr>\n",
       "      <th>25%</th>\n",
       "      <td>1000.000000</td>\n",
       "      <td>32375.000000</td>\n",
       "    </tr>\n",
       "    <tr>\n",
       "      <th>50%</th>\n",
       "      <td>1060.000000</td>\n",
       "      <td>33325.000000</td>\n",
       "    </tr>\n",
       "    <tr>\n",
       "      <th>75%</th>\n",
       "      <td>1180.000000</td>\n",
       "      <td>35175.000000</td>\n",
       "    </tr>\n",
       "    <tr>\n",
       "      <th>max</th>\n",
       "      <td>1345.000000</td>\n",
       "      <td>47250.000000</td>\n",
       "    </tr>\n",
       "  </tbody>\n",
       "</table>\n",
       "</div>"
      ],
      "text/plain": [
       "              HMSP          GGRM\n",
       "count   177.000000    177.000000\n",
       "mean   1099.689266  34187.853107\n",
       "std     116.498583   3018.713071\n",
       "min     950.000000  30200.000000\n",
       "25%    1000.000000  32375.000000\n",
       "50%    1060.000000  33325.000000\n",
       "75%    1180.000000  35175.000000\n",
       "max    1345.000000  47250.000000"
      ]
     },
     "execution_count": 15,
     "metadata": {},
     "output_type": "execute_result"
    }
   ],
   "source": [
    "data.describe()"
   ]
  },
  {
   "cell_type": "markdown",
   "id": "bb9c5a83",
   "metadata": {
    "papermill": {
     "duration": 0.02439,
     "end_time": "2022-04-15T07:55:38.519539",
     "exception": false,
     "start_time": "2022-04-15T07:55:38.495149",
     "status": "completed"
    },
    "tags": []
   },
   "source": [
    "# **Linear Regression**"
   ]
  },
  {
   "cell_type": "markdown",
   "id": "5545c463",
   "metadata": {
    "papermill": {
     "duration": 0.02463,
     "end_time": "2022-04-15T07:55:38.569194",
     "exception": false,
     "start_time": "2022-04-15T07:55:38.544564",
     "status": "completed"
    },
    "tags": []
   },
   "source": [
    "**Constanta and Coefficient**"
   ]
  },
  {
   "cell_type": "code",
   "execution_count": 16,
   "id": "12769d5a",
   "metadata": {
    "execution": {
     "iopub.execute_input": "2022-04-15T07:55:38.623721Z",
     "iopub.status.busy": "2022-04-15T07:55:38.622744Z",
     "iopub.status.idle": "2022-04-15T07:55:38.627028Z",
     "shell.execute_reply": "2022-04-15T07:55:38.627468Z",
     "shell.execute_reply.started": "2022-04-15T07:54:32.143285Z"
    },
    "papermill": {
     "duration": 0.033638,
     "end_time": "2022-04-15T07:55:38.627638",
     "exception": false,
     "start_time": "2022-04-15T07:55:38.594000",
     "status": "completed"
    },
    "tags": []
   },
   "outputs": [],
   "source": [
    "X = data['HMSP'].values\n",
    "Y = data['GGRM'].values"
   ]
  },
  {
   "cell_type": "code",
   "execution_count": 17,
   "id": "1bedcc5a",
   "metadata": {
    "execution": {
     "iopub.execute_input": "2022-04-15T07:55:38.684774Z",
     "iopub.status.busy": "2022-04-15T07:55:38.684104Z",
     "iopub.status.idle": "2022-04-15T07:55:38.687883Z",
     "shell.execute_reply": "2022-04-15T07:55:38.687386Z",
     "shell.execute_reply.started": "2022-04-15T07:54:32.149047Z"
    },
    "papermill": {
     "duration": 0.035575,
     "end_time": "2022-04-15T07:55:38.688025",
     "exception": false,
     "start_time": "2022-04-15T07:55:38.652450",
     "status": "completed"
    },
    "tags": []
   },
   "outputs": [
    {
     "name": "stdout",
     "output_type": "stream",
     "text": [
      "13.475436056154722 19369.06072796477\n"
     ]
    }
   ],
   "source": [
    "#Mean X and Y\n",
    "mean_x = np.mean(X)\n",
    "mean_y = np.mean(Y)\n",
    "\n",
    "#Total number of values\n",
    "m = len(X)\n",
    "\n",
    "#using the formula to calculate b1 and b2\n",
    "numer = 0\n",
    "denom = 0\n",
    "for i in range(m):\n",
    "    numer += (X[i] - mean_x) * (Y[i]- mean_y)\n",
    "    denom += (X[i] - mean_x) ** 2\n",
    "b1 = numer/denom\n",
    "b0 = mean_y - (b1 * mean_x)\n",
    "\n",
    "#Print coefficients\n",
    "print(b1,b0)"
   ]
  },
  {
   "cell_type": "code",
   "execution_count": 18,
   "id": "83d7dad6",
   "metadata": {
    "execution": {
     "iopub.execute_input": "2022-04-15T07:55:38.745592Z",
     "iopub.status.busy": "2022-04-15T07:55:38.744922Z",
     "iopub.status.idle": "2022-04-15T07:55:38.747021Z",
     "shell.execute_reply": "2022-04-15T07:55:38.747524Z",
     "shell.execute_reply.started": "2022-04-15T07:54:32.162079Z"
    },
    "papermill": {
     "duration": 0.034288,
     "end_time": "2022-04-15T07:55:38.747688",
     "exception": false,
     "start_time": "2022-04-15T07:55:38.713400",
     "status": "completed"
    },
    "tags": []
   },
   "outputs": [],
   "source": [
    "%matplotlib inline\n",
    "import matplotlib.pyplot as plt\n",
    "plt.rcParams['figure.figsize'] = (20.0, 10.0)\n"
   ]
  },
  {
   "cell_type": "code",
   "execution_count": 19,
   "id": "399ff64f",
   "metadata": {
    "execution": {
     "iopub.execute_input": "2022-04-15T07:55:38.801754Z",
     "iopub.status.busy": "2022-04-15T07:55:38.801130Z",
     "iopub.status.idle": "2022-04-15T07:55:39.106031Z",
     "shell.execute_reply": "2022-04-15T07:55:39.105524Z",
     "shell.execute_reply.started": "2022-04-15T07:54:32.175332Z"
    },
    "papermill": {
     "duration": 0.333537,
     "end_time": "2022-04-15T07:55:39.106202",
     "exception": false,
     "start_time": "2022-04-15T07:55:38.772665",
     "status": "completed"
    },
    "tags": []
   },
   "outputs": [
    {
     "data": {
      "image/png": "[encoded data removed]",
      "text/plain": [
       "<Figure size 1440x720 with 1 Axes>"
      ]
     },
     "metadata": {
      "needs_background": "light"
     },
     "output_type": "display_data"
    }
   ],
   "source": [
    "#Plotting values and regression line\n",
    "max_x = np.max(X) + 100\n",
    "min_x = np.min(X) - 100\n",
    "\n",
    "#Calculating line values x and y\n",
    "x = np.linspace(min_x, max_x, 1000)\n",
    "y = b0 + b1 * x\n",
    "\n",
    "#Ploting line\n",
    "plt.plot(x,y, color='#58b970', label = 'Regression Line')\n",
    "\n",
    "#PLoting Scatter Points\n",
    "plt.scatter(X,Y, c='#ef5423', label='Scatter PLot')\n",
    "\n",
    "plt.xlabel('HMSP')\n",
    "plt.ylabel('GGRM')\n",
    "plt.legend()\n",
    "plt.show()"
   ]
  },
  {
   "cell_type": "code",
   "execution_count": 20,
   "id": "d495d29d",
   "metadata": {
    "execution": {
     "iopub.execute_input": "2022-04-15T07:55:39.166864Z",
     "iopub.status.busy": "2022-04-15T07:55:39.165342Z",
     "iopub.status.idle": "2022-04-15T07:55:39.436195Z",
     "shell.execute_reply": "2022-04-15T07:55:39.436659Z",
     "shell.execute_reply.started": "2022-04-15T07:54:32.458160Z"
    },
    "papermill": {
     "duration": 0.301695,
     "end_time": "2022-04-15T07:55:39.436825",
     "exception": false,
     "start_time": "2022-04-15T07:55:39.135130",
     "status": "completed"
    },
    "tags": []
   },
   "outputs": [
    {
     "data": {
      "image/png": "[encoded data removed]",
      "text/plain": [
       "<Figure size 1440x720 with 1 Axes>"
      ]
     },
     "metadata": {
      "needs_background": "light"
     },
     "output_type": "display_data"
    }
   ],
   "source": [
    "data.plot(x='HMSP', y='GGRM', style='o')\n",
    "plt.title('HMSP and GGRM Precentage')\n",
    "plt.xlabel('GGRM')\n",
    "plt.ylabel('HMSP')\n",
    "plt.show()"
   ]
  },
  {
   "cell_type": "markdown",
   "id": "9a028efa",
   "metadata": {
    "papermill": {
     "duration": 0.027552,
     "end_time": "2022-04-15T07:55:39.492509",
     "exception": false,
     "start_time": "2022-04-15T07:55:39.464957",
     "status": "completed"
    },
    "tags": []
   },
   "source": [
    "# **R Squared**"
   ]
  },
  {
   "cell_type": "code",
   "execution_count": 21,
   "id": "21494af7",
   "metadata": {
    "execution": {
     "iopub.execute_input": "2022-04-15T07:55:39.553720Z",
     "iopub.status.busy": "2022-04-15T07:55:39.553085Z",
     "iopub.status.idle": "2022-04-15T07:55:39.555510Z",
     "shell.execute_reply": "2022-04-15T07:55:39.555947Z",
     "shell.execute_reply.started": "2022-04-15T07:54:32.719192Z"
    },
    "papermill": {
     "duration": 0.035959,
     "end_time": "2022-04-15T07:55:39.556102",
     "exception": false,
     "start_time": "2022-04-15T07:55:39.520143",
     "status": "completed"
    },
    "tags": []
   },
   "outputs": [
    {
     "name": "stdout",
     "output_type": "stream",
     "text": [
      "0.2704476884667929\n"
     ]
    }
   ],
   "source": [
    "ss_t = 0\n",
    "ss_r = 0\n",
    "for i in range(m):\n",
    "    y_pred = b0 + b1 * X[i]\n",
    "    ss_t += (Y[i] - mean_y) ** 2\n",
    "    ss_r += (Y[i] - y_pred) ** 2\n",
    "r2 = 1 - (ss_r/ss_t)\n",
    "print(r2)"
   ]
  }
 ],
 "metadata": {
  "kernelspec": {
   "display_name": "Python 3",
   "language": "python",
   "name": "python3"
  },
  "language_info": {
   "codemirror_mode": {
    "name": "ipython",
    "version": 3
   },
   "file_extension": ".py",
   "mimetype": "text/x-python",
   "name": "python",
   "nbconvert_exporter": "python",
   "pygments_lexer": "ipython3",
   "version": "3.7.12"
  },
  "papermill": {
   "default_parameters": {},
   "duration": 12.924115,
   "end_time": "2022-04-15T07:55:40.293513",
   "environment_variables": {},
   "exception": null,
   "input_path": "__notebook__.ipynb",
   "output_path": "__notebook__.ipynb",
   "parameters": {},
   "start_time": "2022-04-15T07:55:27.369398",
   "version": "2.3.3"
  }
 },
 "nbformat": 4,
 "nbformat_minor": 5
}
